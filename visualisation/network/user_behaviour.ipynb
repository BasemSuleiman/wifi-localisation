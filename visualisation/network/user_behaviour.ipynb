{
 "cells": [
  {
   "cell_type": "code",
   "execution_count": 33,
   "metadata": {},
   "outputs": [],
   "source": [
    "import pandas as pd\n",
    "import numpy as np\n",
    "import json"
   ]
  },
  {
   "cell_type": "code",
   "execution_count": 60,
   "metadata": {},
   "outputs": [],
   "source": [
    "import xmltodict\n",
    "\n",
    "with open('/Users/YXIAO/Dropbox/MDS/DATA5709/data/df_train_user_colour_4.xgml') as f:\n",
    "    xml_to_json = xmltodict.parse(f.read())\n",
    "\n",
    "graph = json.loads(json.dumps(xml_to_json))"
   ]
  },
  {
   "cell_type": "code",
   "execution_count": 35,
   "metadata": {},
   "outputs": [],
   "source": [
    "df = pd.read_csv('/Users/YXIAO/Dropbox/MDS/DATA5709/data/df_train_user.csv')"
   ]
  },
  {
   "cell_type": "code",
   "execution_count": 36,
   "metadata": {},
   "outputs": [
    {
     "data": {
      "text/html": [
       "<div>\n",
       "<style scoped>\n",
       "    .dataframe tbody tr th:only-of-type {\n",
       "        vertical-align: middle;\n",
       "    }\n",
       "\n",
       "    .dataframe tbody tr th {\n",
       "        vertical-align: top;\n",
       "    }\n",
       "\n",
       "    .dataframe thead th {\n",
       "        text-align: right;\n",
       "    }\n",
       "</style>\n",
       "<table border=\"1\" class=\"dataframe\">\n",
       "  <thead>\n",
       "    <tr style=\"text-align: right;\">\n",
       "      <th></th>\n",
       "      <th>Unnamed: 0</th>\n",
       "      <th>USERID</th>\n",
       "      <th>SOURCE</th>\n",
       "      <th>TARGET</th>\n",
       "      <th>MMDD</th>\n",
       "      <th>TIMELAPSED</th>\n",
       "      <th>AVG_TIME</th>\n",
       "    </tr>\n",
       "  </thead>\n",
       "  <tbody>\n",
       "    <tr>\n",
       "      <th>0</th>\n",
       "      <td>18221</td>\n",
       "      <td>1</td>\n",
       "      <td>loc00002</td>\n",
       "      <td>loc00004</td>\n",
       "      <td>610</td>\n",
       "      <td>36.0</td>\n",
       "      <td>29.5</td>\n",
       "    </tr>\n",
       "    <tr>\n",
       "      <th>1</th>\n",
       "      <td>18220</td>\n",
       "      <td>1</td>\n",
       "      <td>loc00004</td>\n",
       "      <td>loc00007</td>\n",
       "      <td>610</td>\n",
       "      <td>19.0</td>\n",
       "      <td>36.5</td>\n",
       "    </tr>\n",
       "    <tr>\n",
       "      <th>2</th>\n",
       "      <td>18224</td>\n",
       "      <td>1</td>\n",
       "      <td>loc00007</td>\n",
       "      <td>loc00009</td>\n",
       "      <td>610</td>\n",
       "      <td>29.0</td>\n",
       "      <td>30.0</td>\n",
       "    </tr>\n",
       "    <tr>\n",
       "      <th>3</th>\n",
       "      <td>18223</td>\n",
       "      <td>1</td>\n",
       "      <td>loc00009</td>\n",
       "      <td>loc00011</td>\n",
       "      <td>610</td>\n",
       "      <td>27.0</td>\n",
       "      <td>29.5</td>\n",
       "    </tr>\n",
       "    <tr>\n",
       "      <th>4</th>\n",
       "      <td>18222</td>\n",
       "      <td>1</td>\n",
       "      <td>loc00011</td>\n",
       "      <td>loc00016</td>\n",
       "      <td>610</td>\n",
       "      <td>17.0</td>\n",
       "      <td>27.5</td>\n",
       "    </tr>\n",
       "  </tbody>\n",
       "</table>\n",
       "</div>"
      ],
      "text/plain": [
       "   Unnamed: 0  USERID    SOURCE    TARGET  MMDD  TIMELAPSED  AVG_TIME\n",
       "0       18221       1  loc00002  loc00004   610        36.0      29.5\n",
       "1       18220       1  loc00004  loc00007   610        19.0      36.5\n",
       "2       18224       1  loc00007  loc00009   610        29.0      30.0\n",
       "3       18223       1  loc00009  loc00011   610        27.0      29.5\n",
       "4       18222       1  loc00011  loc00016   610        17.0      27.5"
      ]
     },
     "execution_count": 36,
     "metadata": {},
     "output_type": "execute_result"
    }
   ],
   "source": [
    "df.head()"
   ]
  },
  {
   "cell_type": "code",
   "execution_count": 37,
   "metadata": {},
   "outputs": [],
   "source": [
    "source = [i[3:5] for i in df['SOURCE'].astype(str).values]\n",
    "# target = [i[3:5] for i in df['TARGET'].astype(str).values]"
   ]
  },
  {
   "cell_type": "code",
   "execution_count": 38,
   "metadata": {},
   "outputs": [],
   "source": [
    "building_floor = np.unique(source)"
   ]
  },
  {
   "cell_type": "code",
   "execution_count": 39,
   "metadata": {},
   "outputs": [],
   "source": [
    "data = graph['section']['section']['section']"
   ]
  },
  {
   "cell_type": "code",
   "execution_count": 40,
   "metadata": {},
   "outputs": [],
   "source": [
    "colours = {\n",
    "    '00': '#991F3E',\n",
    "    '01': '#D12A54',\n",
    "    '02': '#FF3366',\n",
    "    '03': '#FF6A8F',\n",
    "    '10': '#D95D39',\n",
    "    '11': '#F18805',\n",
    "    '12': '#F0A202',\n",
    "    '13': '#FFBE56',\n",
    "    '20': '#03256C',\n",
    "    '21': '#2541B2',\n",
    "    '22': '#1768AC',\n",
    "    '23': '#06BEE1',\n",
    "    '24': '#15ECF9',\n",
    "}"
   ]
  },
  {
   "cell_type": "code",
   "execution_count": 41,
   "metadata": {},
   "outputs": [
    {
     "data": {
      "text/plain": [
       "'30.0'"
      ]
     },
     "execution_count": 41,
     "metadata": {},
     "output_type": "execute_result"
    }
   ],
   "source": [
    "# node width\n",
    "data[0]['section'][0]['attribute'][2]['#text']\n",
    "# node height\n",
    "data[0]['section'][0]['attribute'][3]['#text']"
   ]
  },
  {
   "cell_type": "code",
   "execution_count": 42,
   "metadata": {},
   "outputs": [
    {
     "data": {
      "text/plain": [
       "{'@name': 'node',\n",
       " 'attribute': [{'@key': 'id', '@type': 'int', '#text': '0'},\n",
       "  {'@key': 'label', '@type': 'String', '#text': '00002'}],\n",
       " 'section': [{'@name': 'graphics',\n",
       "   'attribute': [{'@key': 'x',\n",
       "     '@type': 'double',\n",
       "     '#text': '121.44527776272753'},\n",
       "    {'@key': 'y', '@type': 'double', '#text': '938.5520485988598'},\n",
       "    {'@key': 'w', '@type': 'double', '#text': '30.0'},\n",
       "    {'@key': 'h', '@type': 'double', '#text': '30.0'},\n",
       "    {'@key': 'type', '@type': 'String', '#text': 'ellipse'},\n",
       "    {'@key': 'raisedBorder', '@type': 'boolean', '#text': 'false'},\n",
       "    {'@key': 'fill', '@type': 'String', '#text': '#FFCC00'},\n",
       "    {'@key': 'outline', '@type': 'String', '#text': '#000000'}]},\n",
       "  {'@name': 'LabelGraphics',\n",
       "   'attribute': [{'@key': 'text', '@type': 'String', '#text': '00002'},\n",
       "    {'@key': 'fontSize', '@type': 'int', '#text': '12'},\n",
       "    {'@key': 'fontName', '@type': 'String', '#text': 'Dialog'},\n",
       "    {'@key': 'model'}]}]}"
      ]
     },
     "execution_count": 42,
     "metadata": {},
     "output_type": "execute_result"
    }
   ],
   "source": [
    "# loc label\n",
    "data[0]"
   ]
  },
  {
   "cell_type": "code",
   "execution_count": 43,
   "metadata": {},
   "outputs": [
    {
     "data": {
      "text/plain": [
       "'#FFCC00'"
      ]
     },
     "execution_count": 43,
     "metadata": {},
     "output_type": "execute_result"
    }
   ],
   "source": [
    "data[0]['section'][0]['attribute'][6]['#text'] "
   ]
  },
  {
   "cell_type": "code",
   "execution_count": 44,
   "metadata": {},
   "outputs": [
    {
     "data": {
      "text/plain": [
       "{'@name': 'edge',\n",
       " 'attribute': [{'@key': 'source', '@type': 'int', '#text': '612'},\n",
       "  {'@key': 'target', '@type': 'int', '#text': '613'},\n",
       "  {'@key': 'label', '@type': 'String', '#text': '4.0'}],\n",
       " 'section': [{'@name': 'graphics',\n",
       "   'attribute': [{'@key': 'fill', '@type': 'String', '#text': '#000000'},\n",
       "    {'@key': 'targetArrow', '@type': 'String', '#text': 'standard'}]},\n",
       "  {'@name': 'LabelGraphics',\n",
       "   'attribute': [{'@key': 'text', '@type': 'String', '#text': '4.0'},\n",
       "    {'@key': 'fontSize', '@type': 'int', '#text': '12'},\n",
       "    {'@key': 'fontName', '@type': 'String', '#text': 'Dialog'},\n",
       "    {'@key': 'model', '@type': 'String', '#text': 'six_pos'},\n",
       "    {'@key': 'position', '@type': 'String', '#text': 'tail'}]}]}"
      ]
     },
     "execution_count": 44,
     "metadata": {},
     "output_type": "execute_result"
    }
   ],
   "source": [
    "data[1624]"
   ]
  },
  {
   "cell_type": "code",
   "execution_count": 45,
   "metadata": {},
   "outputs": [
    {
     "data": {
      "text/plain": [
       "'#000000'"
      ]
     },
     "execution_count": 45,
     "metadata": {},
     "output_type": "execute_result"
    }
   ],
   "source": [
    "data[964]['section'][0]['attribute'][0]['#text']"
   ]
  },
  {
   "cell_type": "code",
   "execution_count": 61,
   "metadata": {},
   "outputs": [],
   "source": [
    "for i in range(df.shape[0]):\n",
    "    if data[i]['@name'] == 'node':\n",
    "        node = data[i]['attribute'][1]['#text'][:2]\n",
    "        if node in building_floor:\n",
    "            # change node colour\n",
    "            data[i]['section'][0]['attribute'][6]['#text'] = colours[node]\n",
    "            # change node size\n",
    "            if df.loc[i, 'AVG_TIME'] < 1 * 3600:\n",
    "                data[i]['section'][0]['attribute'][2]['#text'] = str(20)\n",
    "                data[i]['section'][0]['attribute'][3]['#text'] = str(20)\n",
    "            elif df.loc[i, 'AVG_TIME'] >= 1 * 3600 and df.loc[i, 'AVG_TIME'] < 3 * 3600:\n",
    "                data[i]['section'][0]['attribute'][2]['#text'] = str(40)\n",
    "                data[i]['section'][0]['attribute'][3]['#text'] = str(40)\n",
    "            elif df.loc[i, 'AVG_TIME'] >= 3 * 3600 and df.loc[i, 'AVG_TIME'] < 6 * 3600:\n",
    "                data[i]['section'][0]['attribute'][2]['#text'] = str(60)\n",
    "                data[i]['section'][0]['attribute'][3]['#text'] = str(60)\n",
    "            elif df.loc[i, 'AVG_TIME'] >= 6 * 3600 and df.loc[i, 'AVG_TIME'] < 9 * 3600:\n",
    "                data[i]['section'][0]['attribute'][2]['#text'] = str(80)\n",
    "                data[i]['section'][0]['attribute'][3]['#text'] = str(80)\n",
    "            elif df.loc[i, 'AVG_TIME'] >= 9 * 3600:\n",
    "                data[i]['section'][0]['attribute'][2]['#text'] = str(100)\n",
    "                data[i]['section'][0]['attribute'][3]['#text'] = str(100)       \n",
    "    # change edge width\n",
    "    elif data[i]['@name'] == 'edge':\n",
    "        if data[i]['section'][1]['attribute'][0]['#text'] == '2.0':\n",
    "            data[i]['section'][0]['attribute'][0]['#text'] = '3'\n",
    "        elif data[i]['section'][1]['attribute'][0]['#text'] == '3.0':\n",
    "            data[i]['section'][0]['attribute'][0]['#text'] = '6'\n",
    "        elif data[i]['section'][1]['attribute'][0]['#text'] == '4.0':\n",
    "            data[i]['section'][0]['attribute'][0]['#text'] = '12'\n",
    "        "
   ]
  },
  {
   "cell_type": "code",
   "execution_count": 62,
   "metadata": {},
   "outputs": [
    {
     "data": {
      "text/plain": [
       "'#991F3E'"
      ]
     },
     "execution_count": 62,
     "metadata": {},
     "output_type": "execute_result"
    }
   ],
   "source": [
    "data[0]['section'][0]['attribute'][6]['#text'] "
   ]
  },
  {
   "cell_type": "code",
   "execution_count": 63,
   "metadata": {},
   "outputs": [
    {
     "data": {
      "text/plain": [
       "'12'"
      ]
     },
     "execution_count": 63,
     "metadata": {},
     "output_type": "execute_result"
    }
   ],
   "source": [
    "data[1624]['section'][0]['attribute'][0]['#text']"
   ]
  },
  {
   "cell_type": "code",
   "execution_count": 64,
   "metadata": {},
   "outputs": [],
   "source": [
    "json_to_xml = xmltodict.unparse(graph, pretty=True)\n",
    "\n",
    "with open('/Users/YXIAO/Dropbox/MDS/DATA5709/data/df_train_user_colour_5.xgml', 'w') as output_file:\n",
    "    output_file.write(json_to_xml)"
   ]
  },
  {
   "cell_type": "code",
   "execution_count": null,
   "metadata": {},
   "outputs": [],
   "source": []
  }
 ],
 "metadata": {
  "kernelspec": {
   "display_name": "Python 3",
   "language": "python",
   "name": "python3"
  },
  "language_info": {
   "codemirror_mode": {
    "name": "ipython",
    "version": 3
   },
   "file_extension": ".py",
   "mimetype": "text/x-python",
   "name": "python",
   "nbconvert_exporter": "python",
   "pygments_lexer": "ipython3",
   "version": "3.7.6"
  }
 },
 "nbformat": 4,
 "nbformat_minor": 4
}
