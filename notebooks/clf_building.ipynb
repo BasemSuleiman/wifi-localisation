{
 "cells": [
  {
   "cell_type": "code",
   "execution_count": 1,
   "metadata": {},
   "outputs": [],
   "source": [
    "import sys\n",
    "sys.path.append('..')\n",
    "\n",
    "from utils.misc import *\n",
    "from utils.classifier import *\n",
    "from utils.visualiser import *"
   ]
  },
  {
   "cell_type": "markdown",
   "metadata": {},
   "source": [
    "## Loading pre-processed data"
   ]
  },
  {
   "cell_type": "code",
   "execution_count": 2,
   "metadata": {},
   "outputs": [],
   "source": [
    "df_train = pd.read_csv(\"../data/train/df_train.csv\", index_col=0)\n",
    "df_train_b0 = pd.read_csv(\"../data/train/df_train_b0.csv\", index_col=0)\n",
    "df_train_b1 = pd.read_csv(\"../data/train/df_train_b1.csv\", index_col=0)\n",
    "df_train_b2 = pd.read_csv(\"../data/train/df_train_b2.csv\", index_col=0)\n",
    "\n",
    "df_test = pd.read_csv(\"../data/test/df_test.csv\", index_col=0)\n",
    "df_test_b0 = pd.read_csv(\"../data/test/df_test_b0.csv\", index_col=0)\n",
    "df_test_b1 = pd.read_csv(\"../data/test/df_test_b1.csv\", index_col=0)\n",
    "df_test_b2 = pd.read_csv(\"../data/test/df_test_b2.csv\", index_col=0)\n",
    "\n",
    "df_train_wap = np.load(\"../data/train/df_train_wap.npy\", allow_pickle=True)\n",
    "df_train_b0_wap = np.load(\"../data/train/df_train_b0_wap.npy\", allow_pickle=True)\n",
    "df_train_b1_wap = np.load(\"../data/train/df_train_b1_wap.npy\", allow_pickle=True)\n",
    "df_train_b2_wap = np.load(\"../data/train/df_train_b2_wap.npy\", allow_pickle=True)\n",
    "\n",
    "df_test_wap = np.load(\"../data/test/df_test_wap.npy\", allow_pickle=True)\n",
    "df_test_b0_wap = np.load(\"../data/test/df_test_b0_wap.npy\", allow_pickle=True)\n",
    "df_test_b1_wap = np.load(\"../data/test/df_test_b1_wap.npy\", allow_pickle=True)\n",
    "df_test_b2_wap = np.load(\"../data/test/df_test_b2_wap.npy\", allow_pickle=True)"
   ]
  },
  {
   "cell_type": "markdown",
   "metadata": {},
   "source": [
    "## First approach"
   ]
  },
  {
   "cell_type": "code",
   "execution_count": 3,
   "metadata": {},
   "outputs": [
    {
     "name": "stdout",
     "output_type": "stream",
     "text": [
      "Average balanced accuracy: 99.78% ± 0.38%\n",
      "CPU times: user 1min 54s, sys: 1.11 s, total: 1min 56s\n",
      "Wall time: 2min 7s\n"
     ]
    }
   ],
   "source": [
    "%%time\n",
    "\n",
    "cvs = classification(df_train, df_train_wap, 'building', 'knn')\n",
    "print(\"Average balanced accuracy: %.2f%% ± %.2f%%\" % (mean_ci(cvs)[0]* 100, mean_ci(cvs)[1] * 100))"
   ]
  },
  {
   "cell_type": "code",
   "execution_count": 4,
   "metadata": {
    "scrolled": true
   },
   "outputs": [
    {
     "name": "stdout",
     "output_type": "stream",
     "text": [
      "Average balanced accuracy: 99.95% ± 0.12%\n",
      "CPU times: user 34.1 s, sys: 1.16 s, total: 35.3 s\n",
      "Wall time: 20.2 s\n"
     ]
    }
   ],
   "source": [
    "%%time\n",
    "\n",
    "cvs = classification(df_train, df_train_wap, 'building', 'lr')\n",
    "print(\"Average balanced accuracy: %.2f%% ± %.2f%%\" % (mean_ci(cvs)[0]* 100, mean_ci(cvs)[1] * 100))"
   ]
  },
  {
   "cell_type": "code",
   "execution_count": 5,
   "metadata": {},
   "outputs": [
    {
     "name": "stdout",
     "output_type": "stream",
     "text": [
      "Average balanced accuracy: 99.78% ± 0.45%\n",
      "CPU times: user 10.5 s, sys: 457 ms, total: 11 s\n",
      "Wall time: 11.3 s\n"
     ]
    }
   ],
   "source": [
    "%%time\n",
    "\n",
    "cvs = classification(df_train, df_train_wap, 'building', 'svm')\n",
    "print(\"Average balanced accuracy: %.2f%% ± %.2f%%\" % (mean_ci(cvs)[0]* 100, mean_ci(cvs)[1] * 100))"
   ]
  },
  {
   "cell_type": "markdown",
   "metadata": {},
   "source": [
    "### Test result"
   ]
  },
  {
   "cell_type": "code",
   "execution_count": 6,
   "metadata": {},
   "outputs": [
    {
     "name": "stdout",
     "output_type": "stream",
     "text": [
      "Test accuracy: 99.24%\n"
     ]
    }
   ],
   "source": [
    "clf = KNeighborsClassifier(n_neighbors=3, p=2, algorithm='kd_tree')\n",
    "clf.fit(df_train_wap, df_train['BUILDINGID'])\n",
    "pred = clf.predict(df_test_wap)\n",
    "print(\"Test accuracy: %.2f%%\" % (balanced_accuracy_score(df_test['BUILDINGID'], pred) * 100))"
   ]
  },
  {
   "cell_type": "code",
   "execution_count": 7,
   "metadata": {},
   "outputs": [
    {
     "name": "stdout",
     "output_type": "stream",
     "text": [
      "Test accuracy: 100.00%\n"
     ]
    }
   ],
   "source": [
    "clf = LogisticRegression(random_state=1)\n",
    "clf.fit(df_train_wap, df_train['BUILDINGID'])\n",
    "pred = clf.predict(df_test_wap)\n",
    "print(\"Test accuracy: %.2f%%\" % (balanced_accuracy_score(df_test['BUILDINGID'], pred) * 100))"
   ]
  },
  {
   "cell_type": "code",
   "execution_count": 8,
   "metadata": {},
   "outputs": [
    {
     "name": "stdout",
     "output_type": "stream",
     "text": [
      "Test accuracy: 99.50%\n"
     ]
    }
   ],
   "source": [
    "clf = SVC(kernel='linear', C=0.1, random_state=1)\n",
    "clf.fit(df_train_wap, df_train['BUILDINGID'])\n",
    "pred = clf.predict(df_test_wap)\n",
    "print(\"Test accuracy: %.2f%%\" % (balanced_accuracy_score(df_test['BUILDINGID'], pred) * 100))"
   ]
  },
  {
   "cell_type": "markdown",
   "metadata": {},
   "source": [
    "## Second approach\n",
    "\n",
    "Each building has an exclusive subset of WAPs. As long as a WiFi fingerprint has RSSI values from some of these building-specific WAPs, we can assign the WiFi fingerprint to such a building."
   ]
  },
  {
   "cell_type": "code",
   "execution_count": 9,
   "metadata": {},
   "outputs": [
    {
     "name": "stdout",
     "output_type": "stream",
     "text": [
      "Total number of WAPs in use in building 0:  200\n",
      "Total number of WAPs in use in building 1:  207\n",
      "Total number of WAPs in use in building 2:  203\n"
     ]
    }
   ],
   "source": [
    "print(\"Total number of WAPs in use in building 0: \",  \n",
    "      df_train_b0.iloc[:, :465].astype(bool).sum(axis=0).astype(bool).sum())\n",
    "print(\"Total number of WAPs in use in building 1: \",  \n",
    "      df_train_b1.iloc[:, :465].astype(bool).sum(axis=0).astype(bool).sum())\n",
    "print(\"Total number of WAPs in use in building 2: \",  \n",
    "      df_train_b2.iloc[:, :465].astype(bool).sum(axis=0).astype(bool).sum())"
   ]
  },
  {
   "cell_type": "code",
   "execution_count": 10,
   "metadata": {
    "scrolled": true
   },
   "outputs": [
    {
     "data": {
      "text/plain": [
       "BUILDINGID\n",
       "0    137\n",
       "1     69\n",
       "2    117\n",
       "dtype: int64"
      ]
     },
     "execution_count": 10,
     "metadata": {},
     "output_type": "execute_result"
    }
   ],
   "source": [
    "# convert RSSI vectors into dummy variables\n",
    "df_wap_bool = df_train.iloc[:, :465].astype(bool)\n",
    "df_wap_building = pd.concat([df_wap_bool, df_train['BUILDINGID']], axis=1)\n",
    "\n",
    "# The occurrence of WAPs in each building\n",
    "df_wap_building = df_wap_building.groupby('BUILDINGID').sum().astype(bool)\n",
    "# WAPs only in one building\n",
    "exclusive_waps = np.where(df_wap_building.sum(axis=0) == 1)\n",
    "\n",
    "# count how many unique WAPs in one building\n",
    "df_wap_building[df_wap_building.columns[exclusive_waps]].sum(axis=1)"
   ]
  },
  {
   "cell_type": "code",
   "execution_count": 11,
   "metadata": {},
   "outputs": [
    {
     "name": "stdout",
     "output_type": "stream",
     "text": [
      "Average balanced accuracy: 99.86% ± 0.11%\n",
      "CPU times: user 4.37 s, sys: 232 ms, total: 4.6 s\n",
      "Wall time: 3.96 s\n"
     ]
    }
   ],
   "source": [
    "%%time\n",
    "\n",
    "clf = MultinomialNB()\n",
    "cvs = cross_val_score(clf, df_wap_bool, df_train['BUILDINGID'], \n",
    "                      scoring=make_scorer(balanced_accuracy_score), cv=10)\n",
    "print(\"Average balanced accuracy: %.2f%% ± %.2f%%\" % (mean_ci(cvs)[0]* 100, mean_ci(cvs)[1] * 100))"
   ]
  },
  {
   "cell_type": "markdown",
   "metadata": {},
   "source": [
    "### Test result"
   ]
  },
  {
   "cell_type": "code",
   "execution_count": 12,
   "metadata": {},
   "outputs": [
    {
     "name": "stdout",
     "output_type": "stream",
     "text": [
      "Test accuracy: 99.88%\n"
     ]
    }
   ],
   "source": [
    "df_wap_bool = df_train.iloc[:, :465].astype(bool)\n",
    "building = df_train['BUILDINGID']\n",
    "clf.fit(df_wap_bool, building)\n",
    "\n",
    "df_wap_bool = df_test.iloc[:, :465].astype(bool)\n",
    "building = df_test['BUILDINGID']\n",
    "pred = clf.predict(df_wap_bool)\n",
    "\n",
    "print(\"Test accuracy: %.2f%%\" % (balanced_accuracy_score(building, pred) * 100))"
   ]
  },
  {
   "cell_type": "code",
   "execution_count": null,
   "metadata": {},
   "outputs": [],
   "source": []
  }
 ],
 "metadata": {
  "kernelspec": {
   "display_name": "Python 3.8.0 64-bit ('venv': virtualenv)",
   "language": "python",
   "name": "python38064bitvenvvirtualenve617f17e49084a7c973a4e86cf48a722"
  },
  "language_info": {
   "codemirror_mode": {
    "name": "ipython",
    "version": 3
   },
   "file_extension": ".py",
   "mimetype": "text/x-python",
   "name": "python",
   "nbconvert_exporter": "python",
   "pygments_lexer": "ipython3",
   "version": "3.8.0"
  }
 },
 "nbformat": 4,
 "nbformat_minor": 2
}
