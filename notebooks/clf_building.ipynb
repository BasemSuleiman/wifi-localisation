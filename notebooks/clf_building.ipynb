{
 "cells": [
  {
   "cell_type": "code",
   "execution_count": 6,
   "metadata": {},
   "outputs": [],
   "source": [
    "import sys\n",
    "sys.path.append('..')\n",
    "\n",
    "from utils.misc import *\n",
    "from utils.classifier import *\n",
    "from utils.visualiser import *"
   ]
  },
  {
   "cell_type": "markdown",
   "metadata": {},
   "source": [
    "## Loading data"
   ]
  },
  {
   "cell_type": "code",
   "execution_count": 9,
   "metadata": {},
   "outputs": [],
   "source": [
    "# train\n",
    "df_train = pd.read_csv(\"../data/train/df_train.csv\")\n",
    "\n",
    "df_train_b0 = pd.read_csv(\"../data/train/df_train_b0.csv\")\n",
    "df_train_b1 = pd.read_csv(\"../data/train/df_train_b1.csv\")\n",
    "df_train_b2 = pd.read_csv(\"../data/train/df_train_b2.csv\")\n",
    "\n",
    "df_train_b0_f0 = pd.read_csv(\"../data/train/df_train_b0_f0.csv\")\n",
    "df_train_b0_f1 = pd.read_csv(\"../data/train/df_train_b0_f1.csv\")\n",
    "df_train_b0_f2 = pd.read_csv(\"../data/train/df_train_b0_f2.csv\")\n",
    "df_train_b0_f3 = pd.read_csv(\"../data/train/df_train_b0_f3.csv\")\n",
    "\n",
    "df_train_b1_f0 = pd.read_csv(\"../data/train/df_train_b1_f0.csv\")\n",
    "df_train_b1_f1 = pd.read_csv(\"../data/train/df_train_b1_f1.csv\")\n",
    "df_train_b1_f2 = pd.read_csv(\"../data/train/df_train_b1_f2.csv\")\n",
    "df_train_b1_f3 = pd.read_csv(\"../data/train/df_train_b1_f3.csv\")\n",
    "\n",
    "df_train_b2_f0 = pd.read_csv(\"../data/train/df_train_b2_f0.csv\")\n",
    "df_train_b2_f1 = pd.read_csv(\"../data/train/df_train_b2_f1.csv\")\n",
    "df_train_b2_f2 = pd.read_csv(\"../data/train/df_train_b2_f2.csv\")\n",
    "df_train_b2_f3 = pd.read_csv(\"../data/train/df_train_b2_f3.csv\")\n",
    "df_train_b2_f4 = pd.read_csv(\"../data/train/df_train_b2_f4.csv\")\n",
    "\n",
    "df_train_wap = np.load(\"../data/train/df_train_wap.npy\", allow_pickle=True)\n",
    "\n",
    "df_train_b0_wap = np.load(\"../data/train/df_train_b0_wap.npy\", allow_pickle=True)\n",
    "df_train_b1_wap = np.load(\"../data/train/df_train_b1_wap.npy\", allow_pickle=True)\n",
    "df_train_b2_wap = np.load(\"../data/train/df_train_b2_wap.npy\", allow_pickle=True)\n",
    "\n",
    "df_train_b0_f0_wap = np.load(\"../data/train/df_train_b0_f0_wap.npy\", allow_pickle=True)\n",
    "df_train_b0_f1_wap = np.load(\"../data/train/df_train_b0_f1_wap.npy\", allow_pickle=True)\n",
    "df_train_b0_f2_wap = np.load(\"../data/train/df_train_b0_f2_wap.npy\", allow_pickle=True)\n",
    "df_train_b0_f3_wap = np.load(\"../data/train/df_train_b0_f3_wap.npy\", allow_pickle=True)\n",
    "\n",
    "df_train_b1_f0_wap = np.load(\"../data/train/df_train_b1_f0_wap.npy\", allow_pickle=True)\n",
    "df_train_b1_f1_wap = np.load(\"../data/train/df_train_b1_f1_wap.npy\", allow_pickle=True)\n",
    "df_train_b1_f2_wap = np.load(\"../data/train/df_train_b1_f2_wap.npy\", allow_pickle=True)\n",
    "df_train_b1_f3_wap = np.load(\"../data/train/df_train_b1_f3_wap.npy\", allow_pickle=True)\n",
    "\n",
    "df_train_b2_f0_wap = np.load(\"../data/train/df_train_b2_f0_wap.npy\", allow_pickle=True)\n",
    "df_train_b2_f1_wap = np.load(\"../data/train/df_train_b2_f1_wap.npy\", allow_pickle=True)\n",
    "df_train_b2_f2_wap = np.load(\"../data/train/df_train_b2_f2_wap.npy\", allow_pickle=True)\n",
    "df_train_b2_f3_wap = np.load(\"../data/train/df_train_b2_f3_wap.npy\", allow_pickle=True)\n",
    "df_train_b2_f4_wap = np.load(\"../data/train/df_train_b2_f4_wap.npy\", allow_pickle=True)"
   ]
  }
 ],
 "metadata": {
  "language_info": {
   "codemirror_mode": {
    "name": "ipython",
    "version": 3
   },
   "file_extension": ".py",
   "mimetype": "text/x-python",
   "name": "python",
   "nbconvert_exporter": "python",
   "pygments_lexer": "ipython3",
   "version": "3.8.0-final"
  },
  "orig_nbformat": 2,
  "kernelspec": {
   "name": "python38064bitvenvvirtualenve617f17e49084a7c973a4e86cf48a722",
   "display_name": "Python 3.8.0 64-bit ('venv': virtualenv)"
  }
 },
 "nbformat": 4,
 "nbformat_minor": 2
}