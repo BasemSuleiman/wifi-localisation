{
 "cells": [
  {
   "cell_type": "code",
   "execution_count": 1,
   "metadata": {},
   "outputs": [],
   "source": [
    "import sys\n",
    "sys.path.append('..')\n",
    "\n",
    "from utils.misc import *\n",
    "from utils.classifier import *\n",
    "from utils.visualiser import *"
   ]
  },
  {
   "cell_type": "markdown",
   "metadata": {},
   "source": [
    "## Loading pre-processed data"
   ]
  },
  {
   "cell_type": "code",
   "execution_count": 2,
   "metadata": {},
   "outputs": [],
   "source": [
    "# train\n",
    "df_train = pd.read_csv(\"../data/train/df_train.csv\", index_col=0)\n",
    "\n",
    "df_train_b0 = pd.read_csv(\"../data/train/df_train_b0.csv\", index_col=0)\n",
    "df_train_b1 = pd.read_csv(\"../data/train/df_train_b1.csv\", index_col=0)\n",
    "df_train_b2 = pd.read_csv(\"../data/train/df_train_b2.csv\", index_col=0)"
   ]
  },
  {
   "cell_type": "code",
   "execution_count": 3,
   "metadata": {},
   "outputs": [],
   "source": [
    "df_train_b0_ne = pd.read_csv(\"../data/train/area/df_train_b0_ne.csv\", index_col=0)\n",
    "df_train_b0_nw = pd.read_csv(\"../data/train/area/df_train_b0_nw.csv\", index_col=0)\n",
    "df_train_b0_se = pd.read_csv(\"../data/train/area/df_train_b0_se.csv\", index_col=0)\n",
    "df_train_b0_sw = pd.read_csv(\"../data/train/area/df_train_b0_sw.csv\", index_col=0)"
   ]
  },
  {
   "cell_type": "code",
   "execution_count": 4,
   "metadata": {},
   "outputs": [],
   "source": [
    "df_train_b0_ne_f0 = pd.read_csv(\"../data/train/area/df_train_b0_ne_f0.csv\", index_col=0)\n",
    "df_train_b0_ne_f1 = pd.read_csv(\"../data/train/area/df_train_b0_ne_f1.csv\", index_col=0)\n",
    "df_train_b0_ne_f2 = pd.read_csv(\"../data/train/area/df_train_b0_ne_f2.csv\", index_col=0)\n",
    "df_train_b0_ne_f3 = pd.read_csv(\"../data/train/area/df_train_b0_ne_f3.csv\", index_col=0)\n",
    "\n",
    "df_train_b0_nw_f0 = pd.read_csv(\"../data/train/area/df_train_b0_nw_f0.csv\", index_col=0)\n",
    "df_train_b0_nw_f1 = pd.read_csv(\"../data/train/area/df_train_b0_nw_f1.csv\", index_col=0)\n",
    "df_train_b0_nw_f2 = pd.read_csv(\"../data/train/area/df_train_b0_nw_f2.csv\", index_col=0)\n",
    "df_train_b0_nw_f3 = pd.read_csv(\"../data/train/area/df_train_b0_nw_f3.csv\", index_col=0)\n",
    "\n",
    "df_train_b0_se_f0 = pd.read_csv(\"../data/train/area/df_train_b0_se_f0.csv\", index_col=0)\n",
    "df_train_b0_se_f1 = pd.read_csv(\"../data/train/area/df_train_b0_se_f1.csv\", index_col=0)\n",
    "df_train_b0_se_f2 = pd.read_csv(\"../data/train/area/df_train_b0_se_f2.csv\", index_col=0)\n",
    "df_train_b0_se_f3 = pd.read_csv(\"../data/train/area/df_train_b0_se_f3.csv\", index_col=0)\n",
    "\n",
    "df_train_b0_sw_f0 = pd.read_csv(\"../data/train/area/df_train_b0_sw_f0.csv\", index_col=0)\n",
    "df_train_b0_sw_f1 = pd.read_csv(\"../data/train/area/df_train_b0_sw_f1.csv\", index_col=0)\n",
    "df_train_b0_sw_f2 = pd.read_csv(\"../data/train/area/df_train_b0_sw_f2.csv\", index_col=0)\n",
    "df_train_b0_sw_f3 = pd.read_csv(\"../data/train/area/df_train_b0_sw_f3.csv\", index_col=0)"
   ]
  },
  {
   "cell_type": "code",
   "execution_count": 5,
   "metadata": {},
   "outputs": [],
   "source": [
    "df_train_b1_ne = pd.read_csv(\"../data/train/area/df_train_b1_ne.csv\", index_col=0)\n",
    "df_train_b1_nw = pd.read_csv(\"../data/train/area/df_train_b1_nw.csv\", index_col=0)\n",
    "df_train_b1_se = pd.read_csv(\"../data/train/area/df_train_b1_se.csv\", index_col=0)\n",
    "df_train_b1_sw = pd.read_csv(\"../data/train/area/df_train_b1_sw.csv\", index_col=0)\n",
    "df_train_b1_ct = pd.read_csv(\"../data/train/area/df_train_b1_ct.csv\", index_col=0)"
   ]
  },
  {
   "cell_type": "code",
   "execution_count": 6,
   "metadata": {},
   "outputs": [],
   "source": [
    "df_train_b1_ne_f0 = pd.read_csv(\"../data/train/area/df_train_b1_ne_f0.csv\", index_col=0)\n",
    "df_train_b1_ne_f1 = pd.read_csv(\"../data/train/area/df_train_b1_ne_f1.csv\", index_col=0)\n",
    "df_train_b1_ne_f2 = pd.read_csv(\"../data/train/area/df_train_b1_ne_f2.csv\", index_col=0)\n",
    "df_train_b1_ne_f3 = pd.read_csv(\"../data/train/area/df_train_b1_ne_f3.csv\", index_col=0)\n",
    "\n",
    "df_train_b1_nw_f0 = pd.read_csv(\"../data/train/area/df_train_b1_nw_f0.csv\", index_col=0)\n",
    "df_train_b1_nw_f1 = pd.read_csv(\"../data/train/area/df_train_b1_nw_f1.csv\", index_col=0)\n",
    "df_train_b1_nw_f2 = pd.read_csv(\"../data/train/area/df_train_b1_nw_f2.csv\", index_col=0)\n",
    "df_train_b1_nw_f3 = pd.read_csv(\"../data/train/area/df_train_b1_nw_f3.csv\", index_col=0)\n",
    "\n",
    "df_train_b1_se_f0 = pd.read_csv(\"../data/train/area/df_train_b1_se_f0.csv\", index_col=0)\n",
    "df_train_b1_se_f1 = pd.read_csv(\"../data/train/area/df_train_b1_se_f1.csv\", index_col=0)\n",
    "df_train_b1_se_f2 = pd.read_csv(\"../data/train/area/df_train_b1_se_f2.csv\", index_col=0)\n",
    "df_train_b1_se_f3 = pd.read_csv(\"../data/train/area/df_train_b1_se_f3.csv\", index_col=0)\n",
    "\n",
    "df_train_b1_sw_f0 = pd.read_csv(\"../data/train/area/df_train_b1_sw_f0.csv\", index_col=0)\n",
    "df_train_b1_sw_f1 = pd.read_csv(\"../data/train/area/df_train_b1_sw_f1.csv\", index_col=0)\n",
    "df_train_b1_sw_f2 = pd.read_csv(\"../data/train/area/df_train_b1_sw_f2.csv\", index_col=0)\n",
    "df_train_b1_sw_f3 = pd.read_csv(\"../data/train/area/df_train_b1_sw_f3.csv\", index_col=0)\n",
    "\n",
    "df_train_b1_ct_f0 = pd.read_csv(\"../data/train/area/df_train_b1_ct_f0.csv\", index_col=0)\n",
    "df_train_b1_ct_f1 = pd.read_csv(\"../data/train/area/df_train_b1_ct_f1.csv\", index_col=0)\n",
    "df_train_b1_ct_f2 = pd.read_csv(\"../data/train/area/df_train_b1_ct_f2.csv\", index_col=0)\n",
    "df_train_b1_ct_f3 = pd.read_csv(\"../data/train/area/df_train_b1_ct_f3.csv\", index_col=0)"
   ]
  },
  {
   "cell_type": "code",
   "execution_count": 7,
   "metadata": {},
   "outputs": [],
   "source": [
    "df_train_b2_ne = pd.read_csv(\"../data/train/area/df_train_b2_ne.csv\", index_col=0)\n",
    "df_train_b2_nw = pd.read_csv(\"../data/train/area/df_train_b2_nw.csv\", index_col=0)\n",
    "df_train_b2_se = pd.read_csv(\"../data/train/area/df_train_b2_se.csv\", index_col=0)\n",
    "df_train_b2_sw = pd.read_csv(\"../data/train/area/df_train_b2_sw.csv\", index_col=0)"
   ]
  },
  {
   "cell_type": "code",
   "execution_count": 8,
   "metadata": {},
   "outputs": [],
   "source": [
    "df_train_b2_ne_f0 = pd.read_csv(\"../data/train/area/df_train_b2_ne_f0.csv\", index_col=0)\n",
    "df_train_b2_ne_f1 = pd.read_csv(\"../data/train/area/df_train_b2_ne_f1.csv\", index_col=0)\n",
    "df_train_b2_ne_f2 = pd.read_csv(\"../data/train/area/df_train_b2_ne_f2.csv\", index_col=0)\n",
    "df_train_b2_ne_f3 = pd.read_csv(\"../data/train/area/df_train_b2_ne_f3.csv\", index_col=0)\n",
    "df_train_b2_ne_f4 = pd.read_csv(\"../data/train/area/df_train_b2_ne_f4.csv\", index_col=0)\n",
    "\n",
    "df_train_b2_nw_f0 = pd.read_csv(\"../data/train/area/df_train_b2_nw_f0.csv\", index_col=0)\n",
    "df_train_b2_nw_f1 = pd.read_csv(\"../data/train/area/df_train_b2_nw_f1.csv\", index_col=0)\n",
    "df_train_b2_nw_f2 = pd.read_csv(\"../data/train/area/df_train_b2_nw_f2.csv\", index_col=0)\n",
    "df_train_b2_nw_f3 = pd.read_csv(\"../data/train/area/df_train_b2_nw_f3.csv\", index_col=0)\n",
    "df_train_b2_nw_f4 = pd.read_csv(\"../data/train/area/df_train_b2_nw_f4.csv\", index_col=0)\n",
    "\n",
    "df_train_b2_se_f0 = pd.read_csv(\"../data/train/area/df_train_b2_se_f0.csv\", index_col=0)\n",
    "df_train_b2_se_f1 = pd.read_csv(\"../data/train/area/df_train_b2_se_f1.csv\", index_col=0)\n",
    "df_train_b2_se_f2 = pd.read_csv(\"../data/train/area/df_train_b2_se_f2.csv\", index_col=0)\n",
    "df_train_b2_se_f3 = pd.read_csv(\"../data/train/area/df_train_b2_se_f3.csv\", index_col=0)\n",
    "\n",
    "df_train_b2_sw_f0 = pd.read_csv(\"../data/train/area/df_train_b2_sw_f0.csv\", index_col=0)\n",
    "df_train_b2_sw_f1 = pd.read_csv(\"../data/train/area/df_train_b2_sw_f1.csv\", index_col=0)\n",
    "df_train_b2_sw_f2 = pd.read_csv(\"../data/train/area/df_train_b2_sw_f2.csv\", index_col=0)\n",
    "df_train_b2_sw_f3 = pd.read_csv(\"../data/train/area/df_train_b2_sw_f3.csv\", index_col=0)\n",
    "df_train_b2_sw_f4 = pd.read_csv(\"../data/train/area/df_train_b2_sw_f4.csv\", index_col=0)"
   ]
  },
  {
   "cell_type": "code",
   "execution_count": 9,
   "metadata": {},
   "outputs": [],
   "source": [
    "df_train_wap = np.load(\"../data/train/df_train_wap.npy\", allow_pickle=True)\n",
    "\n",
    "df_train_b0_wap = np.load(\"../data/train/df_train_b0_wap.npy\", allow_pickle=True)\n",
    "df_train_b1_wap = np.load(\"../data/train/df_train_b1_wap.npy\", allow_pickle=True)\n",
    "df_train_b2_wap = np.load(\"../data/train/df_train_b2_wap.npy\", allow_pickle=True)"
   ]
  },
  {
   "cell_type": "code",
   "execution_count": 10,
   "metadata": {},
   "outputs": [],
   "source": [
    "df_train_b0_ne_wap = np.load(\"../data/train/area/df_train_b0_ne_wap.npy\", allow_pickle=True)\n",
    "df_train_b0_nw_wap = np.load(\"../data/train/area/df_train_b0_nw_wap.npy\", allow_pickle=True)\n",
    "df_train_b0_se_wap = np.load(\"../data/train/area/df_train_b0_se_wap.npy\", allow_pickle=True)\n",
    "df_train_b0_sw_wap = np.load(\"../data/train/area/df_train_b0_sw_wap.npy\", allow_pickle=True)"
   ]
  },
  {
   "cell_type": "code",
   "execution_count": 11,
   "metadata": {},
   "outputs": [],
   "source": [
    "df_train_b0_ne_f0_wap =np.load(\"../data/train/area/df_train_b0_ne_f0_wap.npy\", allow_pickle=True)\n",
    "df_train_b0_ne_f1_wap =np.load(\"../data/train/area/df_train_b0_ne_f1_wap.npy\", allow_pickle=True)\n",
    "df_train_b0_ne_f2_wap =np.load(\"../data/train/area/df_train_b0_ne_f2_wap.npy\", allow_pickle=True)\n",
    "df_train_b0_ne_f3_wap =np.load(\"../data/train/area/df_train_b0_ne_f3_wap.npy\", allow_pickle=True)\n",
    "\n",
    "df_train_b0_nw_f0_wap =np.load(\"../data/train/area/df_train_b0_nw_f0_wap.npy\", allow_pickle=True)\n",
    "df_train_b0_nw_f1_wap =np.load(\"../data/train/area/df_train_b0_nw_f1_wap.npy\", allow_pickle=True)\n",
    "df_train_b0_nw_f2_wap =np.load(\"../data/train/area/df_train_b0_nw_f2_wap.npy\", allow_pickle=True)\n",
    "df_train_b0_nw_f3_wap =np.load(\"../data/train/area/df_train_b0_nw_f3_wap.npy\", allow_pickle=True)\n",
    "\n",
    "df_train_b0_se_f0_wap =np.load(\"../data/train/area/df_train_b0_se_f0_wap.npy\", allow_pickle=True)\n",
    "df_train_b0_se_f1_wap =np.load(\"../data/train/area/df_train_b0_se_f1_wap.npy\", allow_pickle=True)\n",
    "df_train_b0_se_f2_wap =np.load(\"../data/train/area/df_train_b0_se_f2_wap.npy\", allow_pickle=True)\n",
    "df_train_b0_se_f3_wap =np.load(\"../data/train/area/df_train_b0_se_f3_wap.npy\", allow_pickle=True)\n",
    "\n",
    "df_train_b0_sw_f0_wap =np.load(\"../data/train/area/df_train_b0_sw_f0_wap.npy\", allow_pickle=True)\n",
    "df_train_b0_sw_f1_wap =np.load(\"../data/train/area/df_train_b0_sw_f1_wap.npy\", allow_pickle=True)\n",
    "df_train_b0_sw_f2_wap =np.load(\"../data/train/area/df_train_b0_sw_f2_wap.npy\", allow_pickle=True)\n",
    "df_train_b0_sw_f3_wap =np.load(\"../data/train/area/df_train_b0_sw_f3_wap.npy\", allow_pickle=True)"
   ]
  },
  {
   "cell_type": "code",
   "execution_count": 12,
   "metadata": {},
   "outputs": [],
   "source": [
    "df_train_b1_ne_wap = np.load(\"../data/train/area/df_train_b1_ne_wap.npy\", allow_pickle=True)\n",
    "df_train_b1_nw_wap = np.load(\"../data/train/area/df_train_b1_nw_wap.npy\", allow_pickle=True)\n",
    "df_train_b1_se_wap = np.load(\"../data/train/area/df_train_b1_se_wap.npy\", allow_pickle=True)\n",
    "df_train_b1_sw_wap = np.load(\"../data/train/area/df_train_b1_sw_wap.npy\", allow_pickle=True)\n",
    "df_train_b1_ct_wap = np.load(\"../data/train/area/df_train_b1_ct_wap.npy\", allow_pickle=True)"
   ]
  },
  {
   "cell_type": "code",
   "execution_count": 13,
   "metadata": {},
   "outputs": [],
   "source": [
    "df_train_b1_ne_f0_wap = np.load(\"../data/train/area/df_train_b1_ne_f0_wap.npy\", allow_pickle=True)\n",
    "df_train_b1_ne_f1_wap = np.load(\"../data/train/area/df_train_b1_ne_f1_wap.npy\", allow_pickle=True)\n",
    "df_train_b1_ne_f2_wap = np.load(\"../data/train/area/df_train_b1_ne_f2_wap.npy\", allow_pickle=True)\n",
    "df_train_b1_ne_f3_wap = np.load(\"../data/train/area/df_train_b1_ne_f3_wap.npy\", allow_pickle=True)\n",
    "\n",
    "df_train_b1_nw_f0_wap = np.load(\"../data/train/area/df_train_b1_nw_f0_wap.npy\", allow_pickle=True)\n",
    "df_train_b1_nw_f1_wap = np.load(\"../data/train/area/df_train_b1_nw_f1_wap.npy\", allow_pickle=True)\n",
    "df_train_b1_nw_f2_wap = np.load(\"../data/train/area/df_train_b1_nw_f2_wap.npy\", allow_pickle=True)\n",
    "df_train_b1_nw_f3_wap = np.load(\"../data/train/area/df_train_b1_nw_f3_wap.npy\", allow_pickle=True)\n",
    "\n",
    "df_train_b1_se_f0_wap = np.load(\"../data/train/area/df_train_b1_se_f0_wap.npy\", allow_pickle=True)\n",
    "df_train_b1_se_f1_wap = np.load(\"../data/train/area/df_train_b1_se_f1_wap.npy\", allow_pickle=True)\n",
    "df_train_b1_se_f2_wap = np.load(\"../data/train/area/df_train_b1_se_f2_wap.npy\", allow_pickle=True)\n",
    "df_train_b1_se_f3_wap = np.load(\"../data/train/area/df_train_b1_se_f3_wap.npy\", allow_pickle=True)\n",
    "\n",
    "df_train_b1_sw_f0_wap = np.load(\"../data/train/area/df_train_b1_sw_f0_wap.npy\", allow_pickle=True)\n",
    "df_train_b1_sw_f1_wap = np.load(\"../data/train/area/df_train_b1_sw_f1_wap.npy\", allow_pickle=True)\n",
    "df_train_b1_sw_f2_wap = np.load(\"../data/train/area/df_train_b1_sw_f2_wap.npy\", allow_pickle=True)\n",
    "df_train_b1_sw_f3_wap = np.load(\"../data/train/area/df_train_b1_sw_f3_wap.npy\", allow_pickle=True)\n",
    "\n",
    "df_train_b1_ct_f0_wap = np.load(\"../data/train/area/df_train_b1_ct_f0_wap.npy\", allow_pickle=True)\n",
    "df_train_b1_ct_f1_wap = np.load(\"../data/train/area/df_train_b1_ct_f1_wap.npy\", allow_pickle=True)\n",
    "df_train_b1_ct_f2_wap = np.load(\"../data/train/area/df_train_b1_ct_f2_wap.npy\", allow_pickle=True)\n",
    "df_train_b1_ct_f3_wap = np.load(\"../data/train/area/df_train_b1_ct_f3_wap.npy\", allow_pickle=True)"
   ]
  },
  {
   "cell_type": "code",
   "execution_count": 14,
   "metadata": {},
   "outputs": [],
   "source": [
    "df_train_b2_ne_wap = np.load(\"../data/train/area/df_train_b2_ne_wap.npy\", allow_pickle=True)\n",
    "df_train_b2_nw_wap = np.load(\"../data/train/area/df_train_b2_nw_wap.npy\", allow_pickle=True)\n",
    "df_train_b2_se_wap = np.load(\"../data/train/area/df_train_b2_se_wap.npy\", allow_pickle=True)\n",
    "df_train_b2_sw_wap = np.load(\"../data/train/area/df_train_b2_sw_wap.npy\", allow_pickle=True)"
   ]
  },
  {
   "cell_type": "code",
   "execution_count": 15,
   "metadata": {},
   "outputs": [],
   "source": [
    "df_train_b2_ne_f0_wap = np.load(\"../data/train/area/df_train_b2_ne_f0_wap.npy\", allow_pickle=True)\n",
    "df_train_b2_ne_f1_wap = np.load(\"../data/train/area/df_train_b2_ne_f1_wap.npy\", allow_pickle=True)\n",
    "df_train_b2_ne_f2_wap = np.load(\"../data/train/area/df_train_b2_ne_f2_wap.npy\", allow_pickle=True)\n",
    "df_train_b2_ne_f3_wap = np.load(\"../data/train/area/df_train_b2_ne_f3_wap.npy\", allow_pickle=True)\n",
    "df_train_b2_ne_f4_wap = np.load(\"../data/train/area/df_train_b2_ne_f4_wap.npy\", allow_pickle=True)\n",
    "\n",
    "df_train_b2_nw_f0_wap = np.load(\"../data/train/area/df_train_b2_nw_f0_wap.npy\", allow_pickle=True)\n",
    "df_train_b2_nw_f1_wap = np.load(\"../data/train/area/df_train_b2_nw_f1_wap.npy\", allow_pickle=True)\n",
    "df_train_b2_nw_f2_wap = np.load(\"../data/train/area/df_train_b2_nw_f2_wap.npy\", allow_pickle=True)\n",
    "df_train_b2_nw_f3_wap = np.load(\"../data/train/area/df_train_b2_nw_f3_wap.npy\", allow_pickle=True)\n",
    "df_train_b2_nw_f4_wap = np.load(\"../data/train/area/df_train_b2_nw_f4_wap.npy\", allow_pickle=True)\n",
    "\n",
    "df_train_b2_se_f0_wap = np.load(\"../data/train/area/df_train_b2_se_f0_wap.npy\", allow_pickle=True)\n",
    "df_train_b2_se_f1_wap = np.load(\"../data/train/area/df_train_b2_se_f1_wap.npy\", allow_pickle=True)\n",
    "df_train_b2_se_f2_wap = np.load(\"../data/train/area/df_train_b2_se_f2_wap.npy\", allow_pickle=True)\n",
    "df_train_b2_se_f3_wap = np.load(\"../data/train/area/df_train_b2_se_f3_wap.npy\", allow_pickle=True)\n",
    "\n",
    "df_train_b2_sw_f0_wap = np.load(\"../data/train/area/df_train_b2_sw_f0_wap.npy\", allow_pickle=True)\n",
    "df_train_b2_sw_f1_wap = np.load(\"../data/train/area/df_train_b2_sw_f1_wap.npy\", allow_pickle=True)\n",
    "df_train_b2_sw_f2_wap = np.load(\"../data/train/area/df_train_b2_sw_f2_wap.npy\", allow_pickle=True)\n",
    "df_train_b2_sw_f3_wap = np.load(\"../data/train/area/df_train_b2_sw_f3_wap.npy\", allow_pickle=True)\n",
    "df_train_b2_sw_f4_wap = np.load(\"../data/train/area/df_train_b2_sw_f4_wap.npy\", allow_pickle=True)"
   ]
  },
  {
   "cell_type": "markdown",
   "metadata": {},
   "source": [
    "## Dividing space by area\n"
   ]
  },
  {
   "cell_type": "markdown",
   "metadata": {},
   "source": [
    "### Building 0"
   ]
  },
  {
   "cell_type": "code",
   "execution_count": 16,
   "metadata": {},
   "outputs": [
    {
     "data": {
      "image/png": "[encoded data removed]",
      "text/plain": [
       "<Figure size 864x576 with 1 Axes>"
      ]
     },
     "metadata": {
      "needs_background": "light"
     },
     "output_type": "display_data"
    }
   ],
   "source": [
    "fig, ax = plt.subplots(figsize=(12, 8))\n",
    "# plt.figure()\n",
    "# sns.scatterplot(x='LONGITUDE', y='LATITUDE', data=df_train_b0)\n",
    "sns.scatterplot(x='LONGITUDE', y='LATITUDE', data=df_train_b0_ne)\n",
    "sns.scatterplot(x='LONGITUDE', y='LATITUDE', data=df_train_b0_nw)\n",
    "sns.scatterplot(x='LONGITUDE', y='LATITUDE', data=df_train_b0_se)\n",
    "sns.scatterplot(x='LONGITUDE', y='LATITUDE', data=df_train_b0_sw)\n",
    "ax.legend([\"NE\", \"NW\", \"SE\", \"SW\"], title='Direction')\n",
    "plt.title(\"Rooms by direction, building 0\")\n",
    "# plt.savefig(\"b0_direction.png\", dpi=300, transparent=True)\n",
    "plt.show()"
   ]
  },
  {
   "cell_type": "markdown",
   "metadata": {},
   "source": [
    "### Building 1"
   ]
  },
  {
   "cell_type": "code",
   "execution_count": 17,
   "metadata": {},
   "outputs": [
    {
     "data": {
      "image/png": "[encoded data removed]",
      "text/plain": [
       "<Figure size 864x576 with 1 Axes>"
      ]
     },
     "metadata": {
      "needs_background": "light"
     },
     "output_type": "display_data"
    }
   ],
   "source": [
    "fig, ax = plt.subplots(figsize=(12, 8))\n",
    "# plt.figure(figsize=(12, 8))\n",
    "# sns.scatterplot(x='LONGITUDE', y='LATITUDE', data=df_train_b1)\n",
    "sns.scatterplot(x='LONGITUDE', y='LATITUDE', data=df_train_b1_ne)\n",
    "sns.scatterplot(x='LONGITUDE', y='LATITUDE', data=df_train_b1_nw)\n",
    "sns.scatterplot(x='LONGITUDE', y='LATITUDE', data=df_train_b1_se)\n",
    "sns.scatterplot(x='LONGITUDE', y='LATITUDE', data=df_train_b1_sw)\n",
    "sns.scatterplot(x='LONGITUDE', y='LATITUDE', data=df_train_b1_ct)\n",
    "# sns.scatterplot(x='LONGITUDE', y='LATITUDE', data=df_train_b1_se)\n",
    "# ax.legend([\"Others\", \"SE F2\"])\n",
    "ax.legend([\"NE\", \"NW\", \"SE\", \"SW\", \"CT\"], title='Direction')\n",
    "plt.title(\"Rooms by direction, building 1\")\n",
    "# plt.savefig(\"b1_direction.png\", dpi=300, transparent=True)\n",
    "# plt.title(\"Rooms on floor 2, building 1 (SE)\")\n",
    "# plt.savefig(\"b1_se_f2_rooms.png\", dpi=300, transparent=True)\n",
    "plt.show()"
   ]
  },
  {
   "cell_type": "markdown",
   "metadata": {},
   "source": [
    "### Building 2"
   ]
  },
  {
   "cell_type": "code",
   "execution_count": 18,
   "metadata": {},
   "outputs": [
    {
     "data": {
      "image/png": "[encoded data removed]",
      "text/plain": [
       "<Figure size 864x576 with 1 Axes>"
      ]
     },
     "metadata": {
      "needs_background": "light"
     },
     "output_type": "display_data"
    }
   ],
   "source": [
    "fig, ax = plt.subplots(figsize=(12, 8))\n",
    "# sns.scatterplot(x='LONGITUDE', y='LATITUDE', data=df_train_b2)\n",
    "sns.scatterplot(x='LONGITUDE', y='LATITUDE', data=df_train_b2_ne)\n",
    "sns.scatterplot(x='LONGITUDE', y='LATITUDE', data=df_train_b2_nw)\n",
    "sns.scatterplot(x='LONGITUDE', y='LATITUDE', data=df_train_b2_se)\n",
    "sns.scatterplot(x='LONGITUDE', y='LATITUDE', data=df_train_b2_sw)\n",
    "ax.legend([\"NE\", \"NW\", \"SE\", \"SW\"], title='Direction')\n",
    "plt.title(\"Rooms by direction, building 2\")\n",
    "# plt.savefig(\"b2_direction.png\", dpi=300, transparent=True)\n",
    "plt.show()"
   ]
  },
  {
   "cell_type": "markdown",
   "metadata": {},
   "source": [
    "## Predicting rooms in each area on each floor"
   ]
  },
  {
   "cell_type": "markdown",
   "metadata": {},
   "source": [
    "### Building 0"
   ]
  },
  {
   "cell_type": "markdown",
   "metadata": {},
   "source": [
    "*NE*"
   ]
  },
  {
   "cell_type": "code",
   "execution_count": 19,
   "metadata": {},
   "outputs": [
    {
     "name": "stdout",
     "output_type": "stream",
     "text": [
      "CV RESULTS - KNN\n",
      "[F0] Average balanced accuracy: 74.44% ± 6.11%\n",
      "[F1] Average balanced accuracy: 73.23% ± 16.01%\n",
      "[F2] Average balanced accuracy: 63.82% ± 20.09%\n",
      "[F3] Average balanced accuracy: 60.94% ± 19.09%\n",
      "\n",
      "CV RESULTS - MULT-LR\n",
      "[F0] Average balanced accuracy: 80.49% ± 5.36%\n",
      "[F1] Average balanced accuracy: 75.73% ± 15.23%\n",
      "[F2] Average balanced accuracy: 69.12% ± 19.31%\n",
      "[F3] Average balanced accuracy: 62.19% ± 16.10%\n",
      "\n",
      "CV RESULTS - SVM\n",
      "[F0] Average balanced accuracy: 75.35% ± 7.88%\n",
      "[F1] Average balanced accuracy: 74.90% ± 15.93%\n",
      "[F2] Average balanced accuracy: 69.80% ± 18.63%\n",
      "[F3] Average balanced accuracy: 62.81% ± 15.32%\n"
     ]
    }
   ],
   "source": [
    "print(\"CV RESULTS - KNN\")\n",
    "cvs = classification(df_train_b0_ne_f0, df_train_b0_ne_f0_wap, 'room', 'knn')\n",
    "print(\"[F0] Average balanced accuracy: %.2f%% ± %.2f%%\" % (mean_ci(cvs)[0]* 100, mean_ci(cvs)[1] * 100))\n",
    "cvs = classification(df_train_b0_ne_f1, df_train_b0_ne_f1_wap, 'room', 'knn')\n",
    "print(\"[F1] Average balanced accuracy: %.2f%% ± %.2f%%\" % (mean_ci(cvs)[0]* 100, mean_ci(cvs)[1] * 100))\n",
    "cvs = classification(df_train_b0_ne_f2, df_train_b0_ne_f2_wap, 'room', 'knn')\n",
    "print(\"[F2] Average balanced accuracy: %.2f%% ± %.2f%%\" % (mean_ci(cvs)[0]* 100, mean_ci(cvs)[1] * 100))\n",
    "cvs = classification(df_train_b0_ne_f3, df_train_b0_ne_f3_wap, 'room', 'knn')\n",
    "print(\"[F3] Average balanced accuracy: %.2f%% ± %.2f%%\" % (mean_ci(cvs)[0]* 100, mean_ci(cvs)[1] * 100))\n",
    "\n",
    "print(\"\\nCV RESULTS - MULT-LR\")\n",
    "cvs = classification(df_train_b0_ne_f0, df_train_b0_ne_f0_wap, 'room', 'lr')\n",
    "print(\"[F0] Average balanced accuracy: %.2f%% ± %.2f%%\" % (mean_ci(cvs)[0]* 100, mean_ci(cvs)[1] * 100))\n",
    "cvs = classification(df_train_b0_ne_f1, df_train_b0_ne_f1_wap, 'room', 'lr')\n",
    "print(\"[F1] Average balanced accuracy: %.2f%% ± %.2f%%\" % (mean_ci(cvs)[0]* 100, mean_ci(cvs)[1] * 100))\n",
    "cvs = classification(df_train_b0_ne_f2, df_train_b0_ne_f2_wap, 'room', 'lr')\n",
    "print(\"[F2] Average balanced accuracy: %.2f%% ± %.2f%%\" % (mean_ci(cvs)[0]* 100, mean_ci(cvs)[1] * 100))\n",
    "cvs = classification(df_train_b0_ne_f3, df_train_b0_ne_f3_wap, 'room', 'lr')\n",
    "print(\"[F3] Average balanced accuracy: %.2f%% ± %.2f%%\" % (mean_ci(cvs)[0]* 100, mean_ci(cvs)[1] * 100))\n",
    "\n",
    "print(\"\\nCV RESULTS - SVM\")\n",
    "cvs = classification(df_train_b0_ne_f0, df_train_b0_ne_f0_wap, 'room', 'svm')\n",
    "print(\"[F0] Average balanced accuracy: %.2f%% ± %.2f%%\" % (mean_ci(cvs)[0]* 100, mean_ci(cvs)[1] * 100))\n",
    "cvs = classification(df_train_b0_ne_f1, df_train_b0_ne_f1_wap, 'room', 'svm')\n",
    "print(\"[F1] Average balanced accuracy: %.2f%% ± %.2f%%\" % (mean_ci(cvs)[0]* 100, mean_ci(cvs)[1] * 100))\n",
    "cvs = classification(df_train_b0_ne_f2, df_train_b0_ne_f2_wap, 'room', 'svm')\n",
    "print(\"[F2] Average balanced accuracy: %.2f%% ± %.2f%%\" % (mean_ci(cvs)[0]* 100, mean_ci(cvs)[1] * 100))\n",
    "cvs = classification(df_train_b0_ne_f3, df_train_b0_ne_f3_wap, 'room', 'svm')\n",
    "print(\"[F3] Average balanced accuracy: %.2f%% ± %.2f%%\" % (mean_ci(cvs)[0]* 100, mean_ci(cvs)[1] * 100))"
   ]
  },
  {
   "cell_type": "markdown",
   "metadata": {},
   "source": [
    "*NW*"
   ]
  },
  {
   "cell_type": "code",
   "execution_count": 20,
   "metadata": {},
   "outputs": [
    {
     "name": "stdout",
     "output_type": "stream",
     "text": [
      "CV RESULTS - KNN\n",
      "[F0] Average balanced accuracy: 62.26% ± 13.81%\n",
      "[F1] Average balanced accuracy: 68.53% ± 17.74%\n",
      "[F2] Average balanced accuracy: 65.75% ± 18.00%\n",
      "[F3] Average balanced accuracy: 62.50% ± 19.71%\n",
      "\n",
      "CV RESULTS - MULT-LR\n",
      "[F0] Average balanced accuracy: 74.64% ± 11.79%\n",
      "[F1] Average balanced accuracy: 75.00% ± 15.05%\n",
      "[F2] Average balanced accuracy: 75.29% ± 13.82%\n",
      "[F3] Average balanced accuracy: 68.80% ± 16.44%\n",
      "\n",
      "CV RESULTS - SVM\n",
      "[F0] Average balanced accuracy: 73.33% ± 8.88%\n",
      "[F1] Average balanced accuracy: 78.24% ± 13.93%\n",
      "[F2] Average balanced accuracy: 77.48% ± 12.44%\n",
      "[F3] Average balanced accuracy: 69.63% ± 16.55%\n"
     ]
    }
   ],
   "source": [
    "print(\"CV RESULTS - KNN\")\n",
    "cvs = classification(df_train_b0_nw_f0, df_train_b0_nw_f0_wap, 'room', 'knn')\n",
    "print(\"[F0] Average balanced accuracy: %.2f%% ± %.2f%%\" % (mean_ci(cvs)[0]* 100, mean_ci(cvs)[1] * 100))\n",
    "cvs = classification(df_train_b0_nw_f1, df_train_b0_nw_f1_wap, 'room', 'knn')\n",
    "print(\"[F1] Average balanced accuracy: %.2f%% ± %.2f%%\" % (mean_ci(cvs)[0]* 100, mean_ci(cvs)[1] * 100))\n",
    "cvs = classification(df_train_b0_nw_f2, df_train_b0_nw_f2_wap, 'room', 'knn')\n",
    "print(\"[F2] Average balanced accuracy: %.2f%% ± %.2f%%\" % (mean_ci(cvs)[0]* 100, mean_ci(cvs)[1] * 100))\n",
    "cvs = classification(df_train_b0_nw_f3, df_train_b0_nw_f3_wap, 'room', 'knn')\n",
    "print(\"[F3] Average balanced accuracy: %.2f%% ± %.2f%%\" % (mean_ci(cvs)[0]* 100, mean_ci(cvs)[1] * 100))\n",
    "\n",
    "print(\"\\nCV RESULTS - MULT-LR\")\n",
    "cvs = classification(df_train_b0_nw_f0, df_train_b0_nw_f0_wap, 'room', 'lr')\n",
    "print(\"[F0] Average balanced accuracy: %.2f%% ± %.2f%%\" % (mean_ci(cvs)[0]* 100, mean_ci(cvs)[1] * 100))\n",
    "cvs = classification(df_train_b0_nw_f1, df_train_b0_nw_f1_wap, 'room', 'lr')\n",
    "print(\"[F1] Average balanced accuracy: %.2f%% ± %.2f%%\" % (mean_ci(cvs)[0]* 100, mean_ci(cvs)[1] * 100))\n",
    "cvs = classification(df_train_b0_nw_f2, df_train_b0_nw_f2_wap, 'room', 'lr')\n",
    "print(\"[F2] Average balanced accuracy: %.2f%% ± %.2f%%\" % (mean_ci(cvs)[0]* 100, mean_ci(cvs)[1] * 100))\n",
    "cvs = classification(df_train_b0_nw_f3, df_train_b0_nw_f3_wap, 'room', 'lr')\n",
    "print(\"[F3] Average balanced accuracy: %.2f%% ± %.2f%%\" % (mean_ci(cvs)[0]* 100, mean_ci(cvs)[1] * 100))\n",
    "\n",
    "print(\"\\nCV RESULTS - SVM\")\n",
    "cvs = classification(df_train_b0_nw_f0, df_train_b0_nw_f0_wap, 'room', 'svm')\n",
    "print(\"[F0] Average balanced accuracy: %.2f%% ± %.2f%%\" % (mean_ci(cvs)[0]* 100, mean_ci(cvs)[1] * 100))\n",
    "cvs = classification(df_train_b0_nw_f1, df_train_b0_nw_f1_wap, 'room', 'svm')\n",
    "print(\"[F1] Average balanced accuracy: %.2f%% ± %.2f%%\" % (mean_ci(cvs)[0]* 100, mean_ci(cvs)[1] * 100))\n",
    "cvs = classification(df_train_b0_nw_f2, df_train_b0_nw_f2_wap, 'room', 'svm')\n",
    "print(\"[F2] Average balanced accuracy: %.2f%% ± %.2f%%\" % (mean_ci(cvs)[0]* 100, mean_ci(cvs)[1] * 100))\n",
    "cvs = classification(df_train_b0_nw_f3, df_train_b0_nw_f3_wap, 'room', 'svm')\n",
    "print(\"[F3] Average balanced accuracy: %.2f%% ± %.2f%%\" % (mean_ci(cvs)[0]* 100, mean_ci(cvs)[1] * 100))"
   ]
  },
  {
   "cell_type": "markdown",
   "metadata": {},
   "source": [
    "*SE*"
   ]
  },
  {
   "cell_type": "code",
   "execution_count": 21,
   "metadata": {},
   "outputs": [
    {
     "name": "stdout",
     "output_type": "stream",
     "text": [
      "CV RESULTS - KNN\n",
      "[F0] Average balanced accuracy: 80.52% ± 10.28%\n",
      "[F1] Average balanced accuracy: 71.14% ± 13.77%\n",
      "[F2] Average balanced accuracy: 64.82% ± 16.62%\n",
      "[F3] Average balanced accuracy: 65.18% ± 17.16%\n",
      "\n",
      "CV RESULTS - MULT-LR\n",
      "[F0] Average balanced accuracy: 78.23% ± 12.37%\n",
      "[F1] Average balanced accuracy: 76.40% ± 11.01%\n",
      "[F2] Average balanced accuracy: 70.00% ± 14.76%\n",
      "[F3] Average balanced accuracy: 66.58% ± 15.86%\n",
      "\n",
      "CV RESULTS - SVM\n",
      "[F0] Average balanced accuracy: 81.56% ± 9.78%\n",
      "[F1] Average balanced accuracy: 77.02% ± 12.16%\n",
      "[F2] Average balanced accuracy: 67.28% ± 14.33%\n",
      "[F3] Average balanced accuracy: 68.60% ± 15.20%\n"
     ]
    }
   ],
   "source": [
    "print(\"CV RESULTS - KNN\")\n",
    "cvs = classification(df_train_b0_se_f0, df_train_b0_se_f0_wap, 'room', 'knn')\n",
    "print(\"[F0] Average balanced accuracy: %.2f%% ± %.2f%%\" % (mean_ci(cvs)[0]* 100, mean_ci(cvs)[1] * 100))\n",
    "cvs = classification(df_train_b0_se_f1, df_train_b0_se_f1_wap, 'room', 'knn')\n",
    "print(\"[F1] Average balanced accuracy: %.2f%% ± %.2f%%\" % (mean_ci(cvs)[0]* 100, mean_ci(cvs)[1] * 100))\n",
    "cvs = classification(df_train_b0_se_f2, df_train_b0_se_f2_wap, 'room', 'knn')\n",
    "print(\"[F2] Average balanced accuracy: %.2f%% ± %.2f%%\" % (mean_ci(cvs)[0]* 100, mean_ci(cvs)[1] * 100))\n",
    "cvs = classification(df_train_b0_se_f3, df_train_b0_se_f3_wap, 'room', 'knn')\n",
    "print(\"[F3] Average balanced accuracy: %.2f%% ± %.2f%%\" % (mean_ci(cvs)[0]* 100, mean_ci(cvs)[1] * 100))\n",
    "\n",
    "print(\"\\nCV RESULTS - MULT-LR\")\n",
    "cvs = classification(df_train_b0_se_f0, df_train_b0_se_f0_wap, 'room', 'lr')\n",
    "print(\"[F0] Average balanced accuracy: %.2f%% ± %.2f%%\" % (mean_ci(cvs)[0]* 100, mean_ci(cvs)[1] * 100))\n",
    "cvs = classification(df_train_b0_se_f1, df_train_b0_se_f1_wap, 'room', 'lr')\n",
    "print(\"[F1] Average balanced accuracy: %.2f%% ± %.2f%%\" % (mean_ci(cvs)[0]* 100, mean_ci(cvs)[1] * 100))\n",
    "cvs = classification(df_train_b0_se_f2, df_train_b0_se_f2_wap, 'room', 'lr')\n",
    "print(\"[F2] Average balanced accuracy: %.2f%% ± %.2f%%\" % (mean_ci(cvs)[0]* 100, mean_ci(cvs)[1] * 100))\n",
    "cvs = classification(df_train_b0_se_f3, df_train_b0_se_f3_wap, 'room', 'lr')\n",
    "print(\"[F3] Average balanced accuracy: %.2f%% ± %.2f%%\" % (mean_ci(cvs)[0]* 100, mean_ci(cvs)[1] * 100))\n",
    "\n",
    "print(\"\\nCV RESULTS - SVM\")\n",
    "cvs = classification(df_train_b0_se_f0, df_train_b0_se_f0_wap, 'room', 'svm')\n",
    "print(\"[F0] Average balanced accuracy: %.2f%% ± %.2f%%\" % (mean_ci(cvs)[0]* 100, mean_ci(cvs)[1] * 100))\n",
    "cvs = classification(df_train_b0_se_f1, df_train_b0_se_f1_wap, 'room', 'svm')\n",
    "print(\"[F1] Average balanced accuracy: %.2f%% ± %.2f%%\" % (mean_ci(cvs)[0]* 100, mean_ci(cvs)[1] * 100))\n",
    "cvs = classification(df_train_b0_se_f2, df_train_b0_se_f2_wap, 'room', 'svm')\n",
    "print(\"[F2] Average balanced accuracy: %.2f%% ± %.2f%%\" % (mean_ci(cvs)[0]* 100, mean_ci(cvs)[1] * 100))\n",
    "cvs = classification(df_train_b0_se_f3, df_train_b0_se_f3_wap, 'room', 'svm')\n",
    "print(\"[F3] Average balanced accuracy: %.2f%% ± %.2f%%\" % (mean_ci(cvs)[0]* 100, mean_ci(cvs)[1] * 100))"
   ]
  },
  {
   "cell_type": "markdown",
   "metadata": {},
   "source": [
    "*SW*"
   ]
  },
  {
   "cell_type": "code",
   "execution_count": 22,
   "metadata": {},
   "outputs": [
    {
     "name": "stdout",
     "output_type": "stream",
     "text": [
      "CV RESULTS - KNN\n",
      "[F0] Average balanced accuracy: 70.42% ± 16.41%\n",
      "[F1] Average balanced accuracy: 70.11% ± 17.07%\n",
      "[F2] Average balanced accuracy: 60.67% ± 22.60%\n",
      "[F3] Average balanced accuracy: 62.56% ± 20.26%\n",
      "\n",
      "CV RESULTS - MULT-LR\n",
      "[F0] Average balanced accuracy: 80.00% ± 11.91%\n",
      "[F1] Average balanced accuracy: 73.33% ± 15.72%\n",
      "[F2] Average balanced accuracy: 66.22% ± 18.59%\n",
      "[F3] Average balanced accuracy: 65.00% ± 18.48%\n",
      "\n",
      "CV RESULTS - SVM\n",
      "[F0] Average balanced accuracy: 79.58% ± 10.83%\n",
      "[F1] Average balanced accuracy: 76.56% ± 13.92%\n",
      "[F2] Average balanced accuracy: 68.44% ± 17.81%\n",
      "[F3] Average balanced accuracy: 68.44% ± 16.47%\n"
     ]
    }
   ],
   "source": [
    "print(\"CV RESULTS - KNN\")\n",
    "cvs = classification(df_train_b0_sw_f0, df_train_b0_sw_f0_wap, 'room', 'knn')\n",
    "print(\"[F0] Average balanced accuracy: %.2f%% ± %.2f%%\" % (mean_ci(cvs)[0]* 100, mean_ci(cvs)[1] * 100))\n",
    "cvs = classification(df_train_b0_sw_f1, df_train_b0_sw_f1_wap, 'room', 'knn')\n",
    "print(\"[F1] Average balanced accuracy: %.2f%% ± %.2f%%\" % (mean_ci(cvs)[0]* 100, mean_ci(cvs)[1] * 100))\n",
    "cvs = classification(df_train_b0_sw_f2, df_train_b0_sw_f2_wap, 'room', 'knn')\n",
    "print(\"[F2] Average balanced accuracy: %.2f%% ± %.2f%%\" % (mean_ci(cvs)[0]* 100, mean_ci(cvs)[1] * 100))\n",
    "cvs = classification(df_train_b0_sw_f3, df_train_b0_sw_f3_wap, 'room', 'knn')\n",
    "print(\"[F3] Average balanced accuracy: %.2f%% ± %.2f%%\" % (mean_ci(cvs)[0]* 100, mean_ci(cvs)[1] * 100))\n",
    "\n",
    "print(\"\\nCV RESULTS - MULT-LR\")\n",
    "cvs = classification(df_train_b0_sw_f0, df_train_b0_sw_f0_wap, 'room', 'lr')\n",
    "print(\"[F0] Average balanced accuracy: %.2f%% ± %.2f%%\" % (mean_ci(cvs)[0]* 100, mean_ci(cvs)[1] * 100))\n",
    "cvs = classification(df_train_b0_sw_f1, df_train_b0_sw_f1_wap, 'room', 'lr')\n",
    "print(\"[F1] Average balanced accuracy: %.2f%% ± %.2f%%\" % (mean_ci(cvs)[0]* 100, mean_ci(cvs)[1] * 100))\n",
    "cvs = classification(df_train_b0_sw_f2, df_train_b0_sw_f2_wap, 'room', 'lr')\n",
    "print(\"[F2] Average balanced accuracy: %.2f%% ± %.2f%%\" % (mean_ci(cvs)[0]* 100, mean_ci(cvs)[1] * 100))\n",
    "cvs = classification(df_train_b0_sw_f3, df_train_b0_sw_f3_wap, 'room', 'lr')\n",
    "print(\"[F3] Average balanced accuracy: %.2f%% ± %.2f%%\" % (mean_ci(cvs)[0]* 100, mean_ci(cvs)[1] * 100))\n",
    "\n",
    "\n",
    "print(\"\\nCV RESULTS - SVM\")\n",
    "cvs = classification(df_train_b0_sw_f0, df_train_b0_sw_f0_wap, 'room', 'svm')\n",
    "print(\"[F0] Average balanced accuracy: %.2f%% ± %.2f%%\" % (mean_ci(cvs)[0]* 100, mean_ci(cvs)[1] * 100))\n",
    "cvs = classification(df_train_b0_sw_f1, df_train_b0_sw_f1_wap, 'room', 'svm')\n",
    "print(\"[F1] Average balanced accuracy: %.2f%% ± %.2f%%\" % (mean_ci(cvs)[0]* 100, mean_ci(cvs)[1] * 100))\n",
    "cvs = classification(df_train_b0_sw_f2, df_train_b0_sw_f2_wap, 'room', 'svm')\n",
    "print(\"[F2] Average balanced accuracy: %.2f%% ± %.2f%%\" % (mean_ci(cvs)[0]* 100, mean_ci(cvs)[1] * 100))\n",
    "cvs = classification(df_train_b0_sw_f3, df_train_b0_sw_f3_wap, 'room', 'svm')\n",
    "print(\"[F3] Average balanced accuracy: %.2f%% ± %.2f%%\" % (mean_ci(cvs)[0]* 100, mean_ci(cvs)[1] * 100))"
   ]
  },
  {
   "cell_type": "markdown",
   "metadata": {},
   "source": [
    "### Building 1"
   ]
  },
  {
   "cell_type": "markdown",
   "metadata": {},
   "source": [
    "*NE*"
   ]
  },
  {
   "cell_type": "code",
   "execution_count": 23,
   "metadata": {},
   "outputs": [
    {
     "name": "stdout",
     "output_type": "stream",
     "text": [
      "CV RESULTS - KNN\n",
      "[F0] Average balanced accuracy: 68.94% ± 10.25%\n",
      "[F1] Average balanced accuracy: 79.51% ± 5.39%\n",
      "[F2] Average balanced accuracy: 90.70% ± 4.83%\n",
      "[F3] Average balanced accuracy: 87.17% ± 5.51%\n",
      "\n",
      "CV RESULTS - MULT-LR\n",
      "[F0] Average balanced accuracy: 64.39% ± 8.64%\n",
      "[F1] Average balanced accuracy: 85.14% ± 5.23%\n",
      "[F2] Average balanced accuracy: 89.09% ± 5.41%\n",
      "[F3] Average balanced accuracy: 85.06% ± 10.12%\n",
      "\n",
      "CV RESULTS - SVM\n",
      "[F0] Average balanced accuracy: 60.38% ± 7.77%\n",
      "[F1] Average balanced accuracy: 83.06% ± 3.84%\n",
      "[F2] Average balanced accuracy: 90.19% ± 5.63%\n",
      "[F3] Average balanced accuracy: 86.36% ± 6.34%\n"
     ]
    }
   ],
   "source": [
    "print(\"CV RESULTS - KNN\")\n",
    "cvs = classification(df_train_b1_ne_f0, df_train_b1_ne_f0_wap, 'room', 'knn')\n",
    "print(\"[F0] Average balanced accuracy: %.2f%% ± %.2f%%\" % (mean_ci(cvs)[0]* 100, mean_ci(cvs)[1] * 100))\n",
    "cvs = classification(df_train_b1_ne_f1, df_train_b1_ne_f1_wap, 'room', 'knn')\n",
    "print(\"[F1] Average balanced accuracy: %.2f%% ± %.2f%%\" % (mean_ci(cvs)[0]* 100, mean_ci(cvs)[1] * 100))\n",
    "cvs = classification(df_train_b1_ne_f2, df_train_b1_ne_f2_wap, 'room', 'knn')\n",
    "print(\"[F2] Average balanced accuracy: %.2f%% ± %.2f%%\" % (mean_ci(cvs)[0]* 100, mean_ci(cvs)[1] * 100))\n",
    "cvs = classification(df_train_b1_ne_f3, df_train_b1_ne_f3_wap, 'room', 'knn')\n",
    "print(\"[F3] Average balanced accuracy: %.2f%% ± %.2f%%\" % (mean_ci(cvs)[0]* 100, mean_ci(cvs)[1] * 100))\n",
    "\n",
    "print(\"\\nCV RESULTS - MULT-LR\")\n",
    "cvs = classification(df_train_b1_ne_f0, df_train_b1_ne_f0_wap, 'room', 'lr')\n",
    "print(\"[F0] Average balanced accuracy: %.2f%% ± %.2f%%\" % (mean_ci(cvs)[0]* 100, mean_ci(cvs)[1] * 100))\n",
    "cvs = classification(df_train_b1_ne_f1, df_train_b1_ne_f1_wap, 'room', 'lr')\n",
    "print(\"[F1] Average balanced accuracy: %.2f%% ± %.2f%%\" % (mean_ci(cvs)[0]* 100, mean_ci(cvs)[1] * 100))\n",
    "cvs = classification(df_train_b1_ne_f2, df_train_b1_ne_f2_wap, 'room', 'lr')\n",
    "print(\"[F2] Average balanced accuracy: %.2f%% ± %.2f%%\" % (mean_ci(cvs)[0]* 100, mean_ci(cvs)[1] * 100))\n",
    "cvs = classification(df_train_b1_ne_f3, df_train_b1_ne_f3_wap, 'room', 'lr')\n",
    "print(\"[F3] Average balanced accuracy: %.2f%% ± %.2f%%\" % (mean_ci(cvs)[0]* 100, mean_ci(cvs)[1] * 100))\n",
    "\n",
    "\n",
    "print(\"\\nCV RESULTS - SVM\")\n",
    "cvs = classification(df_train_b1_ne_f0, df_train_b1_ne_f0_wap, 'room', 'svm')\n",
    "print(\"[F0] Average balanced accuracy: %.2f%% ± %.2f%%\" % (mean_ci(cvs)[0]* 100, mean_ci(cvs)[1] * 100))\n",
    "cvs = classification(df_train_b1_ne_f1, df_train_b1_ne_f1_wap, 'room', 'svm')\n",
    "print(\"[F1] Average balanced accuracy: %.2f%% ± %.2f%%\" % (mean_ci(cvs)[0]* 100, mean_ci(cvs)[1] * 100))\n",
    "cvs = classification(df_train_b1_ne_f2, df_train_b1_ne_f2_wap, 'room', 'svm')\n",
    "print(\"[F2] Average balanced accuracy: %.2f%% ± %.2f%%\" % (mean_ci(cvs)[0]* 100, mean_ci(cvs)[1] * 100))\n",
    "cvs = classification(df_train_b1_ne_f3, df_train_b1_ne_f3_wap, 'room', 'svm')\n",
    "print(\"[F3] Average balanced accuracy: %.2f%% ± %.2f%%\" % (mean_ci(cvs)[0]* 100, mean_ci(cvs)[1] * 100))"
   ]
  },
  {
   "cell_type": "markdown",
   "metadata": {},
   "source": [
    "*NW*"
   ]
  },
  {
   "cell_type": "code",
   "execution_count": 24,
   "metadata": {},
   "outputs": [
    {
     "name": "stdout",
     "output_type": "stream",
     "text": [
      "CV RESULTS - KNN\n",
      "[F0] Average balanced accuracy: 95.00% ± 4.62%\n",
      "[F1] Average balanced accuracy: 64.55% ± 8.87%\n",
      "[F2] Average balanced accuracy: 86.14% ± 7.22%\n",
      "[F3] Average balanced accuracy: 71.67% ± 5.95%\n",
      "\n",
      "CV RESULTS - MULT-LR\n",
      "[F0] Average balanced accuracy: 98.12% ± 2.16%\n",
      "[F1] Average balanced accuracy: 64.01% ± 10.95%\n",
      "[F2] Average balanced accuracy: 88.42% ± 4.99%\n",
      "[F3] Average balanced accuracy: 80.51% ± 5.48%\n",
      "\n",
      "CV RESULTS - SVM\n",
      "[F0] Average balanced accuracy: 96.25% ± 4.32%\n",
      "[F1] Average balanced accuracy: 63.88% ± 11.63%\n",
      "[F2] Average balanced accuracy: 89.47% ± 6.74%\n",
      "[F3] Average balanced accuracy: 77.69% ± 7.65%\n"
     ]
    }
   ],
   "source": [
    "print(\"CV RESULTS - KNN\")\n",
    "cvs = classification(df_train_b1_nw_f0, df_train_b1_nw_f0_wap, 'room', 'knn')\n",
    "print(\"[F0] Average balanced accuracy: %.2f%% ± %.2f%%\" % (mean_ci(cvs)[0]* 100, mean_ci(cvs)[1] * 100))\n",
    "cvs = classification(df_train_b1_nw_f1, df_train_b1_nw_f1_wap, 'room', 'knn')\n",
    "print(\"[F1] Average balanced accuracy: %.2f%% ± %.2f%%\" % (mean_ci(cvs)[0]* 100, mean_ci(cvs)[1] * 100))\n",
    "cvs = classification(df_train_b1_nw_f2, df_train_b1_nw_f2_wap, 'room', 'knn')\n",
    "print(\"[F2] Average balanced accuracy: %.2f%% ± %.2f%%\" % (mean_ci(cvs)[0]* 100, mean_ci(cvs)[1] * 100))\n",
    "cvs = classification(df_train_b1_nw_f3, df_train_b1_nw_f3_wap, 'room', 'knn')\n",
    "print(\"[F3] Average balanced accuracy: %.2f%% ± %.2f%%\" % (mean_ci(cvs)[0]* 100, mean_ci(cvs)[1] * 100))\n",
    "\n",
    "print(\"\\nCV RESULTS - MULT-LR\")\n",
    "cvs = classification(df_train_b1_nw_f0, df_train_b1_nw_f0_wap, 'room', 'lr')\n",
    "print(\"[F0] Average balanced accuracy: %.2f%% ± %.2f%%\" % (mean_ci(cvs)[0]* 100, mean_ci(cvs)[1] * 100))\n",
    "cvs = classification(df_train_b1_nw_f1, df_train_b1_nw_f1_wap, 'room', 'lr')\n",
    "print(\"[F1] Average balanced accuracy: %.2f%% ± %.2f%%\" % (mean_ci(cvs)[0]* 100, mean_ci(cvs)[1] * 100))\n",
    "cvs = classification(df_train_b1_nw_f2, df_train_b1_nw_f2_wap, 'room', 'lr')\n",
    "print(\"[F2] Average balanced accuracy: %.2f%% ± %.2f%%\" % (mean_ci(cvs)[0]* 100, mean_ci(cvs)[1] * 100))\n",
    "cvs = classification(df_train_b1_nw_f3, df_train_b1_nw_f3_wap, 'room', 'lr')\n",
    "print(\"[F3] Average balanced accuracy: %.2f%% ± %.2f%%\" % (mean_ci(cvs)[0]* 100, mean_ci(cvs)[1] * 100))\n",
    "\n",
    "\n",
    "print(\"\\nCV RESULTS - SVM\")\n",
    "cvs = classification(df_train_b1_nw_f0, df_train_b1_nw_f0_wap, 'room', 'svm')\n",
    "print(\"[F0] Average balanced accuracy: %.2f%% ± %.2f%%\" % (mean_ci(cvs)[0]* 100, mean_ci(cvs)[1] * 100))\n",
    "cvs = classification(df_train_b1_nw_f1, df_train_b1_nw_f1_wap, 'room', 'svm')\n",
    "print(\"[F1] Average balanced accuracy: %.2f%% ± %.2f%%\" % (mean_ci(cvs)[0]* 100, mean_ci(cvs)[1] * 100))\n",
    "cvs = classification(df_train_b1_nw_f2, df_train_b1_nw_f2_wap, 'room', 'svm')\n",
    "print(\"[F2] Average balanced accuracy: %.2f%% ± %.2f%%\" % (mean_ci(cvs)[0]* 100, mean_ci(cvs)[1] * 100))\n",
    "cvs = classification(df_train_b1_nw_f3, df_train_b1_nw_f3_wap, 'room', 'svm')\n",
    "print(\"[F3] Average balanced accuracy: %.2f%% ± %.2f%%\" % (mean_ci(cvs)[0]* 100, mean_ci(cvs)[1] * 100))"
   ]
  },
  {
   "cell_type": "markdown",
   "metadata": {},
   "source": [
    "*SE*"
   ]
  },
  {
   "cell_type": "code",
   "execution_count": 25,
   "metadata": {},
   "outputs": [
    {
     "name": "stdout",
     "output_type": "stream",
     "text": [
      "CV RESULTS - KNN\n",
      "[F0] Average balanced accuracy: 91.18% ± 5.12%\n",
      "[F1] Average balanced accuracy: 89.05% ± 5.57%\n",
      "[F2] Average balanced accuracy: 96.86% ± 2.43%\n",
      "[F3] Average balanced accuracy: 95.00% ± 6.08%\n",
      "\n",
      "CV RESULTS - MULT-LR\n",
      "[F0] Average balanced accuracy: 93.04% ± 5.37%\n",
      "[F1] Average balanced accuracy: 90.00% ± 7.35%\n",
      "[F2] Average balanced accuracy: 98.03% ± 2.00%\n",
      "[F3] Average balanced accuracy: 94.00% ± 6.91%\n",
      "\n",
      "CV RESULTS - SVM\n",
      "[F0] Average balanced accuracy: 94.19% ± 5.13%\n",
      "[F1] Average balanced accuracy: 90.95% ± 4.31%\n",
      "[F2] Average balanced accuracy: 97.86% ± 2.10%\n",
      "[F3] Average balanced accuracy: 94.00% ± 6.91%\n"
     ]
    }
   ],
   "source": [
    "print(\"CV RESULTS - KNN\")\n",
    "cvs = classification(df_train_b1_se_f0, df_train_b1_se_f0_wap, 'room', 'knn')\n",
    "print(\"[F0] Average balanced accuracy: %.2f%% ± %.2f%%\" % (mean_ci(cvs)[0]* 100, mean_ci(cvs)[1] * 100))\n",
    "cvs = classification(df_train_b1_se_f1, df_train_b1_se_f1_wap, 'room', 'knn')\n",
    "print(\"[F1] Average balanced accuracy: %.2f%% ± %.2f%%\" % (mean_ci(cvs)[0]* 100, mean_ci(cvs)[1] * 100))\n",
    "cvs = classification(df_train_b1_se_f2, df_train_b1_se_f2_wap, 'room', 'knn')\n",
    "print(\"[F2] Average balanced accuracy: %.2f%% ± %.2f%%\" % (mean_ci(cvs)[0]* 100, mean_ci(cvs)[1] * 100))\n",
    "cvs = classification(df_train_b1_se_f3, df_train_b1_se_f3_wap, 'room', 'knn')\n",
    "print(\"[F3] Average balanced accuracy: %.2f%% ± %.2f%%\" % (mean_ci(cvs)[0]* 100, mean_ci(cvs)[1] * 100))\n",
    "\n",
    "print(\"\\nCV RESULTS - MULT-LR\")\n",
    "cvs = classification(df_train_b1_se_f0, df_train_b1_se_f0_wap, 'room', 'lr')\n",
    "print(\"[F0] Average balanced accuracy: %.2f%% ± %.2f%%\" % (mean_ci(cvs)[0]* 100, mean_ci(cvs)[1] * 100))\n",
    "cvs = classification(df_train_b1_se_f1, df_train_b1_se_f1_wap, 'room', 'lr')\n",
    "print(\"[F1] Average balanced accuracy: %.2f%% ± %.2f%%\" % (mean_ci(cvs)[0]* 100, mean_ci(cvs)[1] * 100))\n",
    "cvs = classification(df_train_b1_se_f2, df_train_b1_se_f2_wap, 'room', 'lr')\n",
    "print(\"[F2] Average balanced accuracy: %.2f%% ± %.2f%%\" % (mean_ci(cvs)[0]* 100, mean_ci(cvs)[1] * 100))\n",
    "cvs = classification(df_train_b1_se_f3, df_train_b1_se_f3_wap, 'room', 'lr')\n",
    "print(\"[F3] Average balanced accuracy: %.2f%% ± %.2f%%\" % (mean_ci(cvs)[0]* 100, mean_ci(cvs)[1] * 100))\n",
    "\n",
    "\n",
    "print(\"\\nCV RESULTS - SVM\")\n",
    "cvs = classification(df_train_b1_se_f0, df_train_b1_se_f0_wap, 'room', 'svm')\n",
    "print(\"[F0] Average balanced accuracy: %.2f%% ± %.2f%%\" % (mean_ci(cvs)[0]* 100, mean_ci(cvs)[1] * 100))\n",
    "cvs = classification(df_train_b1_se_f1, df_train_b1_se_f1_wap, 'room', 'svm')\n",
    "print(\"[F1] Average balanced accuracy: %.2f%% ± %.2f%%\" % (mean_ci(cvs)[0]* 100, mean_ci(cvs)[1] * 100))\n",
    "cvs = classification(df_train_b1_se_f2, df_train_b1_se_f2_wap, 'room', 'svm')\n",
    "print(\"[F2] Average balanced accuracy: %.2f%% ± %.2f%%\" % (mean_ci(cvs)[0]* 100, mean_ci(cvs)[1] * 100))\n",
    "cvs = classification(df_train_b1_se_f3, df_train_b1_se_f3_wap, 'room', 'svm')\n",
    "print(\"[F3] Average balanced accuracy: %.2f%% ± %.2f%%\" % (mean_ci(cvs)[0]* 100, mean_ci(cvs)[1] * 100))"
   ]
  },
  {
   "cell_type": "markdown",
   "metadata": {},
   "source": [
    "*SW*"
   ]
  },
  {
   "cell_type": "code",
   "execution_count": 26,
   "metadata": {},
   "outputs": [
    {
     "name": "stdout",
     "output_type": "stream",
     "text": [
      "CV RESULTS - KNN\n",
      "[F0] Average balanced accuracy: 85.83% ± 5.66%\n",
      "[F1] Average balanced accuracy: 83.79% ± 10.13%\n",
      "[F2] Average balanced accuracy: 85.36% ± 7.45%\n",
      "[F3] Average balanced accuracy: 85.00% ± 10.99%\n",
      "\n",
      "CV RESULTS - MULT-LR\n",
      "[F0] Average balanced accuracy: 85.83% ± 8.45%\n",
      "[F1] Average balanced accuracy: 84.48% ± 7.93%\n",
      "[F2] Average balanced accuracy: 82.74% ± 8.29%\n",
      "[F3] Average balanced accuracy: 83.75% ± 14.63%\n",
      "\n",
      "CV RESULTS - SVM\n",
      "[F0] Average balanced accuracy: 83.33% ± 8.89%\n",
      "[F1] Average balanced accuracy: 83.15% ± 9.91%\n",
      "[F2] Average balanced accuracy: 84.40% ± 5.36%\n",
      "[F3] Average balanced accuracy: 83.75% ± 15.23%\n"
     ]
    }
   ],
   "source": [
    "print(\"CV RESULTS - KNN\")\n",
    "cvs = classification(df_train_b1_sw_f0, df_train_b1_sw_f0_wap, 'room', 'knn')\n",
    "print(\"[F0] Average balanced accuracy: %.2f%% ± %.2f%%\" % (mean_ci(cvs)[0]* 100, mean_ci(cvs)[1] * 100))\n",
    "cvs = classification(df_train_b1_sw_f1, df_train_b1_sw_f1_wap, 'room', 'knn')\n",
    "print(\"[F1] Average balanced accuracy: %.2f%% ± %.2f%%\" % (mean_ci(cvs)[0]* 100, mean_ci(cvs)[1] * 100))\n",
    "cvs = classification(df_train_b1_sw_f2, df_train_b1_sw_f2_wap, 'room', 'knn')\n",
    "print(\"[F2] Average balanced accuracy: %.2f%% ± %.2f%%\" % (mean_ci(cvs)[0]* 100, mean_ci(cvs)[1] * 100))\n",
    "cvs = classification(df_train_b1_sw_f3, df_train_b1_sw_f3_wap, 'room', 'knn')\n",
    "print(\"[F3] Average balanced accuracy: %.2f%% ± %.2f%%\" % (mean_ci(cvs)[0]* 100, mean_ci(cvs)[1] * 100))\n",
    "\n",
    "print(\"\\nCV RESULTS - MULT-LR\")\n",
    "cvs = classification(df_train_b1_sw_f0, df_train_b1_sw_f0_wap, 'room', 'lr')\n",
    "print(\"[F0] Average balanced accuracy: %.2f%% ± %.2f%%\" % (mean_ci(cvs)[0]* 100, mean_ci(cvs)[1] * 100))\n",
    "cvs = classification(df_train_b1_sw_f1, df_train_b1_sw_f1_wap, 'room', 'lr')\n",
    "print(\"[F1] Average balanced accuracy: %.2f%% ± %.2f%%\" % (mean_ci(cvs)[0]* 100, mean_ci(cvs)[1] * 100))\n",
    "cvs = classification(df_train_b1_sw_f2, df_train_b1_sw_f2_wap, 'room', 'lr')\n",
    "print(\"[F2] Average balanced accuracy: %.2f%% ± %.2f%%\" % (mean_ci(cvs)[0]* 100, mean_ci(cvs)[1] * 100))\n",
    "cvs = classification(df_train_b1_sw_f3, df_train_b1_sw_f3_wap, 'room', 'lr')\n",
    "print(\"[F3] Average balanced accuracy: %.2f%% ± %.2f%%\" % (mean_ci(cvs)[0]* 100, mean_ci(cvs)[1] * 100))\n",
    "\n",
    "\n",
    "print(\"\\nCV RESULTS - SVM\")\n",
    "cvs = classification(df_train_b1_sw_f0, df_train_b1_sw_f0_wap, 'room', 'svm')\n",
    "print(\"[F0] Average balanced accuracy: %.2f%% ± %.2f%%\" % (mean_ci(cvs)[0]* 100, mean_ci(cvs)[1] * 100))\n",
    "cvs = classification(df_train_b1_sw_f1, df_train_b1_sw_f1_wap, 'room', 'svm')\n",
    "print(\"[F1] Average balanced accuracy: %.2f%% ± %.2f%%\" % (mean_ci(cvs)[0]* 100, mean_ci(cvs)[1] * 100))\n",
    "cvs = classification(df_train_b1_sw_f2, df_train_b1_sw_f2_wap, 'room', 'svm')\n",
    "print(\"[F2] Average balanced accuracy: %.2f%% ± %.2f%%\" % (mean_ci(cvs)[0]* 100, mean_ci(cvs)[1] * 100))\n",
    "cvs = classification(df_train_b1_sw_f3, df_train_b1_sw_f3_wap, 'room', 'svm')\n",
    "print(\"[F3] Average balanced accuracy: %.2f%% ± %.2f%%\" % (mean_ci(cvs)[0]* 100, mean_ci(cvs)[1] * 100))"
   ]
  },
  {
   "cell_type": "markdown",
   "metadata": {},
   "source": [
    "*CT*"
   ]
  },
  {
   "cell_type": "code",
   "execution_count": 27,
   "metadata": {},
   "outputs": [
    {
     "name": "stdout",
     "output_type": "stream",
     "text": [
      "CV RESULTS - KNN\n",
      "[F0] Average balanced accuracy: 87.18% ± 9.02%\n",
      "[F1] Average balanced accuracy: 62.55% ± 3.87%\n",
      "[F2] Average balanced accuracy: 81.83% ± 5.82%\n",
      "[F3] Average balanced accuracy: 72.33% ± 8.53%\n",
      "\n",
      "CV RESULTS - MULT-LR\n",
      "[F0] Average balanced accuracy: 87.55% ± 10.47%\n",
      "[F1] Average balanced accuracy: 63.59% ± 3.57%\n",
      "[F2] Average balanced accuracy: 88.91% ± 3.71%\n",
      "[F3] Average balanced accuracy: 75.01% ± 6.79%\n",
      "\n",
      "CV RESULTS - SVM\n",
      "[F0] Average balanced accuracy: 81.18% ± 6.41%\n",
      "[F1] Average balanced accuracy: 63.77% ± 3.89%\n",
      "[F2] Average balanced accuracy: 87.05% ± 5.17%\n",
      "[F3] Average balanced accuracy: 71.89% ± 7.06%\n"
     ]
    }
   ],
   "source": [
    "print(\"CV RESULTS - KNN\")\n",
    "cvs = classification(df_train_b1_ct_f0, df_train_b1_ct_f0_wap, 'room', 'knn')\n",
    "print(\"[F0] Average balanced accuracy: %.2f%% ± %.2f%%\" % (mean_ci(cvs)[0]* 100, mean_ci(cvs)[1] * 100))\n",
    "cvs = classification(df_train_b1_ct_f1, df_train_b1_ct_f1_wap, 'room', 'knn')\n",
    "print(\"[F1] Average balanced accuracy: %.2f%% ± %.2f%%\" % (mean_ci(cvs)[0]* 100, mean_ci(cvs)[1] * 100))\n",
    "cvs = classification(df_train_b1_ct_f2, df_train_b1_ct_f2_wap, 'room', 'knn')\n",
    "print(\"[F2] Average balanced accuracy: %.2f%% ± %.2f%%\" % (mean_ci(cvs)[0]* 100, mean_ci(cvs)[1] * 100))\n",
    "cvs = classification(df_train_b1_ct_f3, df_train_b1_ct_f3_wap, 'room', 'knn')\n",
    "print(\"[F3] Average balanced accuracy: %.2f%% ± %.2f%%\" % (mean_ci(cvs)[0]* 100, mean_ci(cvs)[1] * 100))\n",
    "\n",
    "print(\"\\nCV RESULTS - MULT-LR\")\n",
    "cvs = classification(df_train_b1_ct_f0, df_train_b1_ct_f0_wap, 'room', 'lr')\n",
    "print(\"[F0] Average balanced accuracy: %.2f%% ± %.2f%%\" % (mean_ci(cvs)[0]* 100, mean_ci(cvs)[1] * 100))\n",
    "cvs = classification(df_train_b1_ct_f1, df_train_b1_ct_f1_wap, 'room', 'lr')\n",
    "print(\"[F1] Average balanced accuracy: %.2f%% ± %.2f%%\" % (mean_ci(cvs)[0]* 100, mean_ci(cvs)[1] * 100))\n",
    "cvs = classification(df_train_b1_ct_f2, df_train_b1_ct_f2_wap, 'room', 'lr')\n",
    "print(\"[F2] Average balanced accuracy: %.2f%% ± %.2f%%\" % (mean_ci(cvs)[0]* 100, mean_ci(cvs)[1] * 100))\n",
    "cvs = classification(df_train_b1_ct_f3, df_train_b1_ct_f3_wap, 'room', 'lr')\n",
    "print(\"[F3] Average balanced accuracy: %.2f%% ± %.2f%%\" % (mean_ci(cvs)[0]* 100, mean_ci(cvs)[1] * 100))\n",
    "\n",
    "\n",
    "print(\"\\nCV RESULTS - SVM\")\n",
    "cvs = classification(df_train_b1_ct_f0, df_train_b1_ct_f0_wap, 'room', 'svm')\n",
    "print(\"[F0] Average balanced accuracy: %.2f%% ± %.2f%%\" % (mean_ci(cvs)[0]* 100, mean_ci(cvs)[1] * 100))\n",
    "cvs = classification(df_train_b1_ct_f1, df_train_b1_ct_f1_wap, 'room', 'svm')\n",
    "print(\"[F1] Average balanced accuracy: %.2f%% ± %.2f%%\" % (mean_ci(cvs)[0]* 100, mean_ci(cvs)[1] * 100))\n",
    "cvs = classification(df_train_b1_ct_f2, df_train_b1_ct_f2_wap, 'room', 'svm')\n",
    "print(\"[F2] Average balanced accuracy: %.2f%% ± %.2f%%\" % (mean_ci(cvs)[0]* 100, mean_ci(cvs)[1] * 100))\n",
    "cvs = classification(df_train_b1_ct_f3, df_train_b1_ct_f3_wap, 'room', 'svm')\n",
    "print(\"[F3] Average balanced accuracy: %.2f%% ± %.2f%%\" % (mean_ci(cvs)[0]* 100, mean_ci(cvs)[1] * 100))"
   ]
  },
  {
   "cell_type": "markdown",
   "metadata": {},
   "source": [
    "### Building 2"
   ]
  },
  {
   "cell_type": "markdown",
   "metadata": {},
   "source": [
    "*NE*"
   ]
  },
  {
   "cell_type": "code",
   "execution_count": 28,
   "metadata": {},
   "outputs": [
    {
     "name": "stdout",
     "output_type": "stream",
     "text": [
      "CV RESULTS - KNN\n",
      "[F0] Average balanced accuracy: 79.18% ± 5.00%\n",
      "[F1] Average balanced accuracy: 75.20% ± 7.86%\n",
      "[F2] Average balanced accuracy: 74.83% ± 8.37%\n",
      "[F3] Average balanced accuracy: 69.06% ± 8.59%\n",
      "\n",
      "CV RESULTS - MULT-LR\n",
      "[F0] Average balanced accuracy: 83.98% ± 4.71%\n",
      "[F1] Average balanced accuracy: 76.29% ± 7.45%\n",
      "[F2] Average balanced accuracy: 83.06% ± 8.19%\n",
      "[F3] Average balanced accuracy: 75.50% ± 7.29%\n",
      "\n",
      "CV RESULTS - SVM\n",
      "[F0] Average balanced accuracy: 82.18% ± 5.47%\n",
      "[F1] Average balanced accuracy: 79.78% ± 7.23%\n",
      "[F2] Average balanced accuracy: 84.86% ± 6.49%\n",
      "[F3] Average balanced accuracy: 77.79% ± 7.88%\n"
     ]
    }
   ],
   "source": [
    "print(\"CV RESULTS - KNN\")\n",
    "cvs = classification(df_train_b2_ne_f0, df_train_b2_ne_f0_wap, 'room', 'knn')\n",
    "print(\"[F0] Average balanced accuracy: %.2f%% ± %.2f%%\" % (mean_ci(cvs)[0]* 100, mean_ci(cvs)[1] * 100))\n",
    "cvs = classification(df_train_b2_ne_f1, df_train_b2_ne_f1_wap, 'room', 'knn')\n",
    "print(\"[F1] Average balanced accuracy: %.2f%% ± %.2f%%\" % (mean_ci(cvs)[0]* 100, mean_ci(cvs)[1] * 100))\n",
    "cvs = classification(df_train_b2_ne_f2, df_train_b2_ne_f2_wap, 'room', 'knn')\n",
    "print(\"[F2] Average balanced accuracy: %.2f%% ± %.2f%%\" % (mean_ci(cvs)[0]* 100, mean_ci(cvs)[1] * 100))\n",
    "cvs = classification(df_train_b2_ne_f3, df_train_b2_ne_f3_wap, 'room', 'knn')\n",
    "print(\"[F3] Average balanced accuracy: %.2f%% ± %.2f%%\" % (mean_ci(cvs)[0]* 100, mean_ci(cvs)[1] * 100))\n",
    "cvs = classification(df_train_b2_ne_f4, df_train_b2_ne_f4_wap, 'room', 'knn')\n",
    "print(\"[F4] Average balanced accuracy: %.2f%% ± %.2f%%\" % (mean_ci(cvs)[0]* 100, mean_ci(cvs)[1] * 100))\n",
    "\n",
    "print(\"\\nCV RESULTS - MULT-LR\")\n",
    "cvs = classification(df_train_b2_ne_f0, df_train_b2_ne_f0_wap, 'room', 'lr')\n",
    "print(\"[F0] Average balanced accuracy: %.2f%% ± %.2f%%\" % (mean_ci(cvs)[0]* 100, mean_ci(cvs)[1] * 100))\n",
    "cvs = classification(df_train_b2_ne_f1, df_train_b2_ne_f1_wap, 'room', 'lr')\n",
    "print(\"[F1] Average balanced accuracy: %.2f%% ± %.2f%%\" % (mean_ci(cvs)[0]* 100, mean_ci(cvs)[1] * 100))\n",
    "cvs = classification(df_train_b2_ne_f2, df_train_b2_ne_f2_wap, 'room', 'lr')\n",
    "print(\"[F2] Average balanced accuracy: %.2f%% ± %.2f%%\" % (mean_ci(cvs)[0]* 100, mean_ci(cvs)[1] * 100))\n",
    "cvs = classification(df_train_b2_ne_f3, df_train_b2_ne_f3_wap, 'room', 'lr')\n",
    "print(\"[F3] Average balanced accuracy: %.2f%% ± %.2f%%\" % (mean_ci(cvs)[0]* 100, mean_ci(cvs)[1] * 100))\n",
    "\n",
    "print(\"\\nCV RESULTS - SVM\")\n",
    "cvs = classification(df_train_b2_ne_f0, df_train_b2_ne_f0_wap, 'room', 'svm')\n",
    "print(\"[F0] Average balanced accuracy: %.2f%% ± %.2f%%\" % (mean_ci(cvs)[0]* 100, mean_ci(cvs)[1] * 100))\n",
    "cvs = classification(df_train_b2_ne_f1, df_train_b2_ne_f1_wap, 'room', 'svm')\n",
    "print(\"[F1] Average balanced accuracy: %.2f%% ± %.2f%%\" % (mean_ci(cvs)[0]* 100, mean_ci(cvs)[1] * 100))\n",
    "cvs = classification(df_train_b2_ne_f2, df_train_b2_ne_f2_wap, 'room', 'svm')\n",
    "print(\"[F2] Average balanced accuracy: %.2f%% ± %.2f%%\" % (mean_ci(cvs)[0]* 100, mean_ci(cvs)[1] * 100))\n",
    "cvs = classification(df_train_b2_ne_f3, df_train_b2_ne_f3_wap, 'room', 'svm')\n",
    "print(\"[F3] Average balanced accuracy: %.2f%% ± %.2f%%\" % (mean_ci(cvs)[0]* 100, mean_ci(cvs)[1] * 100))"
   ]
  },
  {
   "cell_type": "markdown",
   "metadata": {},
   "source": [
    "*NW*"
   ]
  },
  {
   "cell_type": "code",
   "execution_count": 29,
   "metadata": {},
   "outputs": [
    {
     "name": "stdout",
     "output_type": "stream",
     "text": [
      "CV RESULTS - KNN\n",
      "[F0] Average balanced accuracy: 75.35% ± 9.70%\n",
      "[F1] Average balanced accuracy: 65.94% ± 5.06%\n",
      "[F2] Average balanced accuracy: 72.86% ± 8.84%\n",
      "[F3] Average balanced accuracy: 65.17% ± 9.53%\n",
      "[F4] Average balanced accuracy: 47.56% ± 28.21%\n",
      "\n",
      "CV RESULTS - MULT-LR\n",
      "[F0] Average balanced accuracy: 78.63% ± 8.25%\n",
      "[F1] Average balanced accuracy: 70.73% ± 3.12%\n",
      "[F2] Average balanced accuracy: 81.40% ± 7.15%\n",
      "[F3] Average balanced accuracy: 67.24% ± 8.80%\n",
      "[F4] Average balanced accuracy: 49.29% ± 29.64%\n",
      "\n",
      "CV RESULTS - SVM\n",
      "[F0] Average balanced accuracy: 79.27% ± 8.83%\n",
      "[F1] Average balanced accuracy: 73.84% ± 4.46%\n",
      "[F2] Average balanced accuracy: 86.22% ± 7.01%\n",
      "[F3] Average balanced accuracy: 70.60% ± 7.05%\n",
      "[F4] Average balanced accuracy: 49.87% ± 29.92%\n"
     ]
    }
   ],
   "source": [
    "print(\"CV RESULTS - KNN\")\n",
    "cvs = classification(df_train_b2_nw_f0, df_train_b2_nw_f0_wap, 'room', 'knn')\n",
    "print(\"[F0] Average balanced accuracy: %.2f%% ± %.2f%%\" % (mean_ci(cvs)[0]* 100, mean_ci(cvs)[1] * 100))\n",
    "cvs = classification(df_train_b2_nw_f1, df_train_b2_nw_f1_wap, 'room', 'knn')\n",
    "print(\"[F1] Average balanced accuracy: %.2f%% ± %.2f%%\" % (mean_ci(cvs)[0]* 100, mean_ci(cvs)[1] * 100))\n",
    "cvs = classification(df_train_b2_nw_f2, df_train_b2_nw_f2_wap, 'room', 'knn')\n",
    "print(\"[F2] Average balanced accuracy: %.2f%% ± %.2f%%\" % (mean_ci(cvs)[0]* 100, mean_ci(cvs)[1] * 100))\n",
    "cvs = classification(df_train_b2_nw_f3, df_train_b2_nw_f3_wap, 'room', 'knn')\n",
    "print(\"[F3] Average balanced accuracy: %.2f%% ± %.2f%%\" % (mean_ci(cvs)[0]* 100, mean_ci(cvs)[1] * 100))\n",
    "cvs = classification(df_train_b2_nw_f4, df_train_b2_nw_f4_wap, 'room', 'knn')\n",
    "print(\"[F4] Average balanced accuracy: %.2f%% ± %.2f%%\" % (mean_ci(cvs)[0]* 100, mean_ci(cvs)[1] * 100))\n",
    "\n",
    "print(\"\\nCV RESULTS - MULT-LR\")\n",
    "cvs = classification(df_train_b2_nw_f0, df_train_b2_nw_f0_wap, 'room', 'lr')\n",
    "print(\"[F0] Average balanced accuracy: %.2f%% ± %.2f%%\" % (mean_ci(cvs)[0]* 100, mean_ci(cvs)[1] * 100))\n",
    "cvs = classification(df_train_b2_nw_f1, df_train_b2_nw_f1_wap, 'room', 'lr')\n",
    "print(\"[F1] Average balanced accuracy: %.2f%% ± %.2f%%\" % (mean_ci(cvs)[0]* 100, mean_ci(cvs)[1] * 100))\n",
    "cvs = classification(df_train_b2_nw_f2, df_train_b2_nw_f2_wap, 'room', 'lr')\n",
    "print(\"[F2] Average balanced accuracy: %.2f%% ± %.2f%%\" % (mean_ci(cvs)[0]* 100, mean_ci(cvs)[1] * 100))\n",
    "cvs = classification(df_train_b2_nw_f3, df_train_b2_nw_f3_wap, 'room', 'lr')\n",
    "print(\"[F3] Average balanced accuracy: %.2f%% ± %.2f%%\" % (mean_ci(cvs)[0]* 100, mean_ci(cvs)[1] * 100))\n",
    "cvs = classification(df_train_b2_nw_f4, df_train_b2_nw_f4_wap, 'room', 'lr')\n",
    "print(\"[F4] Average balanced accuracy: %.2f%% ± %.2f%%\" % (mean_ci(cvs)[0]* 100, mean_ci(cvs)[1] * 100))\n",
    "\n",
    "\n",
    "print(\"\\nCV RESULTS - SVM\")\n",
    "cvs = classification(df_train_b2_nw_f0, df_train_b2_nw_f0_wap, 'room', 'svm')\n",
    "print(\"[F0] Average balanced accuracy: %.2f%% ± %.2f%%\" % (mean_ci(cvs)[0]* 100, mean_ci(cvs)[1] * 100))\n",
    "cvs = classification(df_train_b2_nw_f1, df_train_b2_nw_f1_wap, 'room', 'svm')\n",
    "print(\"[F1] Average balanced accuracy: %.2f%% ± %.2f%%\" % (mean_ci(cvs)[0]* 100, mean_ci(cvs)[1] * 100))\n",
    "cvs = classification(df_train_b2_nw_f2, df_train_b2_nw_f2_wap, 'room', 'svm')\n",
    "print(\"[F2] Average balanced accuracy: %.2f%% ± %.2f%%\" % (mean_ci(cvs)[0]* 100, mean_ci(cvs)[1] * 100))\n",
    "cvs = classification(df_train_b2_nw_f3, df_train_b2_nw_f3_wap, 'room', 'svm')\n",
    "print(\"[F3] Average balanced accuracy: %.2f%% ± %.2f%%\" % (mean_ci(cvs)[0]* 100, mean_ci(cvs)[1] * 100))\n",
    "cvs = classification(df_train_b2_nw_f4, df_train_b2_nw_f4_wap, 'room', 'svm')\n",
    "print(\"[F4] Average balanced accuracy: %.2f%% ± %.2f%%\" % (mean_ci(cvs)[0]* 100, mean_ci(cvs)[1] * 100))"
   ]
  },
  {
   "cell_type": "markdown",
   "metadata": {},
   "source": [
    "*SE*"
   ]
  },
  {
   "cell_type": "code",
   "execution_count": 30,
   "metadata": {},
   "outputs": [
    {
     "name": "stdout",
     "output_type": "stream",
     "text": [
      "CV RESULTS - KNN\n",
      "[F0] Average balanced accuracy: 93.81% ± 4.76%\n",
      "[F1] Average balanced accuracy: 91.72% ± 6.68%\n",
      "[F2] Average balanced accuracy: 85.83% ± 7.74%\n",
      "[F3] Average balanced accuracy: 76.77% ± 12.20%\n",
      "\n",
      "CV RESULTS - MULT-LR\n",
      "[F0] Average balanced accuracy: 92.33% ± 5.79%\n",
      "[F1] Average balanced accuracy: 91.37% ± 8.41%\n",
      "[F2] Average balanced accuracy: 89.86% ± 8.56%\n",
      "[F3] Average balanced accuracy: 82.31% ± 9.87%\n",
      "\n",
      "CV RESULTS - SVM\n",
      "[F0] Average balanced accuracy: 91.90% ± 6.23%\n",
      "[F1] Average balanced accuracy: 91.37% ± 7.96%\n",
      "[F2] Average balanced accuracy: 89.31% ± 8.48%\n",
      "[F3] Average balanced accuracy: 83.12% ± 9.56%\n"
     ]
    }
   ],
   "source": [
    "print(\"CV RESULTS - KNN\")\n",
    "cvs = classification(df_train_b2_se_f0, df_train_b2_se_f0_wap, 'room', 'knn')\n",
    "print(\"[F0] Average balanced accuracy: %.2f%% ± %.2f%%\" % (mean_ci(cvs)[0]* 100, mean_ci(cvs)[1] * 100))\n",
    "cvs = classification(df_train_b2_se_f1, df_train_b2_se_f1_wap, 'room', 'knn')\n",
    "print(\"[F1] Average balanced accuracy: %.2f%% ± %.2f%%\" % (mean_ci(cvs)[0]* 100, mean_ci(cvs)[1] * 100))\n",
    "cvs = classification(df_train_b2_se_f2, df_train_b2_se_f2_wap, 'room', 'knn')\n",
    "print(\"[F2] Average balanced accuracy: %.2f%% ± %.2f%%\" % (mean_ci(cvs)[0]* 100, mean_ci(cvs)[1] * 100))\n",
    "cvs = classification(df_train_b2_se_f3, df_train_b2_se_f3_wap, 'room', 'knn')\n",
    "print(\"[F3] Average balanced accuracy: %.2f%% ± %.2f%%\" % (mean_ci(cvs)[0]* 100, mean_ci(cvs)[1] * 100))\n",
    "\n",
    "print(\"\\nCV RESULTS - MULT-LR\")\n",
    "cvs = classification(df_train_b2_se_f0, df_train_b2_se_f0_wap, 'room', 'lr')\n",
    "print(\"[F0] Average balanced accuracy: %.2f%% ± %.2f%%\" % (mean_ci(cvs)[0]* 100, mean_ci(cvs)[1] * 100))\n",
    "cvs = classification(df_train_b2_se_f1, df_train_b2_se_f1_wap, 'room', 'lr')\n",
    "print(\"[F1] Average balanced accuracy: %.2f%% ± %.2f%%\" % (mean_ci(cvs)[0]* 100, mean_ci(cvs)[1] * 100))\n",
    "cvs = classification(df_train_b2_se_f2, df_train_b2_se_f2_wap, 'room', 'lr')\n",
    "print(\"[F2] Average balanced accuracy: %.2f%% ± %.2f%%\" % (mean_ci(cvs)[0]* 100, mean_ci(cvs)[1] * 100))\n",
    "cvs = classification(df_train_b2_se_f3, df_train_b2_se_f3_wap, 'room', 'lr')\n",
    "print(\"[F3] Average balanced accuracy: %.2f%% ± %.2f%%\" % (mean_ci(cvs)[0]* 100, mean_ci(cvs)[1] * 100))\n",
    "\n",
    "print(\"\\nCV RESULTS - SVM\")\n",
    "cvs = classification(df_train_b2_se_f0, df_train_b2_se_f0_wap, 'room', 'svm')\n",
    "print(\"[F0] Average balanced accuracy: %.2f%% ± %.2f%%\" % (mean_ci(cvs)[0]* 100, mean_ci(cvs)[1] * 100))\n",
    "cvs = classification(df_train_b2_se_f1, df_train_b2_se_f1_wap, 'room', 'svm')\n",
    "print(\"[F1] Average balanced accuracy: %.2f%% ± %.2f%%\" % (mean_ci(cvs)[0]* 100, mean_ci(cvs)[1] * 100))\n",
    "cvs = classification(df_train_b2_se_f2, df_train_b2_se_f2_wap, 'room', 'svm')\n",
    "print(\"[F2] Average balanced accuracy: %.2f%% ± %.2f%%\" % (mean_ci(cvs)[0]* 100, mean_ci(cvs)[1] * 100))\n",
    "cvs = classification(df_train_b2_se_f3, df_train_b2_se_f3_wap, 'room', 'svm')\n",
    "print(\"[F3] Average balanced accuracy: %.2f%% ± %.2f%%\" % (mean_ci(cvs)[0]* 100, mean_ci(cvs)[1] * 100))"
   ]
  },
  {
   "cell_type": "markdown",
   "metadata": {},
   "source": [
    "*SW*"
   ]
  },
  {
   "cell_type": "code",
   "execution_count": 31,
   "metadata": {},
   "outputs": [
    {
     "name": "stdout",
     "output_type": "stream",
     "text": [
      "CV RESULTS - KNN\n",
      "[F0] Average balanced accuracy: 88.70% ± 8.20%\n",
      "[F1] Average balanced accuracy: 88.18% ± 5.78%\n",
      "[F2] Average balanced accuracy: 86.52% ± 8.86%\n",
      "[F3] Average balanced accuracy: 79.22% ± 8.80%\n",
      "[F4] Average balanced accuracy: 87.76% ± 12.74%\n",
      "\n",
      "CV RESULTS - MULT-LR\n",
      "[F0] Average balanced accuracy: 91.11% ± 6.92%\n",
      "[F1] Average balanced accuracy: 90.45% ± 8.18%\n",
      "[F2] Average balanced accuracy: 93.12% ± 8.01%\n",
      "[F3] Average balanced accuracy: 82.19% ± 8.68%\n",
      "[F4] Average balanced accuracy: 92.47% ± 12.42%\n",
      "\n",
      "CV RESULTS - SVM\n",
      "[F0] Average balanced accuracy: 90.19% ± 8.24%\n",
      "[F1] Average balanced accuracy: 90.91% ± 7.19%\n",
      "[F2] Average balanced accuracy: 93.12% ± 8.01%\n",
      "[F3] Average balanced accuracy: 81.88% ± 7.49%\n",
      "[F4] Average balanced accuracy: 92.47% ± 11.59%\n"
     ]
    }
   ],
   "source": [
    "print(\"CV RESULTS - KNN\")\n",
    "cvs = classification(df_train_b2_sw_f0, df_train_b2_sw_f0_wap, 'room', 'knn')\n",
    "print(\"[F0] Average balanced accuracy: %.2f%% ± %.2f%%\" % (mean_ci(cvs)[0]* 100, mean_ci(cvs)[1] * 100))\n",
    "cvs = classification(df_train_b2_sw_f1, df_train_b2_sw_f1_wap, 'room', 'knn')\n",
    "print(\"[F1] Average balanced accuracy: %.2f%% ± %.2f%%\" % (mean_ci(cvs)[0]* 100, mean_ci(cvs)[1] * 100))\n",
    "cvs = classification(df_train_b2_sw_f2, df_train_b2_sw_f2_wap, 'room', 'knn')\n",
    "print(\"[F2] Average balanced accuracy: %.2f%% ± %.2f%%\" % (mean_ci(cvs)[0]* 100, mean_ci(cvs)[1] * 100))\n",
    "cvs = classification(df_train_b2_sw_f3, df_train_b2_sw_f3_wap, 'room', 'knn')\n",
    "print(\"[F3] Average balanced accuracy: %.2f%% ± %.2f%%\" % (mean_ci(cvs)[0]* 100, mean_ci(cvs)[1] * 100))\n",
    "cvs = classification(df_train_b2_sw_f4, df_train_b2_sw_f4_wap, 'room', 'knn')\n",
    "print(\"[F4] Average balanced accuracy: %.2f%% ± %.2f%%\" % (mean_ci(cvs)[0]* 100, mean_ci(cvs)[1] * 100))\n",
    "\n",
    "print(\"\\nCV RESULTS - MULT-LR\")\n",
    "cvs = classification(df_train_b2_sw_f0, df_train_b2_sw_f0_wap, 'room', 'lr')\n",
    "print(\"[F0] Average balanced accuracy: %.2f%% ± %.2f%%\" % (mean_ci(cvs)[0]* 100, mean_ci(cvs)[1] * 100))\n",
    "cvs = classification(df_train_b2_sw_f1, df_train_b2_sw_f1_wap, 'room', 'lr')\n",
    "print(\"[F1] Average balanced accuracy: %.2f%% ± %.2f%%\" % (mean_ci(cvs)[0]* 100, mean_ci(cvs)[1] * 100))\n",
    "cvs = classification(df_train_b2_sw_f2, df_train_b2_sw_f2_wap, 'room', 'lr')\n",
    "print(\"[F2] Average balanced accuracy: %.2f%% ± %.2f%%\" % (mean_ci(cvs)[0]* 100, mean_ci(cvs)[1] * 100))\n",
    "cvs = classification(df_train_b2_sw_f3, df_train_b2_sw_f3_wap, 'room', 'lr')\n",
    "print(\"[F3] Average balanced accuracy: %.2f%% ± %.2f%%\" % (mean_ci(cvs)[0]* 100, mean_ci(cvs)[1] * 100))\n",
    "cvs = classification(df_train_b2_sw_f4, df_train_b2_sw_f4_wap, 'room', 'lr')\n",
    "print(\"[F4] Average balanced accuracy: %.2f%% ± %.2f%%\" % (mean_ci(cvs)[0]* 100, mean_ci(cvs)[1] * 100))\n",
    "\n",
    "\n",
    "print(\"\\nCV RESULTS - SVM\")\n",
    "cvs = classification(df_train_b2_sw_f0, df_train_b2_sw_f0_wap, 'room', 'svm')\n",
    "print(\"[F0] Average balanced accuracy: %.2f%% ± %.2f%%\" % (mean_ci(cvs)[0]* 100, mean_ci(cvs)[1] * 100))\n",
    "cvs = classification(df_train_b2_sw_f1, df_train_b2_sw_f1_wap, 'room', 'svm')\n",
    "print(\"[F1] Average balanced accuracy: %.2f%% ± %.2f%%\" % (mean_ci(cvs)[0]* 100, mean_ci(cvs)[1] * 100))\n",
    "cvs = classification(df_train_b2_sw_f2, df_train_b2_sw_f2_wap, 'room', 'svm')\n",
    "print(\"[F2] Average balanced accuracy: %.2f%% ± %.2f%%\" % (mean_ci(cvs)[0]* 100, mean_ci(cvs)[1] * 100))\n",
    "cvs = classification(df_train_b2_sw_f3, df_train_b2_sw_f3_wap, 'room', 'svm')\n",
    "print(\"[F3] Average balanced accuracy: %.2f%% ± %.2f%%\" % (mean_ci(cvs)[0]* 100, mean_ci(cvs)[1] * 100))\n",
    "cvs = classification(df_train_b2_sw_f4, df_train_b2_sw_f4_wap, 'room', 'svm')\n",
    "print(\"[F4] Average balanced accuracy: %.2f%% ± %.2f%%\" % (mean_ci(cvs)[0]* 100, mean_ci(cvs)[1] * 100))"
   ]
  },
  {
   "cell_type": "code",
   "execution_count": null,
   "metadata": {},
   "outputs": [],
   "source": []
  }
 ],
 "metadata": {
  "kernelspec": {
   "display_name": "Python 3.8.0 64-bit ('venv': virtualenv)",
   "language": "python",
   "name": "python38064bitvenvvirtualenve617f17e49084a7c973a4e86cf48a722"
  },
  "language_info": {
   "codemirror_mode": {
    "name": "ipython",
    "version": 3
   },
   "file_extension": ".py",
   "mimetype": "text/x-python",
   "name": "python",
   "nbconvert_exporter": "python",
   "pygments_lexer": "ipython3",
   "version": "3.8.0"
  }
 },
 "nbformat": 4,
 "nbformat_minor": 2
}
