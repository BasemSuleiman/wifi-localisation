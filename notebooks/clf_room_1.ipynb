{
 "cells": [
  {
   "cell_type": "code",
   "execution_count": 1,
   "metadata": {},
   "outputs": [],
   "source": [
    "import sys\n",
    "sys.path.append('..')\n",
    "\n",
    "from utils.misc import *\n",
    "from utils.classifier import *\n",
    "from utils.visualiser import *"
   ]
  },
  {
   "cell_type": "markdown",
   "metadata": {},
   "source": [
    "## Loading pre-processed data"
   ]
  },
  {
   "cell_type": "code",
   "execution_count": 2,
   "metadata": {},
   "outputs": [],
   "source": [
    "# train\n",
    "df_train = pd.read_csv(\"../data/train/df_train.csv\", index_col=0)\n",
    "\n",
    "df_train_b0 = pd.read_csv(\"../data/train/df_train_b0.csv\", index_col=0)\n",
    "df_train_b1 = pd.read_csv(\"../data/train/df_train_b1.csv\", index_col=0)\n",
    "df_train_b2 = pd.read_csv(\"../data/train/df_train_b2.csv\", index_col=0)\n",
    "\n",
    "df_train_b0_f0 = pd.read_csv(\"../data/train/df_train_b0_f0.csv\", index_col=0)\n",
    "df_train_b0_f1 = pd.read_csv(\"../data/train/df_train_b0_f1.csv\", index_col=0)\n",
    "df_train_b0_f2 = pd.read_csv(\"../data/train/df_train_b0_f2.csv\", index_col=0)\n",
    "df_train_b0_f3 = pd.read_csv(\"../data/train/df_train_b0_f3.csv\", index_col=0)\n",
    "\n",
    "df_train_b1_f0 = pd.read_csv(\"../data/train/df_train_b1_f0.csv\", index_col=0)\n",
    "df_train_b1_f1 = pd.read_csv(\"../data/train/df_train_b1_f1.csv\", index_col=0)\n",
    "df_train_b1_f2 = pd.read_csv(\"../data/train/df_train_b1_f2.csv\", index_col=0)\n",
    "df_train_b1_f3 = pd.read_csv(\"../data/train/df_train_b1_f3.csv\", index_col=0)\n",
    "\n",
    "df_train_b2_f0 = pd.read_csv(\"../data/train/df_train_b2_f0.csv\", index_col=0)\n",
    "df_train_b2_f1 = pd.read_csv(\"../data/train/df_train_b2_f1.csv\", index_col=0)\n",
    "df_train_b2_f2 = pd.read_csv(\"../data/train/df_train_b2_f2.csv\", index_col=0)\n",
    "df_train_b2_f3 = pd.read_csv(\"../data/train/df_train_b2_f3.csv\", index_col=0)\n",
    "df_train_b2_f4 = pd.read_csv(\"../data/train/df_train_b2_f4.csv\", index_col=0)\n",
    "\n",
    "df_train_wap = np.load(\"../data/train/df_train_wap.npy\", allow_pickle=True)\n",
    "\n",
    "df_train_b0_wap = np.load(\"../data/train/df_train_b0_wap.npy\", allow_pickle=True)\n",
    "df_train_b1_wap = np.load(\"../data/train/df_train_b1_wap.npy\", allow_pickle=True)\n",
    "df_train_b2_wap = np.load(\"../data/train/df_train_b2_wap.npy\", allow_pickle=True)\n",
    "\n",
    "df_train_b0_f0_wap = np.load(\"../data/train/df_train_b0_f0_wap.npy\", allow_pickle=True)\n",
    "df_train_b0_f1_wap = np.load(\"../data/train/df_train_b0_f1_wap.npy\", allow_pickle=True)\n",
    "df_train_b0_f2_wap = np.load(\"../data/train/df_train_b0_f2_wap.npy\", allow_pickle=True)\n",
    "df_train_b0_f3_wap = np.load(\"../data/train/df_train_b0_f3_wap.npy\", allow_pickle=True)\n",
    "\n",
    "df_train_b1_f0_wap = np.load(\"../data/train/df_train_b1_f0_wap.npy\", allow_pickle=True)\n",
    "df_train_b1_f1_wap = np.load(\"../data/train/df_train_b1_f1_wap.npy\", allow_pickle=True)\n",
    "df_train_b1_f2_wap = np.load(\"../data/train/df_train_b1_f2_wap.npy\", allow_pickle=True)\n",
    "df_train_b1_f3_wap = np.load(\"../data/train/df_train_b1_f3_wap.npy\", allow_pickle=True)\n",
    "\n",
    "df_train_b2_f0_wap = np.load(\"../data/train/df_train_b2_f0_wap.npy\", allow_pickle=True)\n",
    "df_train_b2_f1_wap = np.load(\"../data/train/df_train_b2_f1_wap.npy\", allow_pickle=True)\n",
    "df_train_b2_f2_wap = np.load(\"../data/train/df_train_b2_f2_wap.npy\", allow_pickle=True)\n",
    "df_train_b2_f3_wap = np.load(\"../data/train/df_train_b2_f3_wap.npy\", allow_pickle=True)\n",
    "df_train_b2_f4_wap = np.load(\"../data/train/df_train_b2_f4_wap.npy\", allow_pickle=True)"
   ]
  },
  {
   "cell_type": "code",
   "execution_count": 3,
   "metadata": {},
   "outputs": [],
   "source": [
    "# test\n",
    "df_test = pd.read_csv(\"../data/test/df_test.csv\", index_col=0)"
   ]
  },
  {
   "cell_type": "markdown",
   "metadata": {},
   "source": [
    "## Room locations in training and test sets\n"
   ]
  },
  {
   "cell_type": "code",
   "execution_count": 4,
   "metadata": {
    "scrolled": true
   },
   "outputs": [
    {
     "name": "stdout",
     "output_type": "stream",
     "text": [
      "The number of distinct room locations in train: 933\n",
      "The number of distinct room locations in test: 1073\n",
      "The number of rooms in both sets: 11\n"
     ]
    }
   ],
   "source": [
    "# GPS precision - original\n",
    "train_room = np.unique(df_train[['FLOOR', 'LATITUDE', 'LONGITUDE']].values, axis=0)\n",
    "test_room  = np.unique(df_test[['FLOOR', 'LATITUDE', 'LONGITUDE']].values, axis=0)\n",
    "train_room = set(map(tuple, train_room))\n",
    "test_room = set(map(tuple, test_room))\n",
    "\n",
    "print(\"The number of distinct room locations in train:\", len(train_room))\n",
    "print(\"The number of distinct room locations in test:\", len(test_room))\n",
    "print(\"The number of rooms in both sets:\", len(train_room.intersection(test_room)))"
   ]
  },
  {
   "cell_type": "code",
   "execution_count": 5,
   "metadata": {},
   "outputs": [
    {
     "name": "stdout",
     "output_type": "stream",
     "text": [
      "The number of distinct room locations in train: 933\n",
      "The number of distinct room locations in test: 1053\n",
      "The number of rooms in both sets: 18\n"
     ]
    }
   ],
   "source": [
    "# GPS precision - 4 D.P.\n",
    "train_room = np.round(np.unique(df_train[['FLOOR', 'LATITUDE', 'LONGITUDE']].values, axis=0), 4)\n",
    "test_room  = np.round(np.unique(df_test[['FLOOR', 'LATITUDE', 'LONGITUDE']].values, axis=0), 4)\n",
    "train_room = set(map(tuple, train_room))\n",
    "test_room = set(map(tuple, test_room))\n",
    "\n",
    "print(\"The number of distinct room locations in train:\", len(train_room))\n",
    "print(\"The number of distinct room locations in test:\", len(test_room))\n",
    "print(\"The number of rooms in both sets:\", len(train_room.intersection(test_room)))"
   ]
  },
  {
   "cell_type": "code",
   "execution_count": 6,
   "metadata": {},
   "outputs": [
    {
     "name": "stdout",
     "output_type": "stream",
     "text": [
      "The number of distinct room locations in train: 933\n",
      "The number of distinct room locations in test: 1052\n",
      "The number of rooms in both sets: 18\n"
     ]
    }
   ],
   "source": [
    "# GPS precision - 2 D.P.\n",
    "train_room = np.round(np.unique(df_train[['FLOOR', 'LATITUDE', 'LONGITUDE']].values, axis=0), 2)\n",
    "test_room  = np.round(np.unique(df_test[['FLOOR', 'LATITUDE', 'LONGITUDE']].values, axis=0), 2)\n",
    "train_room = set(map(tuple, train_room))\n",
    "test_room = set(map(tuple, test_room))\n",
    "\n",
    "print(\"The number of distinct room locations in train:\", len(train_room))\n",
    "print(\"The number of distinct room locations in test:\", len(test_room))\n",
    "print(\"The number of rooms in both sets:\", len(train_room.intersection(test_room)))"
   ]
  },
  {
   "cell_type": "code",
   "execution_count": 7,
   "metadata": {},
   "outputs": [
    {
     "name": "stdout",
     "output_type": "stream",
     "text": [
      "The number of distinct room locations in train: 933\n",
      "The number of distinct room locations in test: 1047\n",
      "The number of rooms in both sets: 25\n"
     ]
    }
   ],
   "source": [
    "# GPS precision - 1 D.P.\n",
    "train_room = np.round(np.unique(df_train[['FLOOR', 'LATITUDE', 'LONGITUDE']].values, axis=0), 1)\n",
    "test_room  = np.round(np.unique(df_test[['FLOOR', 'LATITUDE', 'LONGITUDE']].values, axis=0), 1)\n",
    "train_room = set(map(tuple, train_room))\n",
    "test_room = set(map(tuple, test_room))\n",
    "\n",
    "print(\"The number of distinct room locations in train:\", len(train_room))\n",
    "print(\"The number of distinct room locations in test:\", len(test_room))\n",
    "print(\"The number of rooms in both sets:\", len(train_room.intersection(test_room)))"
   ]
  },
  {
   "cell_type": "code",
   "execution_count": 8,
   "metadata": {},
   "outputs": [
    {
     "name": "stdout",
     "output_type": "stream",
     "text": [
      "The number of distinct room locations in train: 932\n",
      "The number of distinct room locations in test: 913\n",
      "The number of rooms in both sets: 214\n"
     ]
    }
   ],
   "source": [
    "# GPS precision - nearest int.\n",
    "train_room = np.round(np.unique(df_train[['FLOOR', 'LATITUDE', 'LONGITUDE']].values, axis=0))\n",
    "test_room  = np.round(np.unique(df_test[['FLOOR', 'LATITUDE', 'LONGITUDE']].values, axis=0))\n",
    "train_room = set(map(tuple, train_room))\n",
    "test_room = set(map(tuple, test_room))\n",
    "\n",
    "print(\"The number of distinct room locations in train:\", len(train_room))\n",
    "print(\"The number of distinct room locations in test:\", len(test_room))\n",
    "print(\"The number of rooms in both sets:\", len(train_room.intersection(test_room)))"
   ]
  },
  {
   "cell_type": "markdown",
   "metadata": {},
   "source": [
    "## Predicting rooms on each floor"
   ]
  },
  {
   "cell_type": "markdown",
   "metadata": {},
   "source": [
    "### Building 0"
   ]
  },
  {
   "cell_type": "code",
   "execution_count": 9,
   "metadata": {},
   "outputs": [
    {
     "name": "stdout",
     "output_type": "stream",
     "text": [
      "RESULTS - KNN\n",
      "[F0] Average balanced accuracy: 65.65% ± 12.38%\n",
      "[F1] Average balanced accuracy: 64.43% ± 17.27%\n",
      "[F2] Average balanced accuracy: 60.14% ± 19.83%\n",
      "[F3] Average balanced accuracy: 56.23% ± 19.60%\n"
     ]
    }
   ],
   "source": [
    "print(\"RESULTS - KNN\")\n",
    "cvs = classification(df_train_b0_f0, df_train_b0_f0_wap, 'room', 'knn')\n",
    "print(\"[F0] Average balanced accuracy: %.2f%% ± %.2f%%\" % (mean_ci(cvs)[0]* 100, mean_ci(cvs)[1] * 100))\n",
    "cvs = classification(df_train_b0_f1, df_train_b0_f1_wap, 'room', 'knn')\n",
    "print(\"[F1] Average balanced accuracy: %.2f%% ± %.2f%%\" % (mean_ci(cvs)[0]* 100, mean_ci(cvs)[1] * 100))\n",
    "cvs = classification(df_train_b0_f2, df_train_b0_f2_wap, 'room', 'knn')\n",
    "print(\"[F2] Average balanced accuracy: %.2f%% ± %.2f%%\" % (mean_ci(cvs)[0]* 100, mean_ci(cvs)[1] * 100))\n",
    "cvs = classification(df_train_b0_f3, df_train_b0_f3_wap, 'room', 'knn')\n",
    "print(\"[F3] Average balanced accuracy: %.2f%% ± %.2f%%\" % (mean_ci(cvs)[0]* 100, mean_ci(cvs)[1] * 100))\n"
   ]
  },
  {
   "cell_type": "code",
   "execution_count": 10,
   "metadata": {},
   "outputs": [
    {
     "name": "stdout",
     "output_type": "stream",
     "text": [
      "CV RESULTS - MULTI-LR\n",
      "[F0] Average balanced accuracy: 70.28% ± 11.44%\n",
      "[F1] Average balanced accuracy: 70.92% ± 15.18%\n",
      "[F2] Average balanced accuracy: 65.55% ± 17.65%\n",
      "[F3] Average balanced accuracy: 61.05% ± 17.01%\n"
     ]
    }
   ],
   "source": [
    "print(\"CV RESULTS - MULTI-LR\")\n",
    "cvs = classification(df_train_b0_f0, df_train_b0_f0_wap, 'room', 'lr')\n",
    "print(\"[F0] Average balanced accuracy: %.2f%% ± %.2f%%\" % (mean_ci(cvs)[0]* 100, mean_ci(cvs)[1] * 100))\n",
    "cvs = classification(df_train_b0_f1, df_train_b0_f1_wap, 'room', 'lr')\n",
    "print(\"[F1] Average balanced accuracy: %.2f%% ± %.2f%%\" % (mean_ci(cvs)[0]* 100, mean_ci(cvs)[1] * 100))\n",
    "cvs = classification(df_train_b0_f2, df_train_b0_f2_wap, 'room', 'lr')\n",
    "print(\"[F2] Average balanced accuracy: %.2f%% ± %.2f%%\" % (mean_ci(cvs)[0]* 100, mean_ci(cvs)[1] * 100))\n",
    "cvs = classification(df_train_b0_f3, df_train_b0_f3_wap, 'room', 'lr')\n",
    "print(\"[F3] Average balanced accuracy: %.2f%% ± %.2f%%\" % (mean_ci(cvs)[0]* 100, mean_ci(cvs)[1] * 100))\n"
   ]
  },
  {
   "cell_type": "code",
   "execution_count": 11,
   "metadata": {},
   "outputs": [
    {
     "name": "stdout",
     "output_type": "stream",
     "text": [
      "CV RESULTS - SVM\n",
      "[F0] Average balanced accuracy: 68.90% ± 11.28%\n",
      "[F1] Average balanced accuracy: 71.09% ± 14.01%\n",
      "[F2] Average balanced accuracy: 65.36% ± 17.14%\n",
      "[F3] Average balanced accuracy: 61.32% ± 15.98%\n"
     ]
    }
   ],
   "source": [
    "print(\"CV RESULTS - SVM\")\n",
    "cvs = classification(df_train_b0_f0, df_train_b0_f0_wap, 'room', 'svm')\n",
    "print(\"[F0] Average balanced accuracy: %.2f%% ± %.2f%%\" % (mean_ci(cvs)[0]* 100, mean_ci(cvs)[1] * 100))\n",
    "cvs = classification(df_train_b0_f1, df_train_b0_f1_wap, 'room', 'svm')\n",
    "print(\"[F1] Average balanced accuracy: %.2f%% ± %.2f%%\" % (mean_ci(cvs)[0]* 100, mean_ci(cvs)[1] * 100))\n",
    "cvs = classification(df_train_b0_f2, df_train_b0_f2_wap, 'room', 'svm')\n",
    "print(\"[F2] Average balanced accuracy: %.2f%% ± %.2f%%\" % (mean_ci(cvs)[0]* 100, mean_ci(cvs)[1] * 100))\n",
    "cvs = classification(df_train_b0_f3, df_train_b0_f3_wap, 'room', 'svm')\n",
    "print(\"[F3] Average balanced accuracy: %.2f%% ± %.2f%%\" % (mean_ci(cvs)[0]* 100, mean_ci(cvs)[1] * 100))\n"
   ]
  },
  {
   "cell_type": "markdown",
   "metadata": {},
   "source": [
    "### Building 1"
   ]
  },
  {
   "cell_type": "code",
   "execution_count": 12,
   "metadata": {},
   "outputs": [
    {
     "name": "stdout",
     "output_type": "stream",
     "text": [
      "RESULTS - KNN\n",
      "[F0] Average balanced accuracy: 71.18% ± 7.19%\n",
      "[F1] Average balanced accuracy: 68.29% ± 5.94%\n",
      "[F2] Average balanced accuracy: 81.87% ± 4.75%\n",
      "[F3] Average balanced accuracy: 74.33% ± 4.24%\n"
     ]
    }
   ],
   "source": [
    "print(\"RESULTS - KNN\")\n",
    "cvs = classification(df_train_b1_f0, df_train_b1_f0_wap, 'room', 'knn')\n",
    "print(\"[F0] Average balanced accuracy: %.2f%% ± %.2f%%\" % (mean_ci(cvs)[0]* 100, mean_ci(cvs)[1] * 100))\n",
    "cvs = classification(df_train_b1_f1, df_train_b1_f1_wap, 'room', 'knn')\n",
    "print(\"[F1] Average balanced accuracy: %.2f%% ± %.2f%%\" % (mean_ci(cvs)[0]* 100, mean_ci(cvs)[1] * 100))\n",
    "cvs = classification(df_train_b1_f2, df_train_b1_f2_wap, 'room', 'knn')\n",
    "print(\"[F2] Average balanced accuracy: %.2f%% ± %.2f%%\" % (mean_ci(cvs)[0]* 100, mean_ci(cvs)[1] * 100))\n",
    "cvs = classification(df_train_b1_f3, df_train_b1_f3_wap, 'room', 'knn')\n",
    "print(\"[F3] Average balanced accuracy: %.2f%% ± %.2f%%\" % (mean_ci(cvs)[0]* 100, mean_ci(cvs)[1] * 100))\n"
   ]
  },
  {
   "cell_type": "code",
   "execution_count": 13,
   "metadata": {},
   "outputs": [
    {
     "name": "stdout",
     "output_type": "stream",
     "text": [
      "CV RESULTS - MULTI-LR\n",
      "[F0] Average balanced accuracy: 69.26% ± 6.12%\n",
      "[F1] Average balanced accuracy: 70.52% ± 5.77%\n",
      "[F2] Average balanced accuracy: 85.27% ± 3.48%\n",
      "[F3] Average balanced accuracy: 76.79% ± 5.62%\n"
     ]
    }
   ],
   "source": [
    "print(\"CV RESULTS - MULTI-LR\")\n",
    "cvs = classification(df_train_b1_f0, df_train_b1_f0_wap, 'room', 'lr')\n",
    "print(\"[F0] Average balanced accuracy: %.2f%% ± %.2f%%\" % (mean_ci(cvs)[0]* 100, mean_ci(cvs)[1] * 100))\n",
    "cvs = classification(df_train_b1_f1, df_train_b1_f1_wap, 'room', 'lr')\n",
    "print(\"[F1] Average balanced accuracy: %.2f%% ± %.2f%%\" % (mean_ci(cvs)[0]* 100, mean_ci(cvs)[1] * 100))\n",
    "cvs = classification(df_train_b1_f2, df_train_b1_f2_wap, 'room', 'lr')\n",
    "print(\"[F2] Average balanced accuracy: %.2f%% ± %.2f%%\" % (mean_ci(cvs)[0]* 100, mean_ci(cvs)[1] * 100))\n",
    "cvs = classification(df_train_b1_f3, df_train_b1_f3_wap, 'room', 'lr')\n",
    "print(\"[F3] Average balanced accuracy: %.2f%% ± %.2f%%\" % (mean_ci(cvs)[0]* 100, mean_ci(cvs)[1] * 100))\n"
   ]
  },
  {
   "cell_type": "code",
   "execution_count": 14,
   "metadata": {},
   "outputs": [
    {
     "name": "stdout",
     "output_type": "stream",
     "text": [
      "CV RESULTS - SVM\n",
      "[F0] Average balanced accuracy: 62.97% ± 4.46%\n",
      "[F1] Average balanced accuracy: 68.34% ± 5.61%\n",
      "[F2] Average balanced accuracy: 84.45% ± 3.19%\n",
      "[F3] Average balanced accuracy: 71.78% ± 5.31%\n"
     ]
    }
   ],
   "source": [
    "print(\"CV RESULTS - SVM\")\n",
    "cvs = classification(df_train_b1_f0, df_train_b1_f0_wap, 'room', 'svm')\n",
    "print(\"[F0] Average balanced accuracy: %.2f%% ± %.2f%%\" % (mean_ci(cvs)[0]* 100, mean_ci(cvs)[1] * 100))\n",
    "cvs = classification(df_train_b1_f1, df_train_b1_f1_wap, 'room', 'svm')\n",
    "print(\"[F1] Average balanced accuracy: %.2f%% ± %.2f%%\" % (mean_ci(cvs)[0]* 100, mean_ci(cvs)[1] * 100))\n",
    "cvs = classification(df_train_b1_f2, df_train_b1_f2_wap, 'room', 'svm')\n",
    "print(\"[F2] Average balanced accuracy: %.2f%% ± %.2f%%\" % (mean_ci(cvs)[0]* 100, mean_ci(cvs)[1] * 100))\n",
    "cvs = classification(df_train_b1_f3, df_train_b1_f3_wap, 'room', 'svm')\n",
    "print(\"[F3] Average balanced accuracy: %.2f%% ± %.2f%%\" % (mean_ci(cvs)[0]* 100, mean_ci(cvs)[1] * 100))\n"
   ]
  },
  {
   "cell_type": "markdown",
   "metadata": {},
   "source": [
    "### Building 2"
   ]
  },
  {
   "cell_type": "code",
   "execution_count": 15,
   "metadata": {},
   "outputs": [
    {
     "name": "stdout",
     "output_type": "stream",
     "text": [
      "CV RESULTS - KNN\n",
      "[F0] Average balanced accuracy: 75.49% ± 3.51%\n",
      "[F1] Average balanced accuracy: 72.42% ± 3.73%\n",
      "[F2] Average balanced accuracy: 69.35% ± 8.79%\n",
      "[F3] Average balanced accuracy: 67.57% ± 7.62%\n",
      "[F4] Average balanced accuracy: 58.93% ± 17.26%\n"
     ]
    }
   ],
   "source": [
    "print(\"CV RESULTS - KNN\")\n",
    "cvs = classification(df_train_b2_f0, df_train_b2_f0_wap, 'room', 'knn')\n",
    "print(\"[F0] Average balanced accuracy: %.2f%% ± %.2f%%\" % (mean_ci(cvs)[0]* 100, mean_ci(cvs)[1] * 100))\n",
    "cvs = classification(df_train_b2_f1, df_train_b2_f1_wap, 'room', 'knn')\n",
    "print(\"[F1] Average balanced accuracy: %.2f%% ± %.2f%%\" % (mean_ci(cvs)[0]* 100, mean_ci(cvs)[1] * 100))\n",
    "cvs = classification(df_train_b2_f2, df_train_b2_f2_wap, 'room', 'knn')\n",
    "print(\"[F2] Average balanced accuracy: %.2f%% ± %.2f%%\" % (mean_ci(cvs)[0]* 100, mean_ci(cvs)[1] * 100))\n",
    "cvs = classification(df_train_b2_f3, df_train_b2_f3_wap, 'room', 'knn')\n",
    "print(\"[F3] Average balanced accuracy: %.2f%% ± %.2f%%\" % (mean_ci(cvs)[0]* 100, mean_ci(cvs)[1] * 100))\n",
    "cvs = classification(df_train_b2_f4, df_train_b2_f4_wap, 'room', 'knn')\n",
    "print(\"[F4] Average balanced accuracy: %.2f%% ± %.2f%%\" % (mean_ci(cvs)[0]* 100, mean_ci(cvs)[1] * 100))"
   ]
  },
  {
   "cell_type": "code",
   "execution_count": 16,
   "metadata": {},
   "outputs": [
    {
     "name": "stdout",
     "output_type": "stream",
     "text": [
      "CV RESULTS - MULTI-LR\n",
      "[F0] Average balanced accuracy: 79.18% ± 3.94%\n",
      "[F1] Average balanced accuracy: 77.02% ± 4.99%\n",
      "[F2] Average balanced accuracy: 79.39% ± 6.76%\n",
      "[F3] Average balanced accuracy: 74.32% ± 7.74%\n",
      "[F4] Average balanced accuracy: 61.21% ± 18.65%\n"
     ]
    }
   ],
   "source": [
    "print(\"CV RESULTS - MULTI-LR\")\n",
    "cvs = classification(df_train_b2_f0, df_train_b2_f0_wap, 'room', 'lr')\n",
    "print(\"[F0] Average balanced accuracy: %.2f%% ± %.2f%%\" % (mean_ci(cvs)[0]* 100, mean_ci(cvs)[1] * 100))\n",
    "cvs = classification(df_train_b2_f1, df_train_b2_f1_wap, 'room', 'lr')\n",
    "print(\"[F1] Average balanced accuracy: %.2f%% ± %.2f%%\" % (mean_ci(cvs)[0]* 100, mean_ci(cvs)[1] * 100))\n",
    "cvs = classification(df_train_b2_f2, df_train_b2_f2_wap, 'room', 'lr')\n",
    "print(\"[F2] Average balanced accuracy: %.2f%% ± %.2f%%\" % (mean_ci(cvs)[0]* 100, mean_ci(cvs)[1] * 100))\n",
    "cvs = classification(df_train_b2_f3, df_train_b2_f3_wap, 'room', 'lr')\n",
    "print(\"[F3] Average balanced accuracy: %.2f%% ± %.2f%%\" % (mean_ci(cvs)[0]* 100, mean_ci(cvs)[1] * 100))\n",
    "cvs = classification(df_train_b2_f4, df_train_b2_f4_wap, 'room', 'lr')\n",
    "print(\"[F4] Average balanced accuracy: %.2f%% ± %.2f%%\" % (mean_ci(cvs)[0]* 100, mean_ci(cvs)[1] * 100))"
   ]
  },
  {
   "cell_type": "code",
   "execution_count": 17,
   "metadata": {},
   "outputs": [
    {
     "name": "stdout",
     "output_type": "stream",
     "text": [
      "CV RESULTS - SVM\n",
      "[F0] Average balanced accuracy: 77.29% ± 4.05%\n",
      "[F1] Average balanced accuracy: 79.56% ± 5.05%\n",
      "[F2] Average balanced accuracy: 82.49% ± 7.42%\n",
      "[F3] Average balanced accuracy: 76.28% ± 7.43%\n",
      "[F4] Average balanced accuracy: 60.19% ± 18.96%\n"
     ]
    }
   ],
   "source": [
    "print(\"CV RESULTS - SVM\")\n",
    "cvs = classification(df_train_b2_f0, df_train_b2_f0_wap, 'room', 'svm')\n",
    "print(\"[F0] Average balanced accuracy: %.2f%% ± %.2f%%\" % (mean_ci(cvs)[0]* 100, mean_ci(cvs)[1] * 100))\n",
    "cvs = classification(df_train_b2_f1, df_train_b2_f1_wap, 'room', 'svm')\n",
    "print(\"[F1] Average balanced accuracy: %.2f%% ± %.2f%%\" % (mean_ci(cvs)[0]* 100, mean_ci(cvs)[1] * 100))\n",
    "cvs = classification(df_train_b2_f2, df_train_b2_f2_wap, 'room', 'svm')\n",
    "print(\"[F2] Average balanced accuracy: %.2f%% ± %.2f%%\" % (mean_ci(cvs)[0]* 100, mean_ci(cvs)[1] * 100))\n",
    "cvs = classification(df_train_b2_f3, df_train_b2_f3_wap, 'room', 'svm')\n",
    "print(\"[F3] Average balanced accuracy: %.2f%% ± %.2f%%\" % (mean_ci(cvs)[0]* 100, mean_ci(cvs)[1] * 100))\n",
    "cvs = classification(df_train_b2_f4, df_train_b2_f4_wap, 'room', 'svm')\n",
    "print(\"[F4] Average balanced accuracy: %.2f%% ± %.2f%%\" % (mean_ci(cvs)[0]* 100, mean_ci(cvs)[1] * 100))"
   ]
  },
  {
   "cell_type": "markdown",
   "metadata": {},
   "source": [
    "## Parameter tuning using SVM"
   ]
  },
  {
   "cell_type": "markdown",
   "metadata": {},
   "source": [
    "### Building 0"
   ]
  },
  {
   "cell_type": "code",
   "execution_count": 18,
   "metadata": {
    "scrolled": true
   },
   "outputs": [
    {
     "name": "stdout",
     "output_type": "stream",
     "text": [
      "FLOOR 0\n",
      "BEST PARAMS: {'C': 1}\n",
      "Average balanced accuracy: 73.10% ± 11.01%\n"
     ]
    }
   ],
   "source": [
    "floor = 0\n",
    "kwargs = {\n",
    "    'data'      : df_train_b0_f0,\n",
    "    'wap'       : df_train_b0_f0_wap,\n",
    "    'target'    : 'room',\n",
    "    'classifier': 'svm',\n",
    "}\n",
    "\n",
    "print(\"FLOOR\", floor)\n",
    "best_estimator, cvs = tune_parameter(**kwargs)\n",
    "print(\"Average balanced accuracy: %.2f%% ± %.2f%%\" % (mean_ci(cvs)[0]* 100, mean_ci(cvs)[1] * 100))"
   ]
  },
  {
   "cell_type": "code",
   "execution_count": 19,
   "metadata": {},
   "outputs": [
    {
     "name": "stdout",
     "output_type": "stream",
     "text": [
      "FLOOR 1\n",
      "BEST PARAMS: {'C': 0.5}\n",
      "Average balanced accuracy: 72.56% ± 14.06%\n"
     ]
    }
   ],
   "source": [
    "floor = 1\n",
    "kwargs = {\n",
    "    'data'      : df_train_b0_f1,\n",
    "    'wap'       : df_train_b0_f1_wap,\n",
    "    'target'    : 'room',\n",
    "    'classifier': 'svm',\n",
    "}\n",
    "\n",
    "print(\"FLOOR\", floor)\n",
    "best_estimator, cvs = tune_parameter(**kwargs)\n",
    "print(\"Average balanced accuracy: %.2f%% ± %.2f%%\" % (mean_ci(cvs)[0]* 100, mean_ci(cvs)[1] * 100))"
   ]
  },
  {
   "cell_type": "code",
   "execution_count": 20,
   "metadata": {},
   "outputs": [
    {
     "name": "stdout",
     "output_type": "stream",
     "text": [
      "FLOOR 2\n",
      "BEST PARAMS: {'C': 0.5}\n",
      "Average balanced accuracy: 67.96% ± 16.48%\n"
     ]
    }
   ],
   "source": [
    "floor = 2\n",
    "kwargs = {\n",
    "    'data'      : df_train_b0_f2,\n",
    "    'wap'       : df_train_b0_f2_wap,\n",
    "    'target'    : 'room',\n",
    "    'classifier': 'svm',\n",
    "}\n",
    "\n",
    "print(\"FLOOR\", floor)\n",
    "best_estimator, cvs = tune_parameter(**kwargs)\n",
    "print(\"Average balanced accuracy: %.2f%% ± %.2f%%\" % (mean_ci(cvs)[0]* 100, mean_ci(cvs)[1] * 100))"
   ]
  },
  {
   "cell_type": "code",
   "execution_count": 21,
   "metadata": {},
   "outputs": [
    {
     "name": "stdout",
     "output_type": "stream",
     "text": [
      "FLOOR 3\n",
      "BEST PARAMS: {'C': 0.5}\n",
      "Average balanced accuracy: 65.14% ± 15.24%\n"
     ]
    }
   ],
   "source": [
    "floor = 3\n",
    "kwargs = {\n",
    "    'data'      : df_train_b0_f3,\n",
    "    'wap'       : df_train_b0_f3_wap,\n",
    "    'target'    : 'room',\n",
    "    'classifier': 'svm',\n",
    "}\n",
    "\n",
    "print(\"FLOOR\", floor)\n",
    "best_estimator, cvs = tune_parameter(**kwargs)\n",
    "print(\"Average balanced accuracy: %.2f%% ± %.2f%%\" % (mean_ci(cvs)[0]* 100, mean_ci(cvs)[1] * 100))"
   ]
  },
  {
   "cell_type": "markdown",
   "metadata": {},
   "source": [
    "### Building 1"
   ]
  },
  {
   "cell_type": "code",
   "execution_count": 22,
   "metadata": {},
   "outputs": [
    {
     "name": "stdout",
     "output_type": "stream",
     "text": [
      "FLOOR 0\n",
      "BEST PARAMS: {'C': 1}\n",
      "Average balanced accuracy: 78.01% ± 5.25%\n"
     ]
    }
   ],
   "source": [
    "floor = 0\n",
    "kwargs = {\n",
    "    'data'      : df_train_b1_f0,\n",
    "    'wap'       : df_train_b1_f0_wap,\n",
    "    'target'    : 'room',\n",
    "    'classifier': 'svm',\n",
    "}\n",
    "\n",
    "print(\"FLOOR\", floor)\n",
    "best_estimator, cvs = tune_parameter(**kwargs)\n",
    "print(\"Average balanced accuracy: %.2f%% ± %.2f%%\" % (mean_ci(cvs)[0]* 100, mean_ci(cvs)[1] * 100))"
   ]
  },
  {
   "cell_type": "code",
   "execution_count": 23,
   "metadata": {},
   "outputs": [
    {
     "name": "stdout",
     "output_type": "stream",
     "text": [
      "FLOOR 1\n",
      "BEST PARAMS: {'C': 1}\n",
      "Average balanced accuracy: 75.62% ± 5.52%\n"
     ]
    }
   ],
   "source": [
    "floor = 1\n",
    "kwargs = {\n",
    "    'data'      : df_train_b1_f1,\n",
    "    'wap'       : df_train_b1_f1_wap,\n",
    "    'target'    : 'room',\n",
    "    'classifier': 'svm',\n",
    "}\n",
    "\n",
    "print(\"FLOOR\", floor)\n",
    "best_estimator, cvs = tune_parameter(**kwargs)\n",
    "print(\"Average balanced accuracy: %.2f%% ± %.2f%%\" % (mean_ci(cvs)[0]* 100, mean_ci(cvs)[1] * 100))"
   ]
  },
  {
   "cell_type": "code",
   "execution_count": 24,
   "metadata": {},
   "outputs": [
    {
     "name": "stdout",
     "output_type": "stream",
     "text": [
      "FLOOR 2\n",
      "BEST PARAMS: {'C': 0.5}\n",
      "Average balanced accuracy: 88.25% ± 3.13%\n"
     ]
    }
   ],
   "source": [
    "floor = 2\n",
    "kwargs = {\n",
    "    'data'      : df_train_b1_f2,\n",
    "    'wap'       : df_train_b1_f2_wap,\n",
    "    'target'    : 'room',\n",
    "    'classifier': 'svm',\n",
    "}\n",
    "\n",
    "print(\"FLOOR\", floor)\n",
    "best_estimator, cvs = tune_parameter(**kwargs)\n",
    "print(\"Average balanced accuracy: %.2f%% ± %.2f%%\" % (mean_ci(cvs)[0]* 100, mean_ci(cvs)[1] * 100))"
   ]
  },
  {
   "cell_type": "code",
   "execution_count": 25,
   "metadata": {},
   "outputs": [
    {
     "name": "stdout",
     "output_type": "stream",
     "text": [
      "FLOOR 3\n",
      "BEST PARAMS: {'C': 0.5}\n",
      "Average balanced accuracy: 78.83% ± 4.55%\n"
     ]
    }
   ],
   "source": [
    "floor = 3\n",
    "kwargs = {\n",
    "    'data'      : df_train_b1_f3,\n",
    "    'wap'       : df_train_b1_f3_wap,\n",
    "    'target'    : 'room',\n",
    "    'classifier': 'svm',\n",
    "}\n",
    "\n",
    "print(\"FLOOR\", floor)\n",
    "best_estimator, cvs = tune_parameter(**kwargs)\n",
    "print(\"Average balanced accuracy: %.2f%% ± %.2f%%\" % (mean_ci(cvs)[0]* 100, mean_ci(cvs)[1] * 100))"
   ]
  },
  {
   "cell_type": "markdown",
   "metadata": {},
   "source": [
    "### Building 2"
   ]
  },
  {
   "cell_type": "code",
   "execution_count": 26,
   "metadata": {},
   "outputs": [
    {
     "name": "stdout",
     "output_type": "stream",
     "text": [
      "FLOOR 0\n",
      "BEST PARAMS: {'C': 1}\n",
      "Average balanced accuracy: 79.85% ± 3.26%\n"
     ]
    }
   ],
   "source": [
    "floor = 0\n",
    "kwargs = {\n",
    "    'data'      : df_train_b2_f0,\n",
    "    'wap'       : df_train_b2_f0_wap,\n",
    "    'target'    : 'room',\n",
    "    'classifier': 'svm',\n",
    "}\n",
    "\n",
    "print(\"FLOOR\", floor)\n",
    "best_estimator, cvs = tune_parameter(**kwargs)\n",
    "print(\"Average balanced accuracy: %.2f%% ± %.2f%%\" % (mean_ci(cvs)[0]* 100, mean_ci(cvs)[1] * 100))"
   ]
  },
  {
   "cell_type": "code",
   "execution_count": 27,
   "metadata": {},
   "outputs": [
    {
     "name": "stdout",
     "output_type": "stream",
     "text": [
      "FLOOR 1\n",
      "BEST PARAMS: {'C': 0.1}\n",
      "Average balanced accuracy: 78.21% ± 4.94%\n"
     ]
    }
   ],
   "source": [
    "floor = 1\n",
    "kwargs = {\n",
    "    'data'      : df_train_b2_f1,\n",
    "    'wap'       : df_train_b2_f1_wap,\n",
    "    'target'    : 'room',\n",
    "    'classifier': 'svm',\n",
    "}\n",
    "\n",
    "print(\"FLOOR\", floor)\n",
    "best_estimator, cvs = tune_parameter(**kwargs)\n",
    "print(\"Average balanced accuracy: %.2f%% ± %.2f%%\" % (mean_ci(cvs)[0]* 100, mean_ci(cvs)[1] * 100))"
   ]
  },
  {
   "cell_type": "code",
   "execution_count": 28,
   "metadata": {},
   "outputs": [
    {
     "name": "stdout",
     "output_type": "stream",
     "text": [
      "FLOOR 2\n",
      "BEST PARAMS: {'C': 0.5}\n",
      "Average balanced accuracy: 82.51% ± 6.43%\n"
     ]
    }
   ],
   "source": [
    "floor = 2\n",
    "kwargs = {\n",
    "    'data'      : df_train_b2_f2,\n",
    "    'wap'       : df_train_b2_f2_wap,\n",
    "    'target'    : 'room',\n",
    "    'classifier': 'svm',\n",
    "}\n",
    "\n",
    "print(\"FLOOR\", floor)\n",
    "best_estimator, cvs = tune_parameter(**kwargs)\n",
    "print(\"Average balanced accuracy: %.2f%% ± %.2f%%\" % (mean_ci(cvs)[0]* 100, mean_ci(cvs)[1] * 100))"
   ]
  },
  {
   "cell_type": "code",
   "execution_count": 29,
   "metadata": {},
   "outputs": [
    {
     "name": "stdout",
     "output_type": "stream",
     "text": [
      "FLOOR 3\n",
      "BEST PARAMS: {'C': 0.5}\n",
      "Average balanced accuracy: 74.87% ± 6.71%\n"
     ]
    }
   ],
   "source": [
    "floor = 3\n",
    "kwargs = {\n",
    "    'data'      : df_train_b2_f3,\n",
    "    'wap'       : df_train_b2_f3_wap,\n",
    "    'target'    : 'room',\n",
    "    'classifier': 'svm',\n",
    "}\n",
    "\n",
    "print(\"FLOOR\", floor)\n",
    "best_estimator, cvs = tune_parameter(**kwargs)\n",
    "print(\"Average balanced accuracy: %.2f%% ± %.2f%%\" % (mean_ci(cvs)[0]* 100, mean_ci(cvs)[1] * 100))"
   ]
  },
  {
   "cell_type": "code",
   "execution_count": 30,
   "metadata": {},
   "outputs": [
    {
     "name": "stdout",
     "output_type": "stream",
     "text": [
      "FLOOR 4\n",
      "BEST PARAMS: {'C': 0.5}\n",
      "Average balanced accuracy: 55.69% ± 23.35%\n"
     ]
    }
   ],
   "source": [
    "floor = 4\n",
    "kwargs = {\n",
    "    'data'      : df_train_b2_f4,\n",
    "    'wap'       : df_train_b2_f4_wap,\n",
    "    'target'    : 'room',\n",
    "    'classifier': 'svm',\n",
    "}\n",
    "\n",
    "print(\"FLOOR\", floor)\n",
    "best_estimator, cvs = tune_parameter(**kwargs)\n",
    "print(\"Average balanced accuracy: %.2f%% ± %.2f%%\" % (mean_ci(cvs)[0]* 100, mean_ci(cvs)[1] * 100))"
   ]
  },
  {
   "cell_type": "code",
   "execution_count": null,
   "metadata": {},
   "outputs": [],
   "source": []
  }
 ],
 "metadata": {
  "kernelspec": {
   "display_name": "Python 3.8.0 64-bit ('venv': virtualenv)",
   "language": "python",
   "name": "python38064bitvenvvirtualenve617f17e49084a7c973a4e86cf48a722"
  },
  "language_info": {
   "codemirror_mode": {
    "name": "ipython",
    "version": 3
   },
   "file_extension": ".py",
   "mimetype": "text/x-python",
   "name": "python",
   "nbconvert_exporter": "python",
   "pygments_lexer": "ipython3",
   "version": "3.8.0"
  }
 },
 "nbformat": 4,
 "nbformat_minor": 2
}
