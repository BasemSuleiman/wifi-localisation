{
 "cells": [
  {
   "cell_type": "code",
   "execution_count": 1,
   "metadata": {},
   "outputs": [],
   "source": [
    "import sys\n",
    "sys.path.append('..')\n",
    "\n",
    "from utils.misc import *\n",
    "from utils.classifier import *\n",
    "from utils.visualiser import *"
   ]
  },
  {
   "cell_type": "markdown",
   "metadata": {},
   "source": [
    "## Loading pre-processed data"
   ]
  },
  {
   "cell_type": "code",
   "execution_count": 2,
   "metadata": {},
   "outputs": [],
   "source": [
    "# train\n",
    "df_train = pd.read_csv(\"../data/train/df_train.csv\", index_col=0)\n",
    "\n",
    "df_train_b0 = pd.read_csv(\"../data/train/df_train_b0.csv\", index_col=0)\n",
    "df_train_b1 = pd.read_csv(\"../data/train/df_train_b1.csv\", index_col=0)\n",
    "df_train_b2 = pd.read_csv(\"../data/train/df_train_b2.csv\", index_col=0)"
   ]
  },
  {
   "cell_type": "code",
   "execution_count": 3,
   "metadata": {},
   "outputs": [],
   "source": [
    "df_train_b0_ne = pd.read_csv(\"../data/train/area/df_train_b0_ne.csv\", index_col=0)\n",
    "df_train_b0_nw = pd.read_csv(\"../data/train/area/df_train_b0_nw.csv\", index_col=0)\n",
    "df_train_b0_se = pd.read_csv(\"../data/train/area/df_train_b0_se.csv\", index_col=0)\n",
    "df_train_b0_sw = pd.read_csv(\"../data/train/area/df_train_b0_sw.csv\", index_col=0)"
   ]
  },
  {
   "cell_type": "code",
   "execution_count": 4,
   "metadata": {},
   "outputs": [],
   "source": [
    "df_train_b0_ne_f0 = pd.read_csv(\"../data/train/area/df_train_b0_ne_f0.csv\", index_col=0)\n",
    "df_train_b0_ne_f1 = pd.read_csv(\"../data/train/area/df_train_b0_ne_f1.csv\", index_col=0)\n",
    "df_train_b0_ne_f2 = pd.read_csv(\"../data/train/area/df_train_b0_ne_f2.csv\", index_col=0)\n",
    "df_train_b0_ne_f3 = pd.read_csv(\"../data/train/area/df_train_b0_ne_f3.csv\", index_col=0)\n",
    "\n",
    "df_train_b0_nw_f0 = pd.read_csv(\"../data/train/area/df_train_b0_nw_f0.csv\", index_col=0)\n",
    "df_train_b0_nw_f1 = pd.read_csv(\"../data/train/area/df_train_b0_nw_f1.csv\", index_col=0)\n",
    "df_train_b0_nw_f2 = pd.read_csv(\"../data/train/area/df_train_b0_nw_f2.csv\", index_col=0)\n",
    "df_train_b0_nw_f3 = pd.read_csv(\"../data/train/area/df_train_b0_nw_f3.csv\", index_col=0)\n",
    "\n",
    "df_train_b0_se_f0 = pd.read_csv(\"../data/train/area/df_train_b0_se_f0.csv\", index_col=0)\n",
    "df_train_b0_se_f1 = pd.read_csv(\"../data/train/area/df_train_b0_se_f1.csv\", index_col=0)\n",
    "df_train_b0_se_f2 = pd.read_csv(\"../data/train/area/df_train_b0_se_f2.csv\", index_col=0)\n",
    "df_train_b0_se_f3 = pd.read_csv(\"../data/train/area/df_train_b0_se_f3.csv\", index_col=0)\n",
    "\n",
    "df_train_b0_sw_f0 = pd.read_csv(\"../data/train/area/df_train_b0_sw_f0.csv\", index_col=0)\n",
    "df_train_b0_sw_f1 = pd.read_csv(\"../data/train/area/df_train_b0_sw_f1.csv\", index_col=0)\n",
    "df_train_b0_sw_f2 = pd.read_csv(\"../data/train/area/df_train_b0_sw_f2.csv\", index_col=0)\n",
    "df_train_b0_sw_f3 = pd.read_csv(\"../data/train/area/df_train_b0_sw_f3.csv\", index_col=0)"
   ]
  },
  {
   "cell_type": "code",
   "execution_count": 5,
   "metadata": {},
   "outputs": [],
   "source": [
    "df_train_b1_ne = pd.read_csv(\"../data/train/area/df_train_b1_ne.csv\", index_col=0)\n",
    "df_train_b1_nw = pd.read_csv(\"../data/train/area/df_train_b1_nw.csv\", index_col=0)\n",
    "df_train_b1_se = pd.read_csv(\"../data/train/area/df_train_b1_se.csv\", index_col=0)\n",
    "df_train_b1_sw = pd.read_csv(\"../data/train/area/df_train_b1_sw.csv\", index_col=0)\n",
    "df_train_b1_ct = pd.read_csv(\"../data/train/area/df_train_b1_ct.csv\", index_col=0)"
   ]
  },
  {
   "cell_type": "code",
   "execution_count": 6,
   "metadata": {},
   "outputs": [],
   "source": [
    "df_train_b1_ne_f0 = pd.read_csv(\"../data/train/area/df_train_b1_ne_f0.csv\", index_col=0)\n",
    "df_train_b1_ne_f1 = pd.read_csv(\"../data/train/area/df_train_b1_ne_f1.csv\", index_col=0)\n",
    "df_train_b1_ne_f2 = pd.read_csv(\"../data/train/area/df_train_b1_ne_f2.csv\", index_col=0)\n",
    "df_train_b1_ne_f3 = pd.read_csv(\"../data/train/area/df_train_b1_ne_f3.csv\", index_col=0)\n",
    "\n",
    "df_train_b1_nw_f0 = pd.read_csv(\"../data/train/area/df_train_b1_nw_f0.csv\", index_col=0)\n",
    "df_train_b1_nw_f1 = pd.read_csv(\"../data/train/area/df_train_b1_nw_f1.csv\", index_col=0)\n",
    "df_train_b1_nw_f2 = pd.read_csv(\"../data/train/area/df_train_b1_nw_f2.csv\", index_col=0)\n",
    "df_train_b1_nw_f3 = pd.read_csv(\"../data/train/area/df_train_b1_nw_f3.csv\", index_col=0)\n",
    "\n",
    "df_train_b1_se_f0 = pd.read_csv(\"../data/train/area/df_train_b1_se_f0.csv\", index_col=0)\n",
    "df_train_b1_se_f1 = pd.read_csv(\"../data/train/area/df_train_b1_se_f1.csv\", index_col=0)\n",
    "df_train_b1_se_f2 = pd.read_csv(\"../data/train/area/df_train_b1_se_f2.csv\", index_col=0)\n",
    "df_train_b1_se_f3 = pd.read_csv(\"../data/train/area/df_train_b1_se_f3.csv\", index_col=0)\n",
    "\n",
    "df_train_b1_sw_f0 = pd.read_csv(\"../data/train/area/df_train_b1_sw_f0.csv\", index_col=0)\n",
    "df_train_b1_sw_f1 = pd.read_csv(\"../data/train/area/df_train_b1_sw_f1.csv\", index_col=0)\n",
    "df_train_b1_sw_f2 = pd.read_csv(\"../data/train/area/df_train_b1_sw_f2.csv\", index_col=0)\n",
    "df_train_b1_sw_f3 = pd.read_csv(\"../data/train/area/df_train_b1_sw_f3.csv\", index_col=0)\n",
    "\n",
    "df_train_b1_ct_f0 = pd.read_csv(\"../data/train/area/df_train_b1_ct_f0.csv\", index_col=0)\n",
    "df_train_b1_ct_f1 = pd.read_csv(\"../data/train/area/df_train_b1_ct_f1.csv\", index_col=0)\n",
    "df_train_b1_ct_f2 = pd.read_csv(\"../data/train/area/df_train_b1_ct_f2.csv\", index_col=0)\n",
    "df_train_b1_ct_f3 = pd.read_csv(\"../data/train/area/df_train_b1_ct_f3.csv\", index_col=0)"
   ]
  },
  {
   "cell_type": "code",
   "execution_count": 7,
   "metadata": {},
   "outputs": [],
   "source": [
    "df_train_b2_ne = pd.read_csv(\"../data/train/area/df_train_b2_ne.csv\", index_col=0)\n",
    "df_train_b2_nw = pd.read_csv(\"../data/train/area/df_train_b2_nw.csv\", index_col=0)\n",
    "df_train_b2_se = pd.read_csv(\"../data/train/area/df_train_b2_se.csv\", index_col=0)\n",
    "df_train_b2_sw = pd.read_csv(\"../data/train/area/df_train_b2_sw.csv\", index_col=0)"
   ]
  },
  {
   "cell_type": "code",
   "execution_count": 8,
   "metadata": {},
   "outputs": [],
   "source": [
    "df_train_b2_ne_f0 = pd.read_csv(\"../data/train/area/df_train_b2_ne_f0.csv\", index_col=0)\n",
    "df_train_b2_ne_f1 = pd.read_csv(\"../data/train/area/df_train_b2_ne_f1.csv\", index_col=0)\n",
    "df_train_b2_ne_f2 = pd.read_csv(\"../data/train/area/df_train_b2_ne_f2.csv\", index_col=0)\n",
    "df_train_b2_ne_f3 = pd.read_csv(\"../data/train/area/df_train_b2_ne_f3.csv\", index_col=0)\n",
    "df_train_b2_ne_f4 = pd.read_csv(\"../data/train/area/df_train_b2_ne_f4.csv\", index_col=0)\n",
    "\n",
    "df_train_b2_nw_f0 = pd.read_csv(\"../data/train/area/df_train_b2_nw_f0.csv\", index_col=0)\n",
    "df_train_b2_nw_f1 = pd.read_csv(\"../data/train/area/df_train_b2_nw_f1.csv\", index_col=0)\n",
    "df_train_b2_nw_f2 = pd.read_csv(\"../data/train/area/df_train_b2_nw_f2.csv\", index_col=0)\n",
    "df_train_b2_nw_f3 = pd.read_csv(\"../data/train/area/df_train_b2_nw_f3.csv\", index_col=0)\n",
    "df_train_b2_nw_f4 = pd.read_csv(\"../data/train/area/df_train_b2_nw_f4.csv\", index_col=0)\n",
    "\n",
    "df_train_b2_se_f0 = pd.read_csv(\"../data/train/area/df_train_b2_se_f0.csv\", index_col=0)\n",
    "df_train_b2_se_f1 = pd.read_csv(\"../data/train/area/df_train_b2_se_f1.csv\", index_col=0)\n",
    "df_train_b2_se_f2 = pd.read_csv(\"../data/train/area/df_train_b2_se_f2.csv\", index_col=0)\n",
    "df_train_b2_se_f3 = pd.read_csv(\"../data/train/area/df_train_b2_se_f3.csv\", index_col=0)\n",
    "\n",
    "df_train_b2_sw_f0 = pd.read_csv(\"../data/train/area/df_train_b2_sw_f0.csv\", index_col=0)\n",
    "df_train_b2_sw_f1 = pd.read_csv(\"../data/train/area/df_train_b2_sw_f1.csv\", index_col=0)\n",
    "df_train_b2_sw_f2 = pd.read_csv(\"../data/train/area/df_train_b2_sw_f2.csv\", index_col=0)\n",
    "df_train_b2_sw_f3 = pd.read_csv(\"../data/train/area/df_train_b2_sw_f3.csv\", index_col=0)\n",
    "df_train_b2_sw_f4 = pd.read_csv(\"../data/train/area/df_train_b2_sw_f4.csv\", index_col=0)"
   ]
  },
  {
   "cell_type": "code",
   "execution_count": 9,
   "metadata": {},
   "outputs": [],
   "source": [
    "df_train_wap = np.load(\"../data/train/df_train_wap.npy\", allow_pickle=True)\n",
    "\n",
    "df_train_b0_wap = np.load(\"../data/train/df_train_b0_wap.npy\", allow_pickle=True)\n",
    "df_train_b1_wap = np.load(\"../data/train/df_train_b1_wap.npy\", allow_pickle=True)\n",
    "df_train_b2_wap = np.load(\"../data/train/df_train_b2_wap.npy\", allow_pickle=True)"
   ]
  },
  {
   "cell_type": "code",
   "execution_count": 10,
   "metadata": {},
   "outputs": [],
   "source": [
    "df_train_b0_ne_wap = np.load(\"../data/train/area/df_train_b0_ne_wap.npy\", allow_pickle=True)\n",
    "df_train_b0_nw_wap = np.load(\"../data/train/area/df_train_b0_nw_wap.npy\", allow_pickle=True)\n",
    "df_train_b0_se_wap = np.load(\"../data/train/area/df_train_b0_se_wap.npy\", allow_pickle=True)\n",
    "df_train_b0_sw_wap = np.load(\"../data/train/area/df_train_b0_sw_wap.npy\", allow_pickle=True)"
   ]
  },
  {
   "cell_type": "code",
   "execution_count": 11,
   "metadata": {},
   "outputs": [],
   "source": [
    "df_train_b0_ne_f0_wap =np.load(\"../data/train/area/df_train_b0_ne_f0_wap.npy\", allow_pickle=True)\n",
    "df_train_b0_ne_f1_wap =np.load(\"../data/train/area/df_train_b0_ne_f1_wap.npy\", allow_pickle=True)\n",
    "df_train_b0_ne_f2_wap =np.load(\"../data/train/area/df_train_b0_ne_f2_wap.npy\", allow_pickle=True)\n",
    "df_train_b0_ne_f3_wap =np.load(\"../data/train/area/df_train_b0_ne_f3_wap.npy\", allow_pickle=True)\n",
    "\n",
    "df_train_b0_nw_f0_wap =np.load(\"../data/train/area/df_train_b0_nw_f0_wap.npy\", allow_pickle=True)\n",
    "df_train_b0_nw_f1_wap =np.load(\"../data/train/area/df_train_b0_nw_f1_wap.npy\", allow_pickle=True)\n",
    "df_train_b0_nw_f2_wap =np.load(\"../data/train/area/df_train_b0_nw_f2_wap.npy\", allow_pickle=True)\n",
    "df_train_b0_nw_f3_wap =np.load(\"../data/train/area/df_train_b0_nw_f3_wap.npy\", allow_pickle=True)\n",
    "\n",
    "df_train_b0_se_f0_wap =np.load(\"../data/train/area/df_train_b0_se_f0_wap.npy\", allow_pickle=True)\n",
    "df_train_b0_se_f1_wap =np.load(\"../data/train/area/df_train_b0_se_f1_wap.npy\", allow_pickle=True)\n",
    "df_train_b0_se_f2_wap =np.load(\"../data/train/area/df_train_b0_se_f2_wap.npy\", allow_pickle=True)\n",
    "df_train_b0_se_f3_wap =np.load(\"../data/train/area/df_train_b0_se_f3_wap.npy\", allow_pickle=True)\n",
    "\n",
    "df_train_b0_sw_f0_wap =np.load(\"../data/train/area/df_train_b0_sw_f0_wap.npy\", allow_pickle=True)\n",
    "df_train_b0_sw_f1_wap =np.load(\"../data/train/area/df_train_b0_sw_f1_wap.npy\", allow_pickle=True)\n",
    "df_train_b0_sw_f2_wap =np.load(\"../data/train/area/df_train_b0_sw_f2_wap.npy\", allow_pickle=True)\n",
    "df_train_b0_sw_f3_wap =np.load(\"../data/train/area/df_train_b0_sw_f3_wap.npy\", allow_pickle=True)"
   ]
  },
  {
   "cell_type": "code",
   "execution_count": 12,
   "metadata": {},
   "outputs": [],
   "source": [
    "df_train_b1_ne_wap = np.load(\"../data/train/area/df_train_b1_ne_wap.npy\", allow_pickle=True)\n",
    "df_train_b1_nw_wap = np.load(\"../data/train/area/df_train_b1_nw_wap.npy\", allow_pickle=True)\n",
    "df_train_b1_se_wap = np.load(\"../data/train/area/df_train_b1_se_wap.npy\", allow_pickle=True)\n",
    "df_train_b1_sw_wap = np.load(\"../data/train/area/df_train_b1_sw_wap.npy\", allow_pickle=True)\n",
    "df_train_b1_ct_wap = np.load(\"../data/train/area/df_train_b1_ct_wap.npy\", allow_pickle=True)"
   ]
  },
  {
   "cell_type": "code",
   "execution_count": 13,
   "metadata": {},
   "outputs": [],
   "source": [
    "df_train_b1_ne_f0_wap = np.load(\"../data/train/area/df_train_b1_ne_f0_wap.npy\", allow_pickle=True)\n",
    "df_train_b1_ne_f1_wap = np.load(\"../data/train/area/df_train_b1_ne_f1_wap.npy\", allow_pickle=True)\n",
    "df_train_b1_ne_f2_wap = np.load(\"../data/train/area/df_train_b1_ne_f2_wap.npy\", allow_pickle=True)\n",
    "df_train_b1_ne_f3_wap = np.load(\"../data/train/area/df_train_b1_ne_f3_wap.npy\", allow_pickle=True)\n",
    "\n",
    "df_train_b1_nw_f0_wap = np.load(\"../data/train/area/df_train_b1_nw_f0_wap.npy\", allow_pickle=True)\n",
    "df_train_b1_nw_f1_wap = np.load(\"../data/train/area/df_train_b1_nw_f1_wap.npy\", allow_pickle=True)\n",
    "df_train_b1_nw_f2_wap = np.load(\"../data/train/area/df_train_b1_nw_f2_wap.npy\", allow_pickle=True)\n",
    "df_train_b1_nw_f3_wap = np.load(\"../data/train/area/df_train_b1_nw_f3_wap.npy\", allow_pickle=True)\n",
    "\n",
    "df_train_b1_se_f0_wap = np.load(\"../data/train/area/df_train_b1_se_f0_wap.npy\", allow_pickle=True)\n",
    "df_train_b1_se_f1_wap = np.load(\"../data/train/area/df_train_b1_se_f1_wap.npy\", allow_pickle=True)\n",
    "df_train_b1_se_f2_wap = np.load(\"../data/train/area/df_train_b1_se_f2_wap.npy\", allow_pickle=True)\n",
    "df_train_b1_se_f3_wap = np.load(\"../data/train/area/df_train_b1_se_f3_wap.npy\", allow_pickle=True)\n",
    "\n",
    "df_train_b1_sw_f0_wap = np.load(\"../data/train/area/df_train_b1_sw_f0_wap.npy\", allow_pickle=True)\n",
    "df_train_b1_sw_f1_wap = np.load(\"../data/train/area/df_train_b1_sw_f1_wap.npy\", allow_pickle=True)\n",
    "df_train_b1_sw_f2_wap = np.load(\"../data/train/area/df_train_b1_sw_f2_wap.npy\", allow_pickle=True)\n",
    "df_train_b1_sw_f3_wap = np.load(\"../data/train/area/df_train_b1_sw_f3_wap.npy\", allow_pickle=True)\n",
    "\n",
    "df_train_b1_ct_f0_wap = np.load(\"../data/train/area/df_train_b1_ct_f0_wap.npy\", allow_pickle=True)\n",
    "df_train_b1_ct_f1_wap = np.load(\"../data/train/area/df_train_b1_ct_f1_wap.npy\", allow_pickle=True)\n",
    "df_train_b1_ct_f2_wap = np.load(\"../data/train/area/df_train_b1_ct_f2_wap.npy\", allow_pickle=True)\n",
    "df_train_b1_ct_f3_wap = np.load(\"../data/train/area/df_train_b1_ct_f3_wap.npy\", allow_pickle=True)"
   ]
  },
  {
   "cell_type": "code",
   "execution_count": 14,
   "metadata": {},
   "outputs": [],
   "source": [
    "df_train_b2_ne_wap = np.load(\"../data/train/area/df_train_b2_ne_wap.npy\", allow_pickle=True)\n",
    "df_train_b2_nw_wap = np.load(\"../data/train/area/df_train_b2_nw_wap.npy\", allow_pickle=True)\n",
    "df_train_b2_se_wap = np.load(\"../data/train/area/df_train_b2_se_wap.npy\", allow_pickle=True)\n",
    "df_train_b2_sw_wap = np.load(\"../data/train/area/df_train_b2_sw_wap.npy\", allow_pickle=True)"
   ]
  },
  {
   "cell_type": "code",
   "execution_count": 15,
   "metadata": {},
   "outputs": [],
   "source": [
    "df_train_b2_ne_f0_wap = np.load(\"../data/train/area/df_train_b2_ne_f0_wap.npy\", allow_pickle=True)\n",
    "df_train_b2_ne_f1_wap = np.load(\"../data/train/area/df_train_b2_ne_f1_wap.npy\", allow_pickle=True)\n",
    "df_train_b2_ne_f2_wap = np.load(\"../data/train/area/df_train_b2_ne_f2_wap.npy\", allow_pickle=True)\n",
    "df_train_b2_ne_f3_wap = np.load(\"../data/train/area/df_train_b2_ne_f3_wap.npy\", allow_pickle=True)\n",
    "df_train_b2_ne_f4_wap = np.load(\"../data/train/area/df_train_b2_ne_f4_wap.npy\", allow_pickle=True)\n",
    "\n",
    "df_train_b2_nw_f0_wap = np.load(\"../data/train/area/df_train_b2_nw_f0_wap.npy\", allow_pickle=True)\n",
    "df_train_b2_nw_f1_wap = np.load(\"../data/train/area/df_train_b2_nw_f1_wap.npy\", allow_pickle=True)\n",
    "df_train_b2_nw_f2_wap = np.load(\"../data/train/area/df_train_b2_nw_f2_wap.npy\", allow_pickle=True)\n",
    "df_train_b2_nw_f3_wap = np.load(\"../data/train/area/df_train_b2_nw_f3_wap.npy\", allow_pickle=True)\n",
    "df_train_b2_nw_f4_wap = np.load(\"../data/train/area/df_train_b2_nw_f4_wap.npy\", allow_pickle=True)\n",
    "\n",
    "df_train_b2_se_f0_wap = np.load(\"../data/train/area/df_train_b2_se_f0_wap.npy\", allow_pickle=True)\n",
    "df_train_b2_se_f1_wap = np.load(\"../data/train/area/df_train_b2_se_f1_wap.npy\", allow_pickle=True)\n",
    "df_train_b2_se_f2_wap = np.load(\"../data/train/area/df_train_b2_se_f2_wap.npy\", allow_pickle=True)\n",
    "df_train_b2_se_f3_wap = np.load(\"../data/train/area/df_train_b2_se_f3_wap.npy\", allow_pickle=True)\n",
    "\n",
    "df_train_b2_sw_f0_wap = np.load(\"../data/train/area/df_train_b2_sw_f0_wap.npy\", allow_pickle=True)\n",
    "df_train_b2_sw_f1_wap = np.load(\"../data/train/area/df_train_b2_sw_f1_wap.npy\", allow_pickle=True)\n",
    "df_train_b2_sw_f2_wap = np.load(\"../data/train/area/df_train_b2_sw_f2_wap.npy\", allow_pickle=True)\n",
    "df_train_b2_sw_f3_wap = np.load(\"../data/train/area/df_train_b2_sw_f3_wap.npy\", allow_pickle=True)\n",
    "df_train_b2_sw_f4_wap = np.load(\"../data/train/area/df_train_b2_sw_f4_wap.npy\", allow_pickle=True)"
   ]
  },
  {
   "cell_type": "markdown",
   "metadata": {},
   "source": [
    "## Parameter tuning using SVM"
   ]
  },
  {
   "cell_type": "code",
   "execution_count": 16,
   "metadata": {},
   "outputs": [],
   "source": [
    "kwargs = {\n",
    "    'target'    : 'room',\n",
    "    'classifier': 'svm',\n",
    "}"
   ]
  },
  {
   "cell_type": "markdown",
   "metadata": {},
   "source": [
    "### Building 0"
   ]
  },
  {
   "cell_type": "markdown",
   "metadata": {},
   "source": [
    "*NE*"
   ]
  },
  {
   "cell_type": "code",
   "execution_count": 17,
   "metadata": {},
   "outputs": [
    {
     "name": "stdout",
     "output_type": "stream",
     "text": [
      "BEST PARAMS: {'C': 1}\n",
      "[F0] Average balanced accuracy: 83.13% ± 6.91%\n",
      "BEST PARAMS: {'C': 0.1}\n",
      "[F1] Average balanced accuracy: 74.14% ± 16.64%\n",
      "BEST PARAMS: {'C': 1}\n",
      "[F2] Average balanced accuracy: 73.03% ± 15.91%\n",
      "BEST PARAMS: {'C': 0.5}\n",
      "[F3] Average balanced accuracy: 64.80% ± 13.36%\n"
     ]
    }
   ],
   "source": [
    "best_estimator, cvs = tune_parameter(data=df_train_b0_ne_f0, wap=df_train_b0_ne_f0_wap, **kwargs)\n",
    "print(\"[F0] Average balanced accuracy: %.2f%% ± %.2f%%\" % (mean_ci(cvs)[0]* 100, mean_ci(cvs)[1] * 100))\n",
    "best_estimator, cvs = tune_parameter(data=df_train_b0_ne_f1, wap=df_train_b0_ne_f1_wap, **kwargs)\n",
    "print(\"[F1] Average balanced accuracy: %.2f%% ± %.2f%%\" % (mean_ci(cvs)[0]* 100, mean_ci(cvs)[1] * 100))\n",
    "best_estimator, cvs = tune_parameter(data=df_train_b0_ne_f2, wap=df_train_b0_ne_f2_wap, **kwargs)\n",
    "print(\"[F2] Average balanced accuracy: %.2f%% ± %.2f%%\" % (mean_ci(cvs)[0]* 100, mean_ci(cvs)[1] * 100))\n",
    "best_estimator, cvs = tune_parameter(data=df_train_b0_ne_f3, wap=df_train_b0_ne_f3_wap, **kwargs)\n",
    "print(\"[F3] Average balanced accuracy: %.2f%% ± %.2f%%\" % (mean_ci(cvs)[0]* 100, mean_ci(cvs)[1] * 100))"
   ]
  },
  {
   "cell_type": "markdown",
   "metadata": {},
   "source": [
    "*NW*"
   ]
  },
  {
   "cell_type": "code",
   "execution_count": 18,
   "metadata": {},
   "outputs": [
    {
     "name": "stdout",
     "output_type": "stream",
     "text": [
      "BEST PARAMS: {'C': 0.5}\n",
      "[F0] Average balanced accuracy: 76.35% ± 12.05%\n",
      "BEST PARAMS: {'C': 0.1}\n",
      "[F1] Average balanced accuracy: 77.17% ± 14.38%\n",
      "BEST PARAMS: {'C': 0.1}\n",
      "[F2] Average balanced accuracy: 76.87% ± 12.59%\n",
      "BEST PARAMS: {'C': 0.05}\n",
      "[F3] Average balanced accuracy: 72.06% ± 15.55%\n"
     ]
    }
   ],
   "source": [
    "best_estimator, cvs = tune_parameter(data=df_train_b0_nw_f0, wap=df_train_b0_nw_f0_wap, **kwargs)\n",
    "print(\"[F0] Average balanced accuracy: %.2f%% ± %.2f%%\" % (mean_ci(cvs)[0]* 100, mean_ci(cvs)[1] * 100))\n",
    "best_estimator, cvs = tune_parameter(data=df_train_b0_nw_f1, wap=df_train_b0_nw_f1_wap, **kwargs)\n",
    "print(\"[F1] Average balanced accuracy: %.2f%% ± %.2f%%\" % (mean_ci(cvs)[0]* 100, mean_ci(cvs)[1] * 100))\n",
    "best_estimator, cvs = tune_parameter(data=df_train_b0_nw_f2, wap=df_train_b0_nw_f2_wap, **kwargs)\n",
    "print(\"[F2] Average balanced accuracy: %.2f%% ± %.2f%%\" % (mean_ci(cvs)[0]* 100, mean_ci(cvs)[1] * 100))\n",
    "best_estimator, cvs = tune_parameter(data=df_train_b0_nw_f3, wap=df_train_b0_nw_f3_wap, **kwargs)\n",
    "print(\"[F3] Average balanced accuracy: %.2f%% ± %.2f%%\" % (mean_ci(cvs)[0]* 100, mean_ci(cvs)[1] * 100))"
   ]
  },
  {
   "cell_type": "markdown",
   "metadata": {},
   "source": [
    "*SE*"
   ]
  },
  {
   "cell_type": "code",
   "execution_count": 19,
   "metadata": {},
   "outputs": [
    {
     "name": "stdout",
     "output_type": "stream",
     "text": [
      "BEST PARAMS: {'C': 1}\n",
      "[F0] Average balanced accuracy: 83.08% ± 8.50%\n",
      "BEST PARAMS: {'C': 1}\n",
      "[F1] Average balanced accuracy: 80.13% ± 9.79%\n",
      "BEST PARAMS: {'C': 1}\n",
      "[F2] Average balanced accuracy: 70.00% ± 13.41%\n",
      "BEST PARAMS: {'C': 0.5}\n",
      "[F3] Average balanced accuracy: 71.84% ± 14.00%\n"
     ]
    }
   ],
   "source": [
    "best_estimator, cvs = tune_parameter(data=df_train_b0_se_f0, wap=df_train_b0_se_f0_wap, **kwargs)\n",
    "print(\"[F0] Average balanced accuracy: %.2f%% ± %.2f%%\" % (mean_ci(cvs)[0]* 100, mean_ci(cvs)[1] * 100))\n",
    "best_estimator, cvs = tune_parameter(data=df_train_b0_se_f1, wap=df_train_b0_se_f1_wap, **kwargs)\n",
    "print(\"[F1] Average balanced accuracy: %.2f%% ± %.2f%%\" % (mean_ci(cvs)[0]* 100, mean_ci(cvs)[1] * 100))\n",
    "best_estimator, cvs = tune_parameter(data=df_train_b0_se_f2, wap=df_train_b0_se_f2_wap, **kwargs)\n",
    "print(\"[F2] Average balanced accuracy: %.2f%% ± %.2f%%\" % (mean_ci(cvs)[0]* 100, mean_ci(cvs)[1] * 100))\n",
    "best_estimator, cvs = tune_parameter(data=df_train_b0_se_f3, wap=df_train_b0_se_f3_wap, **kwargs)\n",
    "print(\"[F3] Average balanced accuracy: %.2f%% ± %.2f%%\" % (mean_ci(cvs)[0]* 100, mean_ci(cvs)[1] * 100))"
   ]
  },
  {
   "cell_type": "markdown",
   "metadata": {},
   "source": [
    "*SW*"
   ]
  },
  {
   "cell_type": "code",
   "execution_count": 20,
   "metadata": {},
   "outputs": [
    {
     "name": "stdout",
     "output_type": "stream",
     "text": [
      "BEST PARAMS: {'C': 0.5}\n",
      "[F0] Average balanced accuracy: 83.75% ± 8.83%\n",
      "BEST PARAMS: {'C': 0.1}\n",
      "[F1] Average balanced accuracy: 77.08% ± 13.72%\n",
      "BEST PARAMS: {'C': 0.05}\n",
      "[F2] Average balanced accuracy: 70.17% ± 17.31%\n",
      "BEST PARAMS: {'C': 0.1}\n",
      "[F3] Average balanced accuracy: 69.69% ± 15.60%\n"
     ]
    }
   ],
   "source": [
    "best_estimator, cvs = tune_parameter(data=df_train_b0_sw_f0, wap=df_train_b0_sw_f0_wap, **kwargs)\n",
    "print(\"[F0] Average balanced accuracy: %.2f%% ± %.2f%%\" % (mean_ci(cvs)[0]* 100, mean_ci(cvs)[1] * 100))\n",
    "best_estimator, cvs = tune_parameter(data=df_train_b0_sw_f1, wap=df_train_b0_sw_f1_wap, **kwargs)\n",
    "print(\"[F1] Average balanced accuracy: %.2f%% ± %.2f%%\" % (mean_ci(cvs)[0]* 100, mean_ci(cvs)[1] * 100))\n",
    "best_estimator, cvs = tune_parameter(data=df_train_b0_sw_f2, wap=df_train_b0_sw_f2_wap, **kwargs)\n",
    "print(\"[F2] Average balanced accuracy: %.2f%% ± %.2f%%\" % (mean_ci(cvs)[0]* 100, mean_ci(cvs)[1] * 100))\n",
    "best_estimator, cvs = tune_parameter(data=df_train_b0_sw_f3, wap=df_train_b0_sw_f3_wap, **kwargs)\n",
    "print(\"[F3] Average balanced accuracy: %.2f%% ± %.2f%%\" % (mean_ci(cvs)[0]* 100, mean_ci(cvs)[1] * 100))"
   ]
  },
  {
   "cell_type": "markdown",
   "metadata": {},
   "source": [
    "### Building 1"
   ]
  },
  {
   "cell_type": "markdown",
   "metadata": {},
   "source": [
    "*NE*"
   ]
  },
  {
   "cell_type": "code",
   "execution_count": 21,
   "metadata": {},
   "outputs": [
    {
     "name": "stdout",
     "output_type": "stream",
     "text": [
      "BEST PARAMS: {'C': 1}\n",
      "[F0] Average balanced accuracy: 68.17% ± 7.90%\n",
      "BEST PARAMS: {'C': 0.1}\n",
      "[F1] Average balanced accuracy: 85.77% ± 3.89%\n",
      "BEST PARAMS: {'C': 0.1}\n",
      "[F2] Average balanced accuracy: 90.93% ± 5.57%\n",
      "BEST PARAMS: {'C': 0.1}\n",
      "[F3] Average balanced accuracy: 87.12% ± 7.16%\n"
     ]
    }
   ],
   "source": [
    "best_estimator, cvs = tune_parameter(data=df_train_b1_ne_f0, wap=df_train_b1_ne_f0_wap, **kwargs)\n",
    "print(\"[F0] Average balanced accuracy: %.2f%% ± %.2f%%\" % (mean_ci(cvs)[0]* 100, mean_ci(cvs)[1] * 100))\n",
    "best_estimator, cvs = tune_parameter(data=df_train_b1_ne_f1, wap=df_train_b1_ne_f1_wap, **kwargs)\n",
    "print(\"[F1] Average balanced accuracy: %.2f%% ± %.2f%%\" % (mean_ci(cvs)[0]* 100, mean_ci(cvs)[1] * 100))\n",
    "best_estimator, cvs = tune_parameter(data=df_train_b1_ne_f2, wap=df_train_b1_ne_f2_wap, **kwargs)\n",
    "print(\"[F2] Average balanced accuracy: %.2f%% ± %.2f%%\" % (mean_ci(cvs)[0]* 100, mean_ci(cvs)[1] * 100))\n",
    "best_estimator, cvs = tune_parameter(data=df_train_b1_ne_f3, wap=df_train_b1_ne_f3_wap, **kwargs)\n",
    "print(\"[F3] Average balanced accuracy: %.2f%% ± %.2f%%\" % (mean_ci(cvs)[0]* 100, mean_ci(cvs)[1] * 100))"
   ]
  },
  {
   "cell_type": "markdown",
   "metadata": {},
   "source": [
    "*NW*"
   ]
  },
  {
   "cell_type": "code",
   "execution_count": 22,
   "metadata": {},
   "outputs": [
    {
     "name": "stdout",
     "output_type": "stream",
     "text": [
      "BEST PARAMS: {'C': 0.05}\n",
      "[F0] Average balanced accuracy: 96.88% ± 4.35%\n",
      "BEST PARAMS: {'C': 1}\n",
      "[F1] Average balanced accuracy: 70.29% ± 10.55%\n",
      "BEST PARAMS: {'C': 0.5}\n",
      "[F2] Average balanced accuracy: 89.95% ± 7.65%\n",
      "BEST PARAMS: {'C': 0.5}\n",
      "[F3] Average balanced accuracy: 82.52% ± 4.83%\n"
     ]
    }
   ],
   "source": [
    "best_estimator, cvs = tune_parameter(data=df_train_b1_nw_f0, wap=df_train_b1_nw_f0_wap, **kwargs)\n",
    "print(\"[F0] Average balanced accuracy: %.2f%% ± %.2f%%\" % (mean_ci(cvs)[0]* 100, mean_ci(cvs)[1] * 100))\n",
    "best_estimator, cvs = tune_parameter(data=df_train_b1_nw_f1, wap=df_train_b1_nw_f1_wap, **kwargs)\n",
    "print(\"[F1] Average balanced accuracy: %.2f%% ± %.2f%%\" % (mean_ci(cvs)[0]* 100, mean_ci(cvs)[1] * 100))\n",
    "best_estimator, cvs = tune_parameter(data=df_train_b1_nw_f2, wap=df_train_b1_nw_f2_wap, **kwargs)\n",
    "print(\"[F2] Average balanced accuracy: %.2f%% ± %.2f%%\" % (mean_ci(cvs)[0]* 100, mean_ci(cvs)[1] * 100))\n",
    "best_estimator, cvs = tune_parameter(data=df_train_b1_nw_f3, wap=df_train_b1_nw_f3_wap, **kwargs)\n",
    "print(\"[F3] Average balanced accuracy: %.2f%% ± %.2f%%\" % (mean_ci(cvs)[0]* 100, mean_ci(cvs)[1] * 100))"
   ]
  },
  {
   "cell_type": "markdown",
   "metadata": {},
   "source": [
    "*SE*"
   ]
  },
  {
   "cell_type": "code",
   "execution_count": 23,
   "metadata": {},
   "outputs": [
    {
     "name": "stdout",
     "output_type": "stream",
     "text": [
      "BEST PARAMS: {'C': 0.5}\n",
      "[F0] Average balanced accuracy: 96.77% ± 2.18%\n",
      "BEST PARAMS: {'C': 0.05}\n",
      "[F1] Average balanced accuracy: 93.96% ± 5.59%\n",
      "BEST PARAMS: {'C': 0.05}\n",
      "[F2] Average balanced accuracy: 97.27% ± 3.14%\n",
      "BEST PARAMS: {'C': 0.005}\n",
      "[F3] Average balanced accuracy: 94.29% ± 7.15%\n"
     ]
    }
   ],
   "source": [
    "best_estimator, cvs = tune_parameter(data=df_train_b1_se_f0, wap=df_train_b1_se_f0_wap, **kwargs)\n",
    "print(\"[F0] Average balanced accuracy: %.2f%% ± %.2f%%\" % (mean_ci(cvs)[0]* 100, mean_ci(cvs)[1] * 100))\n",
    "best_estimator, cvs = tune_parameter(data=df_train_b1_se_f1, wap=df_train_b1_se_f1_wap, **kwargs)\n",
    "print(\"[F1] Average balanced accuracy: %.2f%% ± %.2f%%\" % (mean_ci(cvs)[0]* 100, mean_ci(cvs)[1] * 100))\n",
    "best_estimator, cvs = tune_parameter(data=df_train_b1_se_f2, wap=df_train_b1_se_f2_wap, **kwargs)\n",
    "print(\"[F2] Average balanced accuracy: %.2f%% ± %.2f%%\" % (mean_ci(cvs)[0]* 100, mean_ci(cvs)[1] * 100))\n",
    "best_estimator, cvs = tune_parameter(data=df_train_b1_se_f3, wap=df_train_b1_se_f3_wap, **kwargs)\n",
    "print(\"[F3] Average balanced accuracy: %.2f%% ± %.2f%%\" % (mean_ci(cvs)[0]* 100, mean_ci(cvs)[1] * 100))"
   ]
  },
  {
   "cell_type": "markdown",
   "metadata": {},
   "source": [
    "*SW*"
   ]
  },
  {
   "cell_type": "code",
   "execution_count": 24,
   "metadata": {},
   "outputs": [
    {
     "name": "stdout",
     "output_type": "stream",
     "text": [
      "BEST PARAMS: {'C': 1}\n",
      "[F0] Average balanced accuracy: 88.11% ± 7.59%\n",
      "BEST PARAMS: {'C': 1}\n",
      "[F1] Average balanced accuracy: 89.17% ± 5.42%\n",
      "BEST PARAMS: {'C': 0.5}\n",
      "[F2] Average balanced accuracy: 85.83% ± 5.66%\n",
      "BEST PARAMS: {'C': 0.01}\n",
      "[F3] Average balanced accuracy: 83.57% ± 13.99%\n"
     ]
    }
   ],
   "source": [
    "best_estimator, cvs = tune_parameter(data=df_train_b1_sw_f0, wap=df_train_b1_sw_f0_wap, **kwargs)\n",
    "print(\"[F0] Average balanced accuracy: %.2f%% ± %.2f%%\" % (mean_ci(cvs)[0]* 100, mean_ci(cvs)[1] * 100))\n",
    "best_estimator, cvs = tune_parameter(data=df_train_b1_sw_f1, wap=df_train_b1_sw_f1_wap, **kwargs)\n",
    "print(\"[F1] Average balanced accuracy: %.2f%% ± %.2f%%\" % (mean_ci(cvs)[0]* 100, mean_ci(cvs)[1] * 100))\n",
    "best_estimator, cvs = tune_parameter(data=df_train_b1_sw_f2, wap=df_train_b1_sw_f2_wap, **kwargs)\n",
    "print(\"[F2] Average balanced accuracy: %.2f%% ± %.2f%%\" % (mean_ci(cvs)[0]* 100, mean_ci(cvs)[1] * 100))\n",
    "best_estimator, cvs = tune_parameter(data=df_train_b1_sw_f3, wap=df_train_b1_sw_f3_wap, **kwargs)\n",
    "print(\"[F3] Average balanced accuracy: %.2f%% ± %.2f%%\" % (mean_ci(cvs)[0]* 100, mean_ci(cvs)[1] * 100))"
   ]
  },
  {
   "cell_type": "markdown",
   "metadata": {},
   "source": [
    "*CT*"
   ]
  },
  {
   "cell_type": "code",
   "execution_count": 25,
   "metadata": {},
   "outputs": [
    {
     "name": "stdout",
     "output_type": "stream",
     "text": [
      "BEST PARAMS: {'C': 1}\n",
      "[F0] Average balanced accuracy: 87.06% ± 6.53%\n",
      "BEST PARAMS: {'C': 0.1}\n",
      "[F1] Average balanced accuracy: 67.36% ± 4.21%\n",
      "BEST PARAMS: {'C': 0.5}\n",
      "[F2] Average balanced accuracy: 89.69% ± 3.82%\n",
      "BEST PARAMS: {'C': 0.5}\n",
      "[F3] Average balanced accuracy: 79.75% ± 6.24%\n"
     ]
    }
   ],
   "source": [
    "best_estimator, cvs = tune_parameter(data=df_train_b1_ct_f0, wap=df_train_b1_ct_f0_wap, **kwargs)\n",
    "print(\"[F0] Average balanced accuracy: %.2f%% ± %.2f%%\" % (mean_ci(cvs)[0]* 100, mean_ci(cvs)[1] * 100))\n",
    "best_estimator, cvs = tune_parameter(data=df_train_b1_ct_f1, wap=df_train_b1_ct_f1_wap, **kwargs)\n",
    "print(\"[F1] Average balanced accuracy: %.2f%% ± %.2f%%\" % (mean_ci(cvs)[0]* 100, mean_ci(cvs)[1] * 100))\n",
    "best_estimator, cvs = tune_parameter(data=df_train_b1_ct_f2, wap=df_train_b1_ct_f2_wap, **kwargs)\n",
    "print(\"[F2] Average balanced accuracy: %.2f%% ± %.2f%%\" % (mean_ci(cvs)[0]* 100, mean_ci(cvs)[1] * 100))\n",
    "best_estimator, cvs = tune_parameter(data=df_train_b1_ct_f3, wap=df_train_b1_ct_f3_wap, **kwargs)\n",
    "print(\"[F3] Average balanced accuracy: %.2f%% ± %.2f%%\" % (mean_ci(cvs)[0]* 100, mean_ci(cvs)[1] * 100))"
   ]
  },
  {
   "cell_type": "markdown",
   "metadata": {},
   "source": [
    "### Building 2"
   ]
  },
  {
   "cell_type": "markdown",
   "metadata": {},
   "source": [
    "*NE*"
   ]
  },
  {
   "cell_type": "code",
   "execution_count": 26,
   "metadata": {},
   "outputs": [
    {
     "name": "stdout",
     "output_type": "stream",
     "text": [
      "BEST PARAMS: {'C': 1}\n",
      "[F0] Average balanced accuracy: 83.78% ± 3.93%\n",
      "BEST PARAMS: {'C': 0.5}\n",
      "[F1] Average balanced accuracy: 80.27% ± 6.48%\n",
      "BEST PARAMS: {'C': 0.05}\n",
      "[F2] Average balanced accuracy: 85.95% ± 6.30%\n",
      "BEST PARAMS: {'C': 0.1}\n",
      "[F3] Average balanced accuracy: 77.17% ± 7.91%\n",
      "BEST PARAMS: {'C': 0.05}\n",
      "[F4] Average balanced accuracy: 54.54% ± 28.35%\n"
     ]
    }
   ],
   "source": [
    "best_estimator, cvs = tune_parameter(data=df_train_b2_ne_f0, wap=df_train_b2_ne_f0_wap, **kwargs)\n",
    "print(\"[F0] Average balanced accuracy: %.2f%% ± %.2f%%\" % (mean_ci(cvs)[0]* 100, mean_ci(cvs)[1] * 100))\n",
    "best_estimator, cvs = tune_parameter(data=df_train_b2_ne_f1, wap=df_train_b2_ne_f1_wap, **kwargs)\n",
    "print(\"[F1] Average balanced accuracy: %.2f%% ± %.2f%%\" % (mean_ci(cvs)[0]* 100, mean_ci(cvs)[1] * 100))\n",
    "best_estimator, cvs = tune_parameter(data=df_train_b2_ne_f2, wap=df_train_b2_ne_f2_wap, **kwargs)\n",
    "print(\"[F2] Average balanced accuracy: %.2f%% ± %.2f%%\" % (mean_ci(cvs)[0]* 100, mean_ci(cvs)[1] * 100))\n",
    "best_estimator, cvs = tune_parameter(data=df_train_b2_ne_f3, wap=df_train_b2_ne_f3_wap, **kwargs)\n",
    "print(\"[F3] Average balanced accuracy: %.2f%% ± %.2f%%\" % (mean_ci(cvs)[0]* 100, mean_ci(cvs)[1] * 100))\n",
    "best_estimator, cvs = tune_parameter(data=df_train_b2_ne_f4, wap=df_train_b2_ne_f4_wap, **kwargs)\n",
    "print(\"[F4] Average balanced accuracy: %.2f%% ± %.2f%%\" % (mean_ci(cvs)[0]* 100, mean_ci(cvs)[1] * 100))"
   ]
  },
  {
   "cell_type": "markdown",
   "metadata": {},
   "source": [
    "*NW*"
   ]
  },
  {
   "cell_type": "code",
   "execution_count": 27,
   "metadata": {},
   "outputs": [
    {
     "name": "stdout",
     "output_type": "stream",
     "text": [
      "BEST PARAMS: {'C': 0.1}\n",
      "[F0] Average balanced accuracy: 79.81% ± 8.50%\n",
      "BEST PARAMS: {'C': 0.1}\n",
      "[F1] Average balanced accuracy: 74.05% ± 4.46%\n",
      "BEST PARAMS: {'C': 0.1}\n",
      "[F2] Average balanced accuracy: 86.14% ± 6.93%\n",
      "BEST PARAMS: {'C': 0.5}\n",
      "[F3] Average balanced accuracy: 70.07% ± 6.43%\n",
      "BEST PARAMS: {'C': 0.1}\n",
      "[F4] Average balanced accuracy: 48.89% ± 30.50%\n"
     ]
    }
   ],
   "source": [
    "best_estimator, cvs = tune_parameter(data=df_train_b2_nw_f0, wap=df_train_b2_nw_f0_wap, **kwargs)\n",
    "print(\"[F0] Average balanced accuracy: %.2f%% ± %.2f%%\" % (mean_ci(cvs)[0]* 100, mean_ci(cvs)[1] * 100))\n",
    "best_estimator, cvs = tune_parameter(data=df_train_b2_nw_f1, wap=df_train_b2_nw_f1_wap, **kwargs)\n",
    "print(\"[F1] Average balanced accuracy: %.2f%% ± %.2f%%\" % (mean_ci(cvs)[0]* 100, mean_ci(cvs)[1] * 100))\n",
    "best_estimator, cvs = tune_parameter(data=df_train_b2_nw_f2, wap=df_train_b2_nw_f2_wap, **kwargs)\n",
    "print(\"[F2] Average balanced accuracy: %.2f%% ± %.2f%%\" % (mean_ci(cvs)[0]* 100, mean_ci(cvs)[1] * 100))\n",
    "best_estimator, cvs = tune_parameter(data=df_train_b2_nw_f3, wap=df_train_b2_nw_f3_wap, **kwargs)\n",
    "print(\"[F3] Average balanced accuracy: %.2f%% ± %.2f%%\" % (mean_ci(cvs)[0]* 100, mean_ci(cvs)[1] * 100))\n",
    "best_estimator, cvs = tune_parameter(data=df_train_b2_nw_f4, wap=df_train_b2_nw_f4_wap, **kwargs)\n",
    "print(\"[F4] Average balanced accuracy: %.2f%% ± %.2f%%\" % (mean_ci(cvs)[0]* 100, mean_ci(cvs)[1] * 100))"
   ]
  },
  {
   "cell_type": "markdown",
   "metadata": {},
   "source": [
    "*SE*"
   ]
  },
  {
   "cell_type": "code",
   "execution_count": 28,
   "metadata": {},
   "outputs": [
    {
     "name": "stdout",
     "output_type": "stream",
     "text": [
      "BEST PARAMS: {'C': 0.1}\n",
      "[F0] Average balanced accuracy: 92.05% ± 6.20%\n",
      "BEST PARAMS: {'C': 0.05}\n",
      "[F1] Average balanced accuracy: 91.61% ± 7.19%\n",
      "BEST PARAMS: {'C': 0.05}\n",
      "[F2] Average balanced accuracy: 93.00% ± 6.79%\n",
      "BEST PARAMS: {'C': 1}\n",
      "[F3] Average balanced accuracy: 82.45% ± 10.41%\n"
     ]
    }
   ],
   "source": [
    "best_estimator, cvs = tune_parameter(data=df_train_b2_se_f0, wap=df_train_b2_se_f0_wap, **kwargs)\n",
    "print(\"[F0] Average balanced accuracy: %.2f%% ± %.2f%%\" % (mean_ci(cvs)[0]* 100, mean_ci(cvs)[1] * 100))\n",
    "best_estimator, cvs = tune_parameter(data=df_train_b2_se_f1, wap=df_train_b2_se_f1_wap, **kwargs)\n",
    "print(\"[F1] Average balanced accuracy: %.2f%% ± %.2f%%\" % (mean_ci(cvs)[0]* 100, mean_ci(cvs)[1] * 100))\n",
    "best_estimator, cvs = tune_parameter(data=df_train_b2_se_f2, wap=df_train_b2_se_f2_wap, **kwargs)\n",
    "print(\"[F2] Average balanced accuracy: %.2f%% ± %.2f%%\" % (mean_ci(cvs)[0]* 100, mean_ci(cvs)[1] * 100))\n",
    "best_estimator, cvs = tune_parameter(data=df_train_b2_se_f3, wap=df_train_b2_se_f3_wap, **kwargs)\n",
    "print(\"[F3] Average balanced accuracy: %.2f%% ± %.2f%%\" % (mean_ci(cvs)[0]* 100, mean_ci(cvs)[1] * 100))"
   ]
  },
  {
   "cell_type": "markdown",
   "metadata": {},
   "source": [
    "*SW*"
   ]
  },
  {
   "cell_type": "code",
   "execution_count": 29,
   "metadata": {
    "scrolled": true
   },
   "outputs": [
    {
     "name": "stdout",
     "output_type": "stream",
     "text": [
      "BEST PARAMS: {'C': 0.1}\n",
      "[F0] Average balanced accuracy: 89.52% ± 8.80%\n",
      "BEST PARAMS: {'C': 0.05}\n",
      "[F1] Average balanced accuracy: 89.79% ± 8.45%\n",
      "BEST PARAMS: {'C': 0.01}\n",
      "[F2] Average balanced accuracy: 95.56% ± 6.70%\n",
      "BEST PARAMS: {'C': 0.5}\n",
      "[F3] Average balanced accuracy: 80.71% ± 7.54%\n",
      "BEST PARAMS: {'C': 0.5}\n",
      "[F4] Average balanced accuracy: 92.97% ± 10.55%\n"
     ]
    }
   ],
   "source": [
    "best_estimator, cvs = tune_parameter(data=df_train_b2_sw_f0, wap=df_train_b2_sw_f0_wap, **kwargs)\n",
    "print(\"[F0] Average balanced accuracy: %.2f%% ± %.2f%%\" % (mean_ci(cvs)[0]* 100, mean_ci(cvs)[1] * 100))\n",
    "best_estimator, cvs = tune_parameter(data=df_train_b2_sw_f1, wap=df_train_b2_sw_f1_wap, **kwargs)\n",
    "print(\"[F1] Average balanced accuracy: %.2f%% ± %.2f%%\" % (mean_ci(cvs)[0]* 100, mean_ci(cvs)[1] * 100))\n",
    "best_estimator, cvs = tune_parameter(data=df_train_b2_sw_f2, wap=df_train_b2_sw_f2_wap, **kwargs)\n",
    "print(\"[F2] Average balanced accuracy: %.2f%% ± %.2f%%\" % (mean_ci(cvs)[0]* 100, mean_ci(cvs)[1] * 100))\n",
    "best_estimator, cvs = tune_parameter(data=df_train_b2_sw_f3, wap=df_train_b2_sw_f3_wap, **kwargs)\n",
    "print(\"[F3] Average balanced accuracy: %.2f%% ± %.2f%%\" % (mean_ci(cvs)[0]* 100, mean_ci(cvs)[1] * 100))\n",
    "best_estimator, cvs = tune_parameter(data=df_train_b2_sw_f4, wap=df_train_b2_sw_f4_wap, **kwargs)\n",
    "print(\"[F4] Average balanced accuracy: %.2f%% ± %.2f%%\" % (mean_ci(cvs)[0]* 100, mean_ci(cvs)[1] * 100))"
   ]
  },
  {
   "cell_type": "code",
   "execution_count": null,
   "metadata": {},
   "outputs": [],
   "source": []
  }
 ],
 "metadata": {
  "kernelspec": {
   "display_name": "Python 3.8.0 64-bit ('venv': virtualenv)",
   "language": "python",
   "name": "python38064bitvenvvirtualenve617f17e49084a7c973a4e86cf48a722"
  },
  "language_info": {
   "codemirror_mode": {
    "name": "ipython",
    "version": 3
   },
   "file_extension": ".py",
   "mimetype": "text/x-python",
   "name": "python",
   "nbconvert_exporter": "python",
   "pygments_lexer": "ipython3",
   "version": "3.8.0"
  }
 },
 "nbformat": 4,
 "nbformat_minor": 2
}
