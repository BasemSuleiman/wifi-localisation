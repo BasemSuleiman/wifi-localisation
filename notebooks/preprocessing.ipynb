{
 "cells": [
  {
   "cell_type": "code",
   "execution_count": 1,
   "metadata": {},
   "outputs": [],
   "source": [
    "import pandas as pd\n",
    "import numpy as np\n",
    "import matplotlib.pyplot as plt\n",
    "import seaborn as sns\n",
    "from collections import defaultdict\n",
    "\n",
    "%matplotlib inline"
   ]
  },
  {
   "cell_type": "markdown",
   "metadata": {},
   "source": [
    "## Loading data"
   ]
  },
  {
   "cell_type": "code",
   "execution_count": 2,
   "metadata": {},
   "outputs": [],
   "source": [
    "df_train = pd.read_csv(\"../data/UjiIndoorLoc/TrainingData.csv\")\n",
    "df_test = pd.read_csv(\"../data/UjiIndoorLoc/ValidationData.csv\")"
   ]
  },
  {
   "cell_type": "code",
   "execution_count": 5,
   "metadata": {
    "scrolled": true
   },
   "outputs": [
    {
     "data": {
      "text/plain": [
       "(19937, 529)"
      ]
     },
     "execution_count": 5,
     "metadata": {},
     "output_type": "execute_result"
    }
   ],
   "source": [
    "df_train.shape"
   ]
  },
  {
   "cell_type": "markdown",
   "metadata": {},
   "source": [
    "## Data exploration"
   ]
  },
  {
   "cell_type": "code",
   "execution_count": 3,
   "metadata": {},
   "outputs": [
    {
     "name": "stdout",
     "output_type": "stream",
     "text": [
      "The training set has:\n",
      "- 13 unique building-floor tuples\n",
      "- 123 unique rooms\n",
      "- 735 unique building-floor-room tuples\n",
      "- 905 unique building-floor-position tuples\n",
      "- 692 unique coordinates\n",
      "- 692 unique building-coordinates\n",
      "- 933 unique building-floor-coordinates\n",
      "- 933 unique building-floor-room-coordinates\n",
      "- 852 unique room-coordinates\n",
      "- 937 unique user-room tuples\n"
     ]
    }
   ],
   "source": [
    "print(\"The training set has:\")\n",
    "print(\"- %d unique building-floor tuples\" % len(np.unique(df_train[['BUILDINGID', 'FLOOR']].values, axis=0)))\n",
    "print(\"- %d unique space ids\" % df_train['SPACEID'].nunique())\n",
    "print(\"- %d unique building-floor-space tuples\" % len(np.unique(df_train[['BUILDINGID', 'FLOOR', 'SPACEID']].values, axis=0)))\n",
    "print(\"- %d unique building-floor-position tuples\" % len(np.unique(df_train[['BUILDINGID', 'FLOOR', 'SPACEID', 'RELATIVEPOSITION']].values, axis=0)))\n",
    "print(\"- %d unique coordinates\" % len(np.unique(df_train[['LONGITUDE', 'LATITUDE']].values, axis=0)))\n",
    "print(\"- %d unique building-coordinates\" % len(np.unique(df_train[['BUILDINGID', 'LONGITUDE', 'LATITUDE']].values, axis=0)))\n",
    "print(\"- %d unique building-floor-coordinates\" % len(np.unique(df_train[['BUILDINGID', 'FLOOR', 'LONGITUDE', 'LATITUDE']].values, axis=0)))\n",
    "print(\"- %d unique building-floor-space-coordinates\" % len(np.unique(df_train[['BUILDINGID', 'FLOOR', 'SPACEID', 'LONGITUDE', 'LATITUDE']].values, axis=0)))\n",
    "print(\"- %d unique space-coordinates\" % len(np.unique(df_train[['SPACEID', 'LONGITUDE', 'LATITUDE']].values, axis=0)))\n",
    "print(\"- %d unique user-space tuples\" % len(np.unique(df_train[['USERID', 'SPACEID']].values, axis=0)))"
   ]
  },
  {
   "cell_type": "markdown",
   "metadata": {},
   "source": [
    "## Data pre-processing"
   ]
  },
  {
   "cell_type": "markdown",
   "metadata": {},
   "source": [
    "### Re-assigning RSSI values"
   ]
  },
  {
   "cell_type": "code",
   "execution_count": 4,
   "metadata": {},
   "outputs": [],
   "source": [
    "# min(df_train.iloc[:, :520].min(axis=0)) \n",
    "# min signal strength is -104\n",
    "# re-assign undetected signal (100) to -105\n",
    "df_train[df_train.iloc[:, :520] == 100] = -105\n",
    "df_train.iloc[:, :520] += 105 # undetected signal to zero\n",
    "\n",
    "df_test[df_test.iloc[:, :520] == 100] = -105\n",
    "df_test.iloc[:, :520] += 105 # undetected signal to zero"
   ]
  },
  {
   "cell_type": "markdown",
   "metadata": {},
   "source": [
    "### Removing WAPs not in use and observations without detecting any signals"
   ]
  },
  {
   "cell_type": "code",
   "execution_count": 6,
   "metadata": {},
   "outputs": [
    {
     "name": "stdout",
     "output_type": "stream",
     "text": [
      "55 columns are dropped.\n"
     ]
    },
    {
     "data": {
      "text/plain": [
       "'\\nwap_not_detected_test = [i for i in df_test.columns[:520] if df_test[i].nunique() == 1]\\ndf_test.drop(wap_not_detected_test, axis=1, inplace=True)\\n\\nprint(\"{} columns are dropped.\".format(len(wap_not_detected_test)))\\n'"
      ]
     },
     "execution_count": 6,
     "metadata": {},
     "output_type": "execute_result"
    }
   ],
   "source": [
    "# remove rows where all the WAP values equal 100 (not detected)\n",
    "df_train.drop(df_train[df_train.iloc[:,:520].stack().groupby(level=0).nunique() == 1].index, inplace=True)\n",
    "df_test.drop(df_test[df_test.loc[:, :'WAP520'].stack().groupby(level=0).nunique() == 1].index, inplace=True) \n",
    "\n",
    "# remove WAP columns where all the values equal 100 (not detected)\n",
    "wap_not_detected_train = [i for i in df_train.columns[:520] if df_train[i].nunique() == 1]\n",
    "df_train.drop(wap_not_detected_train, axis=1, inplace=True)\n",
    "\n",
    "print(\"{} columns are dropped.\".format(len(wap_not_detected_train)))\n",
    "\n",
    "df_test = df_test[df_train.columns]\n",
    "\"\"\"\n",
    "wap_not_detected_test = [i for i in df_test.columns[:520] if df_test[i].nunique() == 1]\n",
    "df_test.drop(wap_not_detected_test, axis=1, inplace=True)\n",
    "\n",
    "print(\"{} columns are dropped.\".format(len(wap_not_detected_test)))\n",
    "\"\"\""
   ]
  },
  {
   "cell_type": "code",
   "execution_count": 7,
   "metadata": {},
   "outputs": [
    {
     "data": {
      "text/plain": [
       "(19861, 474)"
      ]
     },
     "execution_count": 7,
     "metadata": {},
     "output_type": "execute_result"
    }
   ],
   "source": [
    "df_train.shape"
   ]
  },
  {
   "cell_type": "markdown",
   "metadata": {},
   "source": [
    "### Assign labels to GPS coordinates "
   ]
  },
  {
   "cell_type": "code",
   "execution_count": 6,
   "metadata": {},
   "outputs": [],
   "source": [
    "gps_labels = defaultdict()\n",
    "\n",
    "unique_coordinates = np.unique(df_train[['FLOOR', 'LATITUDE', 'LONGITUDE']], axis=0)\n",
    "for idx, gps in enumerate(unique_coordinates):\n",
    "    gps_labels[tuple(gps)] = str(idx)\n",
    "\n",
    "ref_points = [gps_labels[tuple([i, j, k])] for i, j, k in zip(df_train['FLOOR'], df_train['LATITUDE'], df_train['LONGITUDE'])]\n",
    "\n",
    "df_train['LOC'] = ref_points"
   ]
  },
  {
   "cell_type": "markdown",
   "metadata": {},
   "source": [
    "### Converting data types"
   ]
  },
  {
   "cell_type": "code",
   "execution_count": 7,
   "metadata": {},
   "outputs": [],
   "source": [
    "# from numeric to string\n",
    "\n",
    "df_train['BUILDINGID'] = df_train['BUILDINGID'].astype(str)\n",
    "df_train['FLOOR'] = df_train['FLOOR'].astype(str)\n",
    "df_train['USERID'] = df_train['USERID'].astype(str)\n",
    "\n",
    "df_test['BUILDINGID'] = df_test['BUILDINGID'].astype(str)\n",
    "df_test['FLOOR'] = df_test['FLOOR'].astype(str)\n",
    "df_test['USERID'] = df_test['USERID'].astype(str)"
   ]
  },
  {
   "cell_type": "markdown",
   "metadata": {},
   "source": [
    "### Subsetting data, normalising RSSI values, and PCA"
   ]
  },
  {
   "cell_type": "code",
   "execution_count": 8,
   "metadata": {},
   "outputs": [],
   "source": [
    "from sklearn.decomposition import PCA\n",
    "\n",
    "pca_train = PCA(n_components=.95)\n",
    "\n",
    "pca_train_b0 = PCA(n_components=.95)\n",
    "pca_train_b1 = PCA(n_components=.95)\n",
    "pca_train_b2 = PCA(n_components=.95)\n",
    "\n",
    "pca_train_b0_f0 = PCA(n_components=.95)\n",
    "pca_train_b0_f1 = PCA(n_components=.95)\n",
    "pca_train_b0_f2 = PCA(n_components=.95)\n",
    "pca_train_b0_f3 = PCA(n_components=.95)\n",
    "\n",
    "pca_train_b1_f0 = PCA(n_components=.95)\n",
    "pca_train_b1_f1 = PCA(n_components=.95)\n",
    "pca_train_b1_f2 = PCA(n_components=.95)\n",
    "pca_train_b1_f3 = PCA(n_components=.95)\n",
    "\n",
    "pca_train_b2_f0 = PCA(n_components=.95)\n",
    "pca_train_b2_f1 = PCA(n_components=.95)\n",
    "pca_train_b2_f2 = PCA(n_components=.95)\n",
    "pca_train_b2_f3 = PCA(n_components=.95)\n",
    "pca_train_b2_f4 = PCA(n_components=.95)"
   ]
  },
  {
   "cell_type": "code",
   "execution_count": 9,
   "metadata": {},
   "outputs": [],
   "source": [
    "from sklearn.preprocessing import StandardScaler\n",
    "\n",
    "ss_train = StandardScaler()\n",
    "ss_train_b0 = StandardScaler()\n",
    "ss_train_b1 = StandardScaler()\n",
    "ss_train_b2 = StandardScaler()\n",
    "\n",
    "ss_train_b0_f0 = StandardScaler()\n",
    "ss_train_b0_f1 = StandardScaler()\n",
    "ss_train_b0_f2 = StandardScaler()\n",
    "ss_train_b0_f3 = StandardScaler()\n",
    "\n",
    "ss_train_b1_f0 = StandardScaler()\n",
    "ss_train_b1_f1 = StandardScaler()\n",
    "ss_train_b1_f2 = StandardScaler()\n",
    "ss_train_b1_f3 = StandardScaler()\n",
    "\n",
    "ss_train_b2_f0 = StandardScaler()\n",
    "ss_train_b2_f1 = StandardScaler()\n",
    "ss_train_b2_f2 = StandardScaler()\n",
    "ss_train_b2_f3 = StandardScaler()\n",
    "ss_train_b2_f4 = StandardScaler()"
   ]
  },
  {
   "cell_type": "code",
   "execution_count": 10,
   "metadata": {},
   "outputs": [],
   "source": [
    "# training data\n",
    "ss_train.fit(df_train.iloc[:, :465])\n",
    "df_train_wap_ss = ss_train.transform(df_train.iloc[:, :465])\n",
    "pca_train.fit(df_train_wap_ss)\n",
    "df_train_wap = pca_train.transform(df_train_wap_ss)\n",
    "\n",
    "# building 0, 1, 2\n",
    "df_train_b0 = df_train.loc[df_train['BUILDINGID'] == '0']\n",
    "df_train_b1 = df_train.loc[df_train['BUILDINGID'] == '1']\n",
    "df_train_b2 = df_train.loc[df_train['BUILDINGID'] == '2']\n",
    "\n",
    "ss_train_b0.fit(df_train.loc[df_train['BUILDINGID'] == '0', :'WAP519'])\n",
    "df_train_b0_wap_ss = ss_train_b0.transform(df_train.loc[df_train['BUILDINGID'] == '0', :'WAP519'])\n",
    "pca_train_b0.fit(df_train_b0_wap_ss)\n",
    "df_train_b0_wap = pca_train_b0.transform(df_train_b0_wap_ss)\n",
    "\n",
    "ss_train_b1.fit(df_train.loc[df_train['BUILDINGID'] == '1', :'WAP519'])\n",
    "df_train_b1_wap_ss = ss_train_b1.transform(df_train.loc[df_train['BUILDINGID'] == '1', :'WAP519'])\n",
    "pca_train_b1.fit(df_train_b1_wap_ss)\n",
    "df_train_b1_wap = pca_train_b1.transform(df_train_b1_wap_ss)\n",
    "\n",
    "ss_train_b2.fit(df_train.loc[df_train['BUILDINGID'] == '2', :'WAP519'])\n",
    "df_train_b2_wap_ss = ss_train_b2.transform(df_train.loc[df_train['BUILDINGID'] == '2', :'WAP519'])\n",
    "pca_train_b2.fit(df_train_b2_wap_ss)\n",
    "df_train_b2_wap = pca_train_b2.transform(df_train_b2_wap_ss)"
   ]
  },
  {
   "cell_type": "code",
   "execution_count": 11,
   "metadata": {},
   "outputs": [],
   "source": [
    "# floors in building 0\n",
    "df_train_b0_f0 = df_train.loc[(df_train['BUILDINGID'] == '0') & \n",
    "                              (df_train['FLOOR'] == '0')]\n",
    "df_train_b0_f1 = df_train.loc[(df_train['BUILDINGID'] == '0') & \n",
    "                              (df_train['FLOOR'] == '1')]\n",
    "df_train_b0_f2 = df_train.loc[(df_train['BUILDINGID'] == '0') & \n",
    "                              (df_train['FLOOR'] == '2')]\n",
    "df_train_b0_f3 = df_train.loc[(df_train['BUILDINGID'] == '0') & \n",
    "                              (df_train['FLOOR'] == '3')]\n",
    "\n",
    "# building 0 - floor RSSI\n",
    "df = df_train.loc[(df_train['BUILDINGID'] == '0') & (df_train['FLOOR'] == '0'),  :'WAP519']\n",
    "ss_train_b0_f0.fit(df)\n",
    "df_train_b0_f0_wap_ss = ss_train_b0_f0.transform(df)\n",
    "pca_train_b0_f0.fit(df_train_b0_f0_wap_ss)\n",
    "df_train_b0_f0_wap = pca_train_b0_f0.transform(df_train_b0_f0_wap_ss)\n",
    "\n",
    "df = df_train.loc[(df_train['BUILDINGID'] == '0') & (df_train['FLOOR'] == '1'),  :'WAP519']\n",
    "ss_train_b0_f1.fit(df)\n",
    "df_train_b0_f1_wap_ss = ss_train_b0_f1.transform(df)\n",
    "pca_train_b0_f1.fit(df_train_b0_f1_wap_ss)\n",
    "df_train_b0_f1_wap = pca_train_b0_f1.transform(df_train_b0_f1_wap_ss)\n",
    "\n",
    "df = df_train.loc[(df_train['BUILDINGID'] == '0') & (df_train['FLOOR'] == '2'),  :'WAP519']\n",
    "ss_train_b0_f2.fit(df)\n",
    "df_train_b0_f2_wap_ss = ss_train_b0_f2.transform(df)\n",
    "pca_train_b0_f2.fit(df_train_b0_f2_wap_ss)\n",
    "df_train_b0_f2_wap = pca_train_b0_f2.transform(df_train_b0_f2_wap_ss)\n",
    "\n",
    "df = df_train.loc[(df_train['BUILDINGID'] == '0') & (df_train['FLOOR'] == '3'),  :'WAP519']\n",
    "ss_train_b0_f3.fit(df)\n",
    "df_train_b0_f3_wap_ss = ss_train_b0_f3.transform(df)\n",
    "pca_train_b0_f3.fit(df_train_b0_f3_wap_ss)\n",
    "df_train_b0_f3_wap = pca_train_b0_f3.transform(df_train_b0_f3_wap_ss)"
   ]
  },
  {
   "cell_type": "code",
   "execution_count": 12,
   "metadata": {},
   "outputs": [],
   "source": [
    "# floors in building 1\n",
    "df_train_b1_f0 = df_train.loc[(df_train['BUILDINGID'] == '1') & \n",
    "                              (df_train['FLOOR'] == '0')]\n",
    "df_train_b1_f1 = df_train.loc[(df_train['BUILDINGID'] == '1') & \n",
    "                              (df_train['FLOOR'] == '1')]\n",
    "df_train_b1_f2 = df_train.loc[(df_train['BUILDINGID'] == '1') & \n",
    "                              (df_train['FLOOR'] == '2')]\n",
    "df_train_b1_f3 = df_train.loc[(df_train['BUILDINGID'] == '1') & \n",
    "                              (df_train['FLOOR'] == '3')]\n",
    "\n",
    "# building 1 - floor RSSI\n",
    "df = df_train.loc[(df_train['BUILDINGID'] == '1') & (df_train['FLOOR'] == '0'),  :'WAP519']\n",
    "ss_train_b1_f0.fit(df)\n",
    "df_train_b1_f0_wap_ss = ss_train_b1_f0.transform(df)\n",
    "pca_train_b1_f0.fit(df_train_b1_f0_wap_ss)\n",
    "df_train_b1_f0_wap = pca_train_b1_f0.transform(df_train_b1_f0_wap_ss)\n",
    "\n",
    "df = df_train.loc[(df_train['BUILDINGID'] == '1') & (df_train['FLOOR'] == '1'),  :'WAP519']\n",
    "ss_train_b1_f1.fit(df)\n",
    "df_train_b1_f1_wap_ss = ss_train_b1_f1.transform(df)\n",
    "pca_train_b1_f1.fit(df_train_b1_f1_wap_ss)\n",
    "df_train_b1_f1_wap = pca_train_b1_f1.transform(df_train_b1_f1_wap_ss)\n",
    "\n",
    "df = df_train.loc[(df_train['BUILDINGID'] == '1') & (df_train['FLOOR'] == '2'),  :'WAP519']\n",
    "ss_train_b1_f2.fit(df)\n",
    "df_train_b1_f2_wap_ss = ss_train_b1_f2.transform(df)\n",
    "pca_train_b1_f2.fit(df_train_b1_f2_wap_ss)\n",
    "df_train_b1_f2_wap = pca_train_b1_f2.transform(df_train_b1_f2_wap_ss)\n",
    "\n",
    "df = df_train.loc[(df_train['BUILDINGID'] == '1') & (df_train['FLOOR'] == '3'),  :'WAP519']\n",
    "ss_train_b1_f3.fit(df)\n",
    "df_train_b1_f3_wap_ss = ss_train_b1_f3.transform(df)\n",
    "pca_train_b1_f3.fit(df_train_b1_f3_wap_ss)\n",
    "df_train_b1_f3_wap = pca_train_b1_f3.transform(df_train_b1_f3_wap_ss)"
   ]
  },
  {
   "cell_type": "code",
   "execution_count": 13,
   "metadata": {},
   "outputs": [],
   "source": [
    "# floors in building 2\n",
    "df_train_b2_f0 = df_train.loc[(df_train['BUILDINGID'] == '2') & \n",
    "                              (df_train['FLOOR'] == '0')]\n",
    "df_train_b2_f1 = df_train.loc[(df_train['BUILDINGID'] == '2') & \n",
    "                              (df_train['FLOOR'] == '1')]\n",
    "df_train_b2_f2 = df_train.loc[(df_train['BUILDINGID'] == '2') & \n",
    "                              (df_train['FLOOR'] == '2')]\n",
    "df_train_b2_f3 = df_train.loc[(df_train['BUILDINGID'] == '2') & \n",
    "                              (df_train['FLOOR'] == '3')]\n",
    "df_train_b2_f4 = df_train.loc[(df_train['BUILDINGID'] == '2') & \n",
    "                              (df_train['FLOOR'] == '4')]\n",
    "\n",
    "# building 2 - floor RSSI\n",
    "df = df_train.loc[(df_train['BUILDINGID'] == '2') & (df_train['FLOOR'] == '0'),  :'WAP519']\n",
    "ss_train_b2_f0.fit(df)\n",
    "df_train_b2_f0_wap_ss = ss_train_b2_f0.transform(df)\n",
    "pca_train_b2_f0.fit(df_train_b2_f0_wap_ss)\n",
    "df_train_b2_f0_wap = pca_train_b2_f0.transform(df_train_b2_f0_wap_ss)\n",
    "\n",
    "df = df_train.loc[(df_train['BUILDINGID'] == '2') & (df_train['FLOOR'] == '1'),  :'WAP519']\n",
    "ss_train_b2_f1.fit(df)\n",
    "df_train_b2_f1_wap_ss = ss_train_b2_f1.transform(df)\n",
    "pca_train_b2_f1.fit(df_train_b2_f1_wap_ss)\n",
    "df_train_b2_f1_wap = pca_train_b2_f1.transform(df_train_b2_f1_wap_ss)\n",
    "\n",
    "df = df_train.loc[(df_train['BUILDINGID'] == '2') & (df_train['FLOOR'] == '2'),  :'WAP519']\n",
    "ss_train_b2_f2.fit(df)\n",
    "df_train_b2_f2_wap_ss = ss_train_b2_f2.transform(df)\n",
    "pca_train_b2_f2.fit(df_train_b2_f2_wap_ss)\n",
    "df_train_b2_f2_wap = pca_train_b2_f2.transform(df_train_b2_f2_wap_ss)\n",
    "\n",
    "df = df_train.loc[(df_train['BUILDINGID'] == '2') & (df_train['FLOOR'] == '3'),  :'WAP519']\n",
    "ss_train_b2_f3.fit(df)\n",
    "df_train_b2_f3_wap_ss = ss_train_b2_f3.transform(df)\n",
    "pca_train_b2_f3.fit(df_train_b2_f3_wap_ss)\n",
    "df_train_b2_f3_wap = pca_train_b2_f3.transform(df_train_b2_f3_wap_ss)\n",
    "\n",
    "df = df_train.loc[(df_train['BUILDINGID'] == '2') & (df_train['FLOOR'] == '4'),  :'WAP519']\n",
    "ss_train_b2_f4.fit(df)\n",
    "df_train_b2_f4_wap_ss = ss_train_b2_f4.transform(df)\n",
    "pca_train_b2_f4.fit(df_train_b2_f4_wap_ss)\n",
    "df_train_b2_f4_wap = pca_train_b2_f4.transform(df_train_b2_f4_wap_ss)"
   ]
  },
  {
   "cell_type": "markdown",
   "metadata": {},
   "source": [
    "Apply PCA and normalisation to test data"
   ]
  },
  {
   "cell_type": "code",
   "execution_count": 14,
   "metadata": {},
   "outputs": [],
   "source": [
    "# building 0, 1, 2\n",
    "df_test_b0 = df_test.loc[df_test['BUILDINGID'] == '0']\n",
    "df_test_b1 = df_test.loc[df_test['BUILDINGID'] == '1']\n",
    "df_test_b2 = df_test.loc[df_test['BUILDINGID'] == '2']\n",
    "\n",
    "# floors in building 0\n",
    "df_test_b0_f0 = df_test.loc[(df_test['BUILDINGID'] == '0') & \n",
    "                              (df_test['FLOOR'] == '0')]\n",
    "df_test_b0_f1 = df_test.loc[(df_test['BUILDINGID'] == '0') & \n",
    "                              (df_test['FLOOR'] == '1')]\n",
    "df_test_b0_f2 = df_test.loc[(df_test['BUILDINGID'] == '0') & \n",
    "                              (df_test['FLOOR'] == '2')]\n",
    "df_test_b0_f3 = df_test.loc[(df_test['BUILDINGID'] == '0') & \n",
    "                              (df_test['FLOOR'] == '3')]\n",
    "\n",
    "# floors in building 1\n",
    "df_test_b1_f0 = df_test.loc[(df_test['BUILDINGID'] == '1') & \n",
    "                              (df_test['FLOOR'] == '0')]\n",
    "df_test_b1_f1 = df_test.loc[(df_test['BUILDINGID'] == '1') & \n",
    "                              (df_test['FLOOR'] == '1')]\n",
    "df_test_b1_f2 = df_test.loc[(df_test['BUILDINGID'] == '1') & \n",
    "                              (df_test['FLOOR'] == '2')]\n",
    "df_test_b1_f3 = df_test.loc[(df_test['BUILDINGID'] == '1') & \n",
    "                              (df_test['FLOOR'] == '3')]\n",
    "\n",
    "# floors in building 2\n",
    "df_test_b2_f0 = df_test.loc[(df_test['BUILDINGID'] == '2') & \n",
    "                              (df_test['FLOOR'] == '0')]\n",
    "df_test_b2_f1 = df_test.loc[(df_test['BUILDINGID'] == '2') & \n",
    "                              (df_test['FLOOR'] == '1')]\n",
    "df_test_b2_f2 = df_test.loc[(df_test['BUILDINGID'] == '2') & \n",
    "                              (df_test['FLOOR'] == '2')]\n",
    "df_test_b2_f3 = df_test.loc[(df_test['BUILDINGID'] == '2') & \n",
    "                              (df_test['FLOOR'] == '3')]\n",
    "df_test_b2_f4 = df_test.loc[(df_test['BUILDINGID'] == '2') & \n",
    "                              (df_test['FLOOR'] == '4')]"
   ]
  },
  {
   "cell_type": "code",
   "execution_count": 15,
   "metadata": {},
   "outputs": [],
   "source": [
    "df_test_wap_ss = ss_train.transform(df_test.iloc[:, :465])\n",
    "df_test_wap = pca_train.transform(df_test_wap_ss)\n",
    "\n",
    "# building RSSI\n",
    "df_test_b0_wap_ss = ss_train_b0.transform(df_test.loc[df_test['BUILDINGID'] == '0', :'WAP519'])\n",
    "df_test_b0_wap = pca_train_b0.transform(df_test_b0_wap_ss)\n",
    "\n",
    "df_test_b1_wap_ss = ss_train_b1.transform(df_test.loc[df_test['BUILDINGID'] == '1', :'WAP519'])\n",
    "df_test_b1_wap = pca_train_b1.transform(df_test_b1_wap_ss)\n",
    "\n",
    "df_test_b2_wap_ss = ss_train_b2.transform(df_test.loc[df_test['BUILDINGID'] == '2', :'WAP519'])\n",
    "df_test_b2_wap = pca_train_b2.transform(df_test_b2_wap_ss)"
   ]
  },
  {
   "cell_type": "code",
   "execution_count": 16,
   "metadata": {},
   "outputs": [],
   "source": [
    "# building 0 - floor RSSI\n",
    "df = df_test.loc[(df_test['BUILDINGID'] == '0') & (df_test['FLOOR'] == '0'),  :'WAP519']\n",
    "df_test_b0_f0_wap_ss = ss_train_b0_f0.transform(df)\n",
    "df_test_b0_f0_wap = pca_train_b0_f0.transform(df_test_b0_f0_wap_ss)\n",
    "\n",
    "df = df_test.loc[(df_test['BUILDINGID'] == '0') & (df_test['FLOOR'] == '1'),  :'WAP519']\n",
    "df_test_b0_f1_wap_ss = ss_train_b0_f1.transform(df)\n",
    "df_test_b0_f1_wap = pca_train_b0_f1.transform(df_test_b0_f1_wap_ss)\n",
    "\n",
    "df = df_test.loc[(df_test['BUILDINGID'] == '0') & (df_test['FLOOR'] == '2'),  :'WAP519']\n",
    "df_test_b0_f2_wap_ss = ss_train_b0_f2.transform(df)\n",
    "df_test_b0_f2_wap = pca_train_b0_f2.transform(df_test_b0_f2_wap_ss)\n",
    "\n",
    "df = df_test.loc[(df_test['BUILDINGID'] == '0') & (df_test['FLOOR'] == '3'),  :'WAP519']\n",
    "df_test_b0_f3_wap_ss = ss_train_b0_f3.transform(df)\n",
    "df_test_b0_f3_wap = pca_train_b0_f3.transform(df_test_b0_f3_wap_ss)"
   ]
  },
  {
   "cell_type": "code",
   "execution_count": 17,
   "metadata": {},
   "outputs": [],
   "source": [
    "# building 1 - floor RSSI\n",
    "df = df_test.loc[(df_test['BUILDINGID'] == '1') & (df_test['FLOOR'] == '0'),  :'WAP519']\n",
    "df_test_b1_f0_wap_ss = ss_train_b1_f0.transform(df)\n",
    "df_test_b1_f0_wap = pca_train_b1_f0.transform(df_test_b1_f0_wap_ss)\n",
    "\n",
    "df = df_test.loc[(df_test['BUILDINGID'] == '1') & (df_test['FLOOR'] == '1'),  :'WAP519']\n",
    "df_test_b1_f1_wap_ss = ss_train_b1_f1.transform(df)\n",
    "df_test_b1_f1_wap = pca_train_b1_f1.transform(df_test_b1_f1_wap_ss)\n",
    "\n",
    "df = df_test.loc[(df_test['BUILDINGID'] == '1') & (df_test['FLOOR'] == '2'),  :'WAP519']\n",
    "df_test_b1_f2_wap_ss = ss_train_b1_f2.transform(df)\n",
    "df_test_b1_f2_wap = pca_train_b1_f2.transform(df_test_b1_f2_wap_ss)\n",
    "\n",
    "df = df_test.loc[(df_test['BUILDINGID'] == '1') & (df_test['FLOOR'] == '3'),  :'WAP519']\n",
    "df_test_b1_f3_wap_ss = ss_train_b1_f3.transform(df)\n",
    "df_test_b1_f3_wap = pca_train_b1_f3.transform(df_test_b1_f3_wap_ss)"
   ]
  },
  {
   "cell_type": "code",
   "execution_count": 18,
   "metadata": {},
   "outputs": [],
   "source": [
    "# building 2 - floor RSSI\n",
    "df = df_test.loc[(df_test['BUILDINGID'] == '2') & (df_test['FLOOR'] == '0'),  :'WAP519']\n",
    "df_test_b2_f0_wap_ss = ss_train_b2_f0.transform(df)\n",
    "df_test_b2_f0_wap = pca_train_b2_f0.transform(df_test_b2_f0_wap_ss)\n",
    "\n",
    "df = df_test.loc[(df_test['BUILDINGID'] == '2') & (df_test['FLOOR'] == '1'),  :'WAP519']\n",
    "df_test_b2_f1_wap_ss = ss_train_b2_f1.transform(df)\n",
    "df_test_b2_f1_wap = pca_train_b2_f1.transform(df_test_b2_f1_wap_ss)\n",
    "\n",
    "df = df_test.loc[(df_test['BUILDINGID'] == '2') & (df_test['FLOOR'] == '2'),  :'WAP519']\n",
    "df_test_b2_f2_wap_ss = ss_train_b2_f2.transform(df)\n",
    "df_test_b2_f2_wap = pca_train_b2_f2.transform(df_test_b2_f2_wap_ss)\n",
    "\n",
    "df = df_test.loc[(df_test['BUILDINGID'] == '2') & (df_test['FLOOR'] == '3'),  :'WAP519']\n",
    "df_test_b2_f3_wap_ss = ss_train_b2_f3.transform(df)\n",
    "df_test_b2_f3_wap = pca_train_b2_f3.transform(df_test_b2_f3_wap_ss)\n",
    "\n",
    "df = df_test.loc[(df_test['BUILDINGID'] == '2') & (df_test['FLOOR'] == '4'),  :'WAP519']\n",
    "df_test_b2_f4_wap_ss = ss_train_b2_f4.transform(df)\n",
    "df_test_b2_f4_wap = pca_train_b2_f4.transform(df_test_b2_f4_wap_ss)"
   ]
  },
  {
   "cell_type": "markdown",
   "metadata": {},
   "source": [
    "## Saving processed data"
   ]
  },
  {
   "cell_type": "code",
   "execution_count": 19,
   "metadata": {},
   "outputs": [],
   "source": [
    "# train\n",
    "df_train.to_csv(\"../data/train/df_train.csv\")\n",
    "\n",
    "df_train_b0.to_csv(\"../data/train/df_train_b0.csv\")\n",
    "df_train_b1.to_csv(\"../data/train/df_train_b1.csv\")\n",
    "df_train_b2.to_csv(\"../data/train/df_train_b2.csv\")\n",
    "\n",
    "df_train_b0_f0.to_csv(\"../data/train/df_train_b0_f0.csv\")\n",
    "df_train_b0_f1.to_csv(\"../data/train/df_train_b0_f1.csv\")\n",
    "df_train_b0_f2.to_csv(\"../data/train/df_train_b0_f2.csv\")\n",
    "df_train_b0_f3.to_csv(\"../data/train/df_train_b0_f3.csv\")\n",
    "\n",
    "df_train_b1_f0.to_csv(\"../data/train/df_train_b1_f0.csv\")\n",
    "df_train_b1_f1.to_csv(\"../data/train/df_train_b1_f1.csv\")\n",
    "df_train_b1_f2.to_csv(\"../data/train/df_train_b1_f2.csv\")\n",
    "df_train_b1_f3.to_csv(\"../data/train/df_train_b1_f3.csv\")\n",
    "\n",
    "df_train_b2_f0.to_csv(\"../data/train/df_train_b2_f0.csv\")\n",
    "df_train_b2_f1.to_csv(\"../data/train/df_train_b2_f1.csv\")\n",
    "df_train_b2_f2.to_csv(\"../data/train/df_train_b2_f2.csv\")\n",
    "df_train_b2_f3.to_csv(\"../data/train/df_train_b2_f3.csv\")\n",
    "df_train_b2_f4.to_csv(\"../data/train/df_train_b2_f4.csv\")"
   ]
  },
  {
   "cell_type": "code",
   "execution_count": 20,
   "metadata": {},
   "outputs": [],
   "source": [
    "np.save(\"../data/train/df_train_wap.npy\", df_train_wap)\n",
    "\n",
    "np.save(\"../data/train/df_train_b0_wap.npy\", df_train_b0_wap)\n",
    "np.save(\"../data/train/df_train_b1_wap.npy\", df_train_b1_wap)\n",
    "np.save(\"../data/train/df_train_b2_wap.npy\", df_train_b2_wap)\n",
    "\n",
    "np.save(\"../data/train/df_train_b0_f0_wap.npy\", df_train_b0_f0_wap)\n",
    "np.save(\"../data/train/df_train_b0_f1_wap.npy\", df_train_b0_f1_wap)\n",
    "np.save(\"../data/train/df_train_b0_f2_wap.npy\", df_train_b0_f2_wap)\n",
    "np.save(\"../data/train/df_train_b0_f3_wap.npy\", df_train_b0_f3_wap)\n",
    "\n",
    "np.save(\"../data/train/df_train_b1_f0_wap.npy\", df_train_b1_f0_wap)\n",
    "np.save(\"../data/train/df_train_b1_f1_wap.npy\", df_train_b1_f1_wap)\n",
    "np.save(\"../data/train/df_train_b1_f2_wap.npy\", df_train_b1_f2_wap)\n",
    "np.save(\"../data/train/df_train_b1_f3_wap.npy\", df_train_b1_f3_wap)\n",
    "\n",
    "np.save(\"../data/train/df_train_b2_f0_wap.npy\", df_train_b2_f0_wap)\n",
    "np.save(\"../data/train/df_train_b2_f1_wap.npy\", df_train_b2_f1_wap)\n",
    "np.save(\"../data/train/df_train_b2_f2_wap.npy\", df_train_b2_f2_wap)\n",
    "np.save(\"../data/train/df_train_b2_f3_wap.npy\", df_train_b2_f3_wap)\n",
    "np.save(\"../data/train/df_train_b2_f4_wap.npy\", df_train_b2_f4_wap)"
   ]
  },
  {
   "cell_type": "code",
   "execution_count": 21,
   "metadata": {},
   "outputs": [],
   "source": [
    "# test\n",
    "df_test.to_csv(\"../data/test/df_test.csv\")\n",
    "\n",
    "df_test_b0.to_csv(\"../data/test/df_test_b0.csv\")\n",
    "df_test_b1.to_csv(\"../data/test/df_test_b1.csv\")\n",
    "df_test_b2.to_csv(\"../data/test/df_test_b2.csv\")\n",
    "\n",
    "df_test_b0_f0.to_csv(\"../data/test/df_test_b0_f0.csv\")\n",
    "df_test_b0_f1.to_csv(\"../data/test/df_test_b0_f1.csv\")\n",
    "df_test_b0_f2.to_csv(\"../data/test/df_test_b0_f2.csv\")\n",
    "df_test_b0_f3.to_csv(\"../data/test/df_test_b0_f3.csv\")\n",
    "\n",
    "df_test_b1_f0.to_csv(\"../data/test/df_test_b1_f0.csv\")\n",
    "df_test_b1_f1.to_csv(\"../data/test/df_test_b1_f1.csv\")\n",
    "df_test_b1_f2.to_csv(\"../data/test/df_test_b1_f2.csv\")\n",
    "df_test_b1_f3.to_csv(\"../data/test/df_test_b1_f3.csv\")\n",
    "\n",
    "df_test_b2_f0.to_csv(\"../data/test/df_test_b2_f0.csv\")\n",
    "df_test_b2_f1.to_csv(\"../data/test/df_test_b2_f1.csv\")\n",
    "df_test_b2_f2.to_csv(\"../data/test/df_test_b2_f2.csv\")\n",
    "df_test_b2_f3.to_csv(\"../data/test/df_test_b2_f3.csv\")\n",
    "df_test_b2_f4.to_csv(\"../data/test/df_test_b2_f4.csv\")"
   ]
  },
  {
   "cell_type": "code",
   "execution_count": 23,
   "metadata": {},
   "outputs": [],
   "source": [
    "np.save(\"../data/test/df_test_wap.npy\", df_test_wap)\n",
    "\n",
    "np.save(\"../data/test/df_test_b0_wap.npy\", df_test_b0_wap)\n",
    "np.save(\"../data/test/df_test_b1_wap.npy\", df_test_b1_wap)\n",
    "np.save(\"../data/test/df_test_b2_wap.npy\", df_test_b2_wap)\n",
    "\n",
    "np.save(\"../data/test/df_test_b0_f0_wap.npy\", df_test_b0_f0_wap)\n",
    "np.save(\"../data/test/df_test_b0_f1_wap.npy\", df_test_b0_f1_wap)\n",
    "np.save(\"../data/test/df_test_b0_f2_wap.npy\", df_test_b0_f2_wap)\n",
    "np.save(\"../data/test/df_test_b0_f3_wap.npy\", df_test_b0_f3_wap)\n",
    "\n",
    "np.save(\"../data/test/df_test_b1_f0_wap.npy\", df_test_b1_f0_wap)\n",
    "np.save(\"../data/test/df_test_b1_f1_wap.npy\", df_test_b1_f1_wap)\n",
    "np.save(\"../data/test/df_test_b1_f2_wap.npy\", df_test_b1_f2_wap)\n",
    "np.save(\"../data/test/df_test_b1_f3_wap.npy\", df_test_b1_f3_wap)\n",
    "\n",
    "np.save(\"../data/test/df_test_b2_f0_wap.npy\", df_test_b2_f0_wap)\n",
    "np.save(\"../data/test/df_test_b2_f1_wap.npy\", df_test_b2_f1_wap)\n",
    "np.save(\"../data/test/df_test_b2_f2_wap.npy\", df_test_b2_f2_wap)\n",
    "np.save(\"../data/test/df_test_b2_f3_wap.npy\", df_test_b2_f3_wap)\n",
    "np.save(\"../data/test/df_test_b2_f4_wap.npy\", df_test_b2_f4_wap)"
   ]
  },
  {
   "cell_type": "code",
   "execution_count": null,
   "metadata": {},
   "outputs": [],
   "source": []
  }
 ],
 "metadata": {
  "kernelspec": {
   "display_name": "Python 3.8.0 64-bit ('venv': virtualenv)",
   "language": "python",
   "name": "python38064bitvenvvirtualenve617f17e49084a7c973a4e86cf48a722"
  },
  "language_info": {
   "codemirror_mode": {
    "name": "ipython",
    "version": 3
   },
   "file_extension": ".py",
   "mimetype": "text/x-python",
   "name": "python",
   "nbconvert_exporter": "python",
   "pygments_lexer": "ipython3",
   "version": "3.8.0"
  }
 },
 "nbformat": 4,
 "nbformat_minor": 2
}
