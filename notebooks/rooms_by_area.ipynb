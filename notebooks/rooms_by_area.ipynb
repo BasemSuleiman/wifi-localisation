{
 "cells": [
  {
   "cell_type": "code",
   "execution_count": 1,
   "metadata": {},
   "outputs": [],
   "source": [
    "import sys\n",
    "sys.path.append('..')\n",
    "\n",
    "from utils.misc import *\n",
    "from utils.classifier import *\n",
    "from utils.visualiser import *"
   ]
  },
  {
   "cell_type": "markdown",
   "metadata": {},
   "source": [
    "## Loading pre-processed data"
   ]
  },
  {
   "cell_type": "code",
   "execution_count": 2,
   "metadata": {},
   "outputs": [],
   "source": [
    "# train\n",
    "df_train = pd.read_csv(\"../data/train/df_train.csv\", index_col=0)\n",
    "\n",
    "df_train_b0 = pd.read_csv(\"../data/train/df_train_b0.csv\", index_col=0)\n",
    "df_train_b1 = pd.read_csv(\"../data/train/df_train_b1.csv\", index_col=0)\n",
    "df_train_b2 = pd.read_csv(\"../data/train/df_train_b2.csv\", index_col=0)\n",
    "\n",
    "df_train_b0_f0 = pd.read_csv(\"../data/train/df_train_b0_f0.csv\", index_col=0)\n",
    "df_train_b0_f1 = pd.read_csv(\"../data/train/df_train_b0_f1.csv\", index_col=0)\n",
    "df_train_b0_f2 = pd.read_csv(\"../data/train/df_train_b0_f2.csv\", index_col=0)\n",
    "df_train_b0_f3 = pd.read_csv(\"../data/train/df_train_b0_f3.csv\", index_col=0)\n",
    "\n",
    "df_train_b1_f0 = pd.read_csv(\"../data/train/df_train_b1_f0.csv\", index_col=0)\n",
    "df_train_b1_f1 = pd.read_csv(\"../data/train/df_train_b1_f1.csv\", index_col=0)\n",
    "df_train_b1_f2 = pd.read_csv(\"../data/train/df_train_b1_f2.csv\", index_col=0)\n",
    "df_train_b1_f3 = pd.read_csv(\"../data/train/df_train_b1_f3.csv\", index_col=0)\n",
    "\n",
    "df_train_b2_f0 = pd.read_csv(\"../data/train/df_train_b2_f0.csv\", index_col=0)\n",
    "df_train_b2_f1 = pd.read_csv(\"../data/train/df_train_b2_f1.csv\", index_col=0)\n",
    "df_train_b2_f2 = pd.read_csv(\"../data/train/df_train_b2_f2.csv\", index_col=0)\n",
    "df_train_b2_f3 = pd.read_csv(\"../data/train/df_train_b2_f3.csv\", index_col=0)\n",
    "df_train_b2_f4 = pd.read_csv(\"../data/train/df_train_b2_f4.csv\", index_col=0)\n",
    "\n",
    "df_train_wap = np.load(\"../data/train/df_train_wap.npy\", allow_pickle=True)\n",
    "\n",
    "df_train_b0_wap = np.load(\"../data/train/df_train_b0_wap.npy\", allow_pickle=True)\n",
    "df_train_b1_wap = np.load(\"../data/train/df_train_b1_wap.npy\", allow_pickle=True)\n",
    "df_train_b2_wap = np.load(\"../data/train/df_train_b2_wap.npy\", allow_pickle=True)\n",
    "\n",
    "df_train_b0_f0_wap = np.load(\"../data/train/df_train_b0_f0_wap.npy\", allow_pickle=True)\n",
    "df_train_b0_f1_wap = np.load(\"../data/train/df_train_b0_f1_wap.npy\", allow_pickle=True)\n",
    "df_train_b0_f2_wap = np.load(\"../data/train/df_train_b0_f2_wap.npy\", allow_pickle=True)\n",
    "df_train_b0_f3_wap = np.load(\"../data/train/df_train_b0_f3_wap.npy\", allow_pickle=True)\n",
    "\n",
    "df_train_b1_f0_wap = np.load(\"../data/train/df_train_b1_f0_wap.npy\", allow_pickle=True)\n",
    "df_train_b1_f1_wap = np.load(\"../data/train/df_train_b1_f1_wap.npy\", allow_pickle=True)\n",
    "df_train_b1_f2_wap = np.load(\"../data/train/df_train_b1_f2_wap.npy\", allow_pickle=True)\n",
    "df_train_b1_f3_wap = np.load(\"../data/train/df_train_b1_f3_wap.npy\", allow_pickle=True)\n",
    "\n",
    "df_train_b2_f0_wap = np.load(\"../data/train/df_train_b2_f0_wap.npy\", allow_pickle=True)\n",
    "df_train_b2_f1_wap = np.load(\"../data/train/df_train_b2_f1_wap.npy\", allow_pickle=True)\n",
    "df_train_b2_f2_wap = np.load(\"../data/train/df_train_b2_f2_wap.npy\", allow_pickle=True)\n",
    "df_train_b2_f3_wap = np.load(\"../data/train/df_train_b2_f3_wap.npy\", allow_pickle=True)\n",
    "df_train_b2_f4_wap = np.load(\"../data/train/df_train_b2_f4_wap.npy\", allow_pickle=True)"
   ]
  },
  {
   "cell_type": "code",
   "execution_count": 3,
   "metadata": {},
   "outputs": [],
   "source": [
    "# test\n",
    "df_test = pd.read_csv(\"../data/test/df_test.csv\", index_col=0)"
   ]
  },
  {
   "cell_type": "markdown",
   "metadata": {},
   "source": [
    "## Dividing space by direction\n"
   ]
  },
  {
   "cell_type": "markdown",
   "metadata": {},
   "source": [
    "### Building 0"
   ]
  },
  {
   "cell_type": "code",
   "execution_count": 4,
   "metadata": {},
   "outputs": [],
   "source": [
    "lat_split = np.mean(df_train_b0['LATITUDE'].astype(float))\n",
    "# long_split = np.mean(df_train_b0['LONGITUDE'].astype(float))\n",
    "\n",
    "# NE\n",
    "df_train_b0_ne = df_train_b0[(df_train_b0['LATITUDE'] >= lat_split) & \n",
    "                             (df_train_b0['LONGITUDE'] >= -7629)]\n",
    "# NW\n",
    "df_train_b0_nw = df_train_b0[(df_train_b0['LATITUDE'] >= lat_split) & \n",
    "                             (df_train_b0['LONGITUDE'] < -7629)]\n",
    "# SE\n",
    "df_train_b0_se = df_train_b0[(df_train_b0['LATITUDE'] < lat_split) & \n",
    "                             (df_train_b0['LONGITUDE'] >= -7655)]\n",
    "# SW\n",
    "df_train_b0_sw = df_train_b0[(df_train_b0['LATITUDE'] < lat_split) & \n",
    "                             (df_train_b0['LONGITUDE'] < -7655)]"
   ]
  },
  {
   "cell_type": "code",
   "execution_count": 5,
   "metadata": {},
   "outputs": [],
   "source": [
    "# floors in NE\n",
    "df_train_b0_ne_f0 = df_train_b0_ne[df_train_b0_ne['FLOOR'] == 0]\n",
    "df_train_b0_ne_f1 = df_train_b0_ne[df_train_b0_ne['FLOOR'] == 1]\n",
    "df_train_b0_ne_f2 = df_train_b0_ne[df_train_b0_ne['FLOOR'] == 2]\n",
    "df_train_b0_ne_f3 = df_train_b0_ne[df_train_b0_ne['FLOOR'] == 3]\n",
    "\n",
    "# floors in NW\n",
    "df_train_b0_nw_f0 = df_train_b0_nw[df_train_b0_nw['FLOOR'] == 0]\n",
    "df_train_b0_nw_f1 = df_train_b0_nw[df_train_b0_nw['FLOOR'] == 1]\n",
    "df_train_b0_nw_f2 = df_train_b0_nw[df_train_b0_nw['FLOOR'] == 2]\n",
    "df_train_b0_nw_f3 = df_train_b0_nw[df_train_b0_nw['FLOOR'] == 3]\n",
    "\n",
    "# floors in SE\n",
    "df_train_b0_se_f0 = df_train_b0_se[df_train_b0_se['FLOOR'] == 0]\n",
    "df_train_b0_se_f1 = df_train_b0_se[df_train_b0_se['FLOOR'] == 1]\n",
    "df_train_b0_se_f2 = df_train_b0_se[df_train_b0_se['FLOOR'] == 2]\n",
    "df_train_b0_se_f3 = df_train_b0_se[df_train_b0_se['FLOOR'] == 3]\n",
    "\n",
    "# floors in SW\n",
    "df_train_b0_sw_f0 = df_train_b0_sw[df_train_b0_sw['FLOOR'] == 0]\n",
    "df_train_b0_sw_f1 = df_train_b0_sw[df_train_b0_sw['FLOOR'] == 1]\n",
    "df_train_b0_sw_f2 = df_train_b0_sw[df_train_b0_sw['FLOOR'] == 2]\n",
    "df_train_b0_sw_f3 = df_train_b0_sw[df_train_b0_sw['FLOOR'] == 3]"
   ]
  },
  {
   "cell_type": "markdown",
   "metadata": {},
   "source": [
    "### Building 1"
   ]
  },
  {
   "cell_type": "code",
   "execution_count": 6,
   "metadata": {},
   "outputs": [],
   "source": [
    "# NE\n",
    "df_train_b1_ne = df_train_b1[(df_train_b1['LATITUDE'] >= 4864850) & \n",
    "                             (df_train_b1['LONGITUDE'] >= -7465)]\n",
    "# NW\n",
    "df_train_b1_nw = df_train_b1[(df_train_b1['LATITUDE'] >= 4864900) & \n",
    "                             (df_train_b1['LONGITUDE'] < -7510)]\n",
    "# SE\n",
    "df_train_b1_se = df_train_b1[(df_train_b1['LATITUDE'] < 4864855) & \n",
    "                             (df_train_b1['LONGITUDE'] >= -7480)]\n",
    "# SW\n",
    "df_train_b1_sw = df_train_b1[(df_train_b1['LATITUDE'] < 4864900) & \n",
    "                             (df_train_b1['LONGITUDE'] < -7540)]\n",
    "\n",
    "# CENTRE\n",
    "df_train_b1_ct = df_train_b1[(df_train_b1['LATITUDE'] >= 4864830) & \n",
    "                             (df_train_b1['LATITUDE'] < 4864920) &\n",
    "                             (df_train_b1['LONGITUDE'] >= -7540) &\n",
    "                             (df_train_b1['LONGITUDE'] < -7465)]"
   ]
  },
  {
   "cell_type": "code",
   "execution_count": 7,
   "metadata": {},
   "outputs": [],
   "source": [
    "# floors in NE\n",
    "df_train_b1_ne_f0 = df_train_b1_ne[df_train_b1_ne['FLOOR'] == 0]\n",
    "df_train_b1_ne_f1 = df_train_b1_ne[df_train_b1_ne['FLOOR'] == 1]\n",
    "df_train_b1_ne_f2 = df_train_b1_ne[df_train_b1_ne['FLOOR'] == 2]\n",
    "df_train_b1_ne_f3 = df_train_b1_ne[df_train_b1_ne['FLOOR'] == 3]\n",
    "\n",
    "# floors in NW\n",
    "df_train_b1_nw_f0 = df_train_b1_nw[df_train_b1_nw['FLOOR'] == 0]\n",
    "df_train_b1_nw_f1 = df_train_b1_nw[df_train_b1_nw['FLOOR'] == 1]\n",
    "df_train_b1_nw_f2 = df_train_b1_nw[df_train_b1_nw['FLOOR'] == 2]\n",
    "df_train_b1_nw_f3 = df_train_b1_nw[df_train_b1_nw['FLOOR'] == 3]\n",
    "\n",
    "# floors in SE\n",
    "df_train_b1_se_f0 = df_train_b1_se[df_train_b1_se['FLOOR'] == 0]\n",
    "df_train_b1_se_f1 = df_train_b1_se[df_train_b1_se['FLOOR'] == 1]\n",
    "df_train_b1_se_f2 = df_train_b1_se[df_train_b1_se['FLOOR'] == 2]\n",
    "df_train_b1_se_f3 = df_train_b1_se[df_train_b1_se['FLOOR'] == 3]\n",
    "\n",
    "# floors in SW\n",
    "df_train_b1_sw_f0 = df_train_b1_sw[df_train_b1_sw['FLOOR'] == 0]\n",
    "df_train_b1_sw_f1 = df_train_b1_sw[df_train_b1_sw['FLOOR'] == 1]\n",
    "df_train_b1_sw_f2 = df_train_b1_sw[df_train_b1_sw['FLOOR'] == 2]\n",
    "df_train_b1_sw_f3 = df_train_b1_sw[df_train_b1_sw['FLOOR'] == 3]\n",
    "\n",
    "# floors in CT\n",
    "df_train_b1_ct_f0 = df_train_b1_ct[df_train_b1_ct['FLOOR'] == 0]\n",
    "df_train_b1_ct_f1 = df_train_b1_ct[df_train_b1_ct['FLOOR'] == 1]\n",
    "df_train_b1_ct_f2 = df_train_b1_ct[df_train_b1_ct['FLOOR'] == 2]\n",
    "df_train_b1_ct_f3 = df_train_b1_ct[df_train_b1_ct['FLOOR'] == 3]"
   ]
  },
  {
   "cell_type": "markdown",
   "metadata": {},
   "source": [
    "### Building 2"
   ]
  },
  {
   "cell_type": "code",
   "execution_count": 8,
   "metadata": {},
   "outputs": [],
   "source": [
    "# NE\n",
    "df_train_b2_ne = df_train_b2[(df_train_b2['LATITUDE'] >= 4864780) & \n",
    "                             (df_train_b2['LONGITUDE'] >= -7345)]\n",
    "# NW\n",
    "df_train_b2_nw = df_train_b2[(df_train_b2['LATITUDE'] >= 4864820) & \n",
    "                             (df_train_b2['LONGITUDE'] < -7340)]\n",
    "# SE\n",
    "df_train_b2_se = df_train_b2[(df_train_b2['LATITUDE'] < 4864780) & \n",
    "                             (df_train_b2['LONGITUDE'] >= -7375)]\n",
    "# SW\n",
    "df_train_b2_sw = df_train_b2[(df_train_b2['LATITUDE'] < 4864820) & \n",
    "                             (df_train_b2['LONGITUDE'] < -7375)]"
   ]
  },
  {
   "cell_type": "code",
   "execution_count": 9,
   "metadata": {},
   "outputs": [],
   "source": [
    "# floors in NE\n",
    "df_train_b2_ne_f0 = df_train_b2_ne[df_train_b2_ne['FLOOR'] == 0]\n",
    "df_train_b2_ne_f1 = df_train_b2_ne[df_train_b2_ne['FLOOR'] == 1]\n",
    "df_train_b2_ne_f2 = df_train_b2_ne[df_train_b2_ne['FLOOR'] == 2]\n",
    "df_train_b2_ne_f3 = df_train_b2_ne[df_train_b2_ne['FLOOR'] == 3]\n",
    "df_train_b2_ne_f4 = df_train_b2_ne[df_train_b2_ne['FLOOR'] == 4]\n",
    "\n",
    "# floors in NW\n",
    "df_train_b2_nw_f0 = df_train_b2_nw[df_train_b2_nw['FLOOR'] == 0]\n",
    "df_train_b2_nw_f1 = df_train_b2_nw[df_train_b2_nw['FLOOR'] == 1]\n",
    "df_train_b2_nw_f2 = df_train_b2_nw[df_train_b2_nw['FLOOR'] == 2]\n",
    "df_train_b2_nw_f3 = df_train_b2_nw[df_train_b2_nw['FLOOR'] == 3]\n",
    "df_train_b2_nw_f4 = df_train_b2_nw[df_train_b2_nw['FLOOR'] == 4]\n",
    "\n",
    "# floors in SE\n",
    "df_train_b2_se_f0 = df_train_b2_se[df_train_b2_se['FLOOR'] == 0]\n",
    "df_train_b2_se_f1 = df_train_b2_se[df_train_b2_se['FLOOR'] == 1]\n",
    "df_train_b2_se_f2 = df_train_b2_se[df_train_b2_se['FLOOR'] == 2]\n",
    "df_train_b2_se_f3 = df_train_b2_se[df_train_b2_se['FLOOR'] == 3]\n",
    "df_train_b2_se_f4 = df_train_b2_se[df_train_b2_se['FLOOR'] == 4]\n",
    "\n",
    "# floors in SW\n",
    "df_train_b2_sw_f0 = df_train_b2_sw[df_train_b2_sw['FLOOR'] == 0]\n",
    "df_train_b2_sw_f1 = df_train_b2_sw[df_train_b2_sw['FLOOR'] == 1]\n",
    "df_train_b2_sw_f2 = df_train_b2_sw[df_train_b2_sw['FLOOR'] == 2]\n",
    "df_train_b2_sw_f3 = df_train_b2_sw[df_train_b2_sw['FLOOR'] == 3]\n",
    "df_train_b2_sw_f4 = df_train_b2_sw[df_train_b2_sw['FLOOR'] == 4]"
   ]
  },
  {
   "cell_type": "markdown",
   "metadata": {},
   "source": [
    "## Normalisation & PCA"
   ]
  },
  {
   "cell_type": "code",
   "execution_count": 10,
   "metadata": {},
   "outputs": [],
   "source": [
    "from sklearn.preprocessing import StandardScaler\n",
    "from sklearn.decomposition import PCA\n",
    "\n",
    "def preprocess(data, filename='df'):\n",
    "    ss = StandardScaler()\n",
    "    pca = PCA(n_components=.95)\n",
    "    df = data.iloc[:, :465]\n",
    "    df = ss.fit_transform(df)\n",
    "    df = pca.fit_transform(df)\n",
    "    \n",
    "    data.to_csv(\"../data/train/area/\" + filename + \".csv\")\n",
    "    np.save(\"../data/train/area/\" + filename + \"_wap.npy\", df)"
   ]
  },
  {
   "cell_type": "markdown",
   "metadata": {},
   "source": [
    "### Building 0"
   ]
  },
  {
   "cell_type": "code",
   "execution_count": 11,
   "metadata": {},
   "outputs": [],
   "source": [
    "kwargs = {\n",
    "    'data'    : df_train_b0_ne,\n",
    "    'filename': 'df_train_b0_ne'\n",
    "}\n",
    "\n",
    "preprocess(**kwargs)"
   ]
  },
  {
   "cell_type": "code",
   "execution_count": 12,
   "metadata": {},
   "outputs": [],
   "source": [
    "kwargs = {\n",
    "    'data'    : df_train_b0_nw,\n",
    "    'filename': 'df_train_b0_nw'\n",
    "}\n",
    "\n",
    "preprocess(**kwargs)"
   ]
  },
  {
   "cell_type": "code",
   "execution_count": 13,
   "metadata": {},
   "outputs": [],
   "source": [
    "kwargs = {\n",
    "    'data'    : df_train_b0_se,\n",
    "    'filename': 'df_train_b0_se'\n",
    "}\n",
    "\n",
    "preprocess(**kwargs)"
   ]
  },
  {
   "cell_type": "code",
   "execution_count": 14,
   "metadata": {},
   "outputs": [],
   "source": [
    "kwargs = {\n",
    "    'data'    : df_train_b0_sw,\n",
    "    'filename': 'df_train_b0_sw'\n",
    "}\n",
    "\n",
    "preprocess(**kwargs)"
   ]
  },
  {
   "cell_type": "code",
   "execution_count": 15,
   "metadata": {},
   "outputs": [],
   "source": [
    "preprocess(df_train_b0_ne_f0, 'df_train_b0_ne_f0')\n",
    "preprocess(df_train_b0_ne_f1, 'df_train_b0_ne_f1')\n",
    "preprocess(df_train_b0_ne_f2, 'df_train_b0_ne_f2')\n",
    "preprocess(df_train_b0_ne_f3, 'df_train_b0_ne_f3')\n",
    "\n",
    "preprocess(df_train_b0_nw_f0, 'df_train_b0_nw_f0')\n",
    "preprocess(df_train_b0_nw_f1, 'df_train_b0_nw_f1')\n",
    "preprocess(df_train_b0_nw_f2, 'df_train_b0_nw_f2')\n",
    "preprocess(df_train_b0_nw_f3, 'df_train_b0_nw_f3')\n",
    "\n",
    "preprocess(df_train_b0_se_f0, 'df_train_b0_se_f0')\n",
    "preprocess(df_train_b0_se_f1, 'df_train_b0_se_f1')\n",
    "preprocess(df_train_b0_se_f2, 'df_train_b0_se_f2')\n",
    "preprocess(df_train_b0_se_f3, 'df_train_b0_se_f3')\n",
    "\n",
    "preprocess(df_train_b0_sw_f0, 'df_train_b0_sw_f0')\n",
    "preprocess(df_train_b0_sw_f1, 'df_train_b0_sw_f1')\n",
    "preprocess(df_train_b0_sw_f2, 'df_train_b0_sw_f2')\n",
    "preprocess(df_train_b0_sw_f3, 'df_train_b0_sw_f3')"
   ]
  },
  {
   "cell_type": "markdown",
   "metadata": {},
   "source": [
    "### Building 1"
   ]
  },
  {
   "cell_type": "code",
   "execution_count": 16,
   "metadata": {},
   "outputs": [],
   "source": [
    "kwargs = {\n",
    "    'data'    : df_train_b1_ne,\n",
    "    'filename': 'df_train_b1_ne'\n",
    "}\n",
    "\n",
    "preprocess(**kwargs)"
   ]
  },
  {
   "cell_type": "code",
   "execution_count": 17,
   "metadata": {},
   "outputs": [],
   "source": [
    "kwargs = {\n",
    "    'data'    : df_train_b1_nw,\n",
    "    'filename': 'df_train_b1_nw'\n",
    "}\n",
    "\n",
    "preprocess(**kwargs)"
   ]
  },
  {
   "cell_type": "code",
   "execution_count": 18,
   "metadata": {},
   "outputs": [],
   "source": [
    "kwargs = {\n",
    "    'data'    : df_train_b1_se,\n",
    "    'filename': 'df_train_b1_se'\n",
    "}\n",
    "\n",
    "preprocess(**kwargs)"
   ]
  },
  {
   "cell_type": "code",
   "execution_count": 19,
   "metadata": {},
   "outputs": [],
   "source": [
    "kwargs = {\n",
    "    'data'    : df_train_b1_sw,\n",
    "    'filename': 'df_train_b1_sw'\n",
    "}\n",
    "\n",
    "preprocess(**kwargs)"
   ]
  },
  {
   "cell_type": "code",
   "execution_count": 20,
   "metadata": {},
   "outputs": [],
   "source": [
    "kwargs = {\n",
    "    'data'    : df_train_b1_ct,\n",
    "    'filename': 'df_train_b1_ct'\n",
    "}\n",
    "\n",
    "preprocess(**kwargs)"
   ]
  },
  {
   "cell_type": "code",
   "execution_count": 21,
   "metadata": {},
   "outputs": [],
   "source": [
    "preprocess(df_train_b1_ne_f0, 'df_train_b1_ne_f0')\n",
    "preprocess(df_train_b1_ne_f1, 'df_train_b1_ne_f1')\n",
    "preprocess(df_train_b1_ne_f2, 'df_train_b1_ne_f2')\n",
    "preprocess(df_train_b1_ne_f3, 'df_train_b1_ne_f3')\n",
    "\n",
    "preprocess(df_train_b1_nw_f0, 'df_train_b1_nw_f0')\n",
    "preprocess(df_train_b1_nw_f1, 'df_train_b1_nw_f1')\n",
    "preprocess(df_train_b1_nw_f2, 'df_train_b1_nw_f2')\n",
    "preprocess(df_train_b1_nw_f3, 'df_train_b1_nw_f3')\n",
    "\n",
    "preprocess(df_train_b1_se_f0, 'df_train_b1_se_f0')\n",
    "preprocess(df_train_b1_se_f1, 'df_train_b1_se_f1')\n",
    "preprocess(df_train_b1_se_f2, 'df_train_b1_se_f2')\n",
    "preprocess(df_train_b1_se_f3, 'df_train_b1_se_f3')\n",
    "\n",
    "preprocess(df_train_b1_sw_f0, 'df_train_b1_sw_f0')\n",
    "preprocess(df_train_b1_sw_f1, 'df_train_b1_sw_f1')\n",
    "preprocess(df_train_b1_sw_f2, 'df_train_b1_sw_f2')\n",
    "preprocess(df_train_b1_sw_f3, 'df_train_b1_sw_f3')\n",
    "\n",
    "preprocess(df_train_b1_ct_f0, 'df_train_b1_ct_f0')\n",
    "preprocess(df_train_b1_ct_f1, 'df_train_b1_ct_f1')\n",
    "preprocess(df_train_b1_ct_f2, 'df_train_b1_ct_f2')\n",
    "preprocess(df_train_b1_ct_f3, 'df_train_b1_ct_f3')"
   ]
  },
  {
   "cell_type": "markdown",
   "metadata": {},
   "source": [
    "### Building 2"
   ]
  },
  {
   "cell_type": "code",
   "execution_count": 22,
   "metadata": {},
   "outputs": [],
   "source": [
    "kwargs = {\n",
    "    'data'    : df_train_b2_ne,\n",
    "    'filename': 'df_train_b2_ne'\n",
    "}\n",
    "\n",
    "preprocess(**kwargs)"
   ]
  },
  {
   "cell_type": "code",
   "execution_count": 23,
   "metadata": {},
   "outputs": [],
   "source": [
    "kwargs = {\n",
    "    'data'    : df_train_b2_nw,\n",
    "    'filename': 'df_train_b2_nw'\n",
    "}\n",
    "\n",
    "preprocess(**kwargs)"
   ]
  },
  {
   "cell_type": "code",
   "execution_count": 24,
   "metadata": {},
   "outputs": [],
   "source": [
    "kwargs = {\n",
    "    'data'    : df_train_b2_se,\n",
    "    'filename': 'df_train_b2_se'\n",
    "}\n",
    "\n",
    "preprocess(**kwargs)"
   ]
  },
  {
   "cell_type": "code",
   "execution_count": 25,
   "metadata": {},
   "outputs": [],
   "source": [
    "kwargs = {\n",
    "    'data'    : df_train_b2_sw,\n",
    "    'filename': 'df_train_b2_sw'\n",
    "}\n",
    "\n",
    "preprocess(**kwargs)"
   ]
  },
  {
   "cell_type": "code",
   "execution_count": 28,
   "metadata": {},
   "outputs": [],
   "source": [
    "preprocess(df_train_b2_ne_f0, 'df_train_b2_ne_f0')\n",
    "preprocess(df_train_b2_ne_f1, 'df_train_b2_ne_f1')\n",
    "preprocess(df_train_b2_ne_f2, 'df_train_b2_ne_f2')\n",
    "preprocess(df_train_b2_ne_f3, 'df_train_b2_ne_f3')\n",
    "preprocess(df_train_b2_ne_f4, 'df_train_b2_ne_f4')\n",
    "\n",
    "preprocess(df_train_b2_nw_f0, 'df_train_b2_nw_f0')\n",
    "preprocess(df_train_b2_nw_f1, 'df_train_b2_nw_f1')\n",
    "preprocess(df_train_b2_nw_f2, 'df_train_b2_nw_f2')\n",
    "preprocess(df_train_b2_nw_f3, 'df_train_b2_nw_f3')\n",
    "preprocess(df_train_b2_nw_f4, 'df_train_b2_nw_f4')\n",
    "\n",
    "preprocess(df_train_b2_se_f0, 'df_train_b2_se_f0')\n",
    "preprocess(df_train_b2_se_f1, 'df_train_b2_se_f1')\n",
    "preprocess(df_train_b2_se_f2, 'df_train_b2_se_f2')\n",
    "preprocess(df_train_b2_se_f3, 'df_train_b2_se_f3')\n",
    "# preprocess(df_train_b2_se_f4, 'df_train_b2_se_f4') # no samples\n",
    "\n",
    "preprocess(df_train_b2_sw_f0, 'df_train_b2_sw_f0')\n",
    "preprocess(df_train_b2_sw_f1, 'df_train_b2_sw_f1')\n",
    "preprocess(df_train_b2_sw_f2, 'df_train_b2_sw_f2')\n",
    "preprocess(df_train_b2_sw_f3, 'df_train_b2_sw_f3')\n",
    "preprocess(df_train_b2_sw_f4, 'df_train_b2_sw_f4')"
   ]
  },
  {
   "cell_type": "code",
   "execution_count": null,
   "metadata": {},
   "outputs": [],
   "source": []
  }
 ],
 "metadata": {
  "kernelspec": {
   "display_name": "Python 3.8.0 64-bit ('venv': virtualenv)",
   "language": "python",
   "name": "python38064bitvenvvirtualenve617f17e49084a7c973a4e86cf48a722"
  },
  "language_info": {
   "codemirror_mode": {
    "name": "ipython",
    "version": 3
   },
   "file_extension": ".py",
   "mimetype": "text/x-python",
   "name": "python",
   "nbconvert_exporter": "python",
   "pygments_lexer": "ipython3",
   "version": "3.8.0"
  }
 },
 "nbformat": 4,
 "nbformat_minor": 2
}
